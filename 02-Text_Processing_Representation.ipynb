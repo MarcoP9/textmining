{
 "cells": [
  {
   "cell_type": "markdown",
   "id": "disciplinary-economics",
   "metadata": {},
   "source": [
    "# Text mining & Search Project\n",
    "\n",
    "### Università degli Studi di Milano-Bicocca  2020/2021\n",
    "\n",
    "**Luzzi Federico** (matricola) **Peracchi Marco** 800578"
   ]
  },
  {
   "cell_type": "markdown",
   "id": "pacific-peeing",
   "metadata": {},
   "source": [
    "# Text Processing & Representation\n",
    "\n",
    "In questa fase del progetto vengono applicate le fasi del text processing, come la tokenization, e molte altre, al fine di permettere la fase successiva di text representation."
   ]
  },
  {
   "cell_type": "code",
   "execution_count": 1,
   "id": "effective-level",
   "metadata": {},
   "outputs": [],
   "source": [
    "# Librerie base\n",
    "import nltk\n",
    "import pandas as pd\n",
    "import re\n",
    "import os\n",
    "import string\n",
    "import matplotlib.pyplot as plt\n",
    "import sklearn\n",
    "from wordcloud import WordCloud"
   ]
  },
  {
   "cell_type": "code",
   "execution_count": 2,
   "id": "hundred-reduction",
   "metadata": {},
   "outputs": [],
   "source": [
    "# Librerie per la text tokenization\n",
    "from nltk.tokenize import TweetTokenizer\n",
    "from nltk.tokenize import  WordPunctTokenizer\n",
    "from nltk.tokenize import  BlanklineTokenizer"
   ]
  },
  {
   "cell_type": "code",
   "execution_count": 3,
   "id": "miniature-profile",
   "metadata": {},
   "outputs": [],
   "source": [
    "# Librerie per stemming e lemmatization\n",
    "from nltk.stem.porter import PorterStemmer\n",
    "from nltk.stem import WordNetLemmatizer"
   ]
  },
  {
   "cell_type": "code",
   "execution_count": 4,
   "id": "valued-property",
   "metadata": {},
   "outputs": [],
   "source": [
    "# Librerie per text representation\n",
    "from sklearn.feature_extraction.text import CountVectorizer\n",
    "from sklearn.feature_extraction.text import TfidfVectorizer\n",
    "from gensim.models.doc2vec import Doc2Vec, TaggedDocument # doc2vec"
   ]
  },
  {
   "cell_type": "code",
   "execution_count": 5,
   "id": "wrapped-recognition",
   "metadata": {},
   "outputs": [
    {
     "name": "stderr",
     "output_type": "stream",
     "text": [
      "[nltk_data] Downloading package stopwords to\n",
      "[nltk_data]     C:\\Users\\Marco\\AppData\\Roaming\\nltk_data...\n",
      "[nltk_data]   Package stopwords is already up-to-date!\n",
      "[nltk_data] Downloading package averaged_perceptron_tagger to\n",
      "[nltk_data]     C:\\Users\\Marco\\AppData\\Roaming\\nltk_data...\n",
      "[nltk_data]   Package averaged_perceptron_tagger is already up-to-\n",
      "[nltk_data]       date!\n",
      "[nltk_data] Downloading package wordnet to\n",
      "[nltk_data]     C:\\Users\\Marco\\AppData\\Roaming\\nltk_data...\n",
      "[nltk_data]   Package wordnet is already up-to-date!\n"
     ]
    },
    {
     "data": {
      "text/plain": [
       "True"
      ]
     },
     "execution_count": 5,
     "metadata": {},
     "output_type": "execute_result"
    }
   ],
   "source": [
    "# Download dei contenuti necessari\n",
    "nltk.download(\"stopwords\")\n",
    "stop_words = nltk.corpus.stopwords.words(\"english\")\n",
    "nltk.download('averaged_perceptron_tagger')\n",
    "nltk.download('wordnet')"
   ]
  },
  {
   "cell_type": "code",
   "execution_count": 6,
   "id": "essential-instruction",
   "metadata": {},
   "outputs": [
    {
     "data": {
      "text/html": [
       "<div>\n",
       "<style scoped>\n",
       "    .dataframe tbody tr th:only-of-type {\n",
       "        vertical-align: middle;\n",
       "    }\n",
       "\n",
       "    .dataframe tbody tr th {\n",
       "        vertical-align: top;\n",
       "    }\n",
       "\n",
       "    .dataframe thead th {\n",
       "        text-align: right;\n",
       "    }\n",
       "</style>\n",
       "<table border=\"1\" class=\"dataframe\">\n",
       "  <thead>\n",
       "    <tr style=\"text-align: right;\">\n",
       "      <th></th>\n",
       "      <th>count</th>\n",
       "      <th>hate_speech</th>\n",
       "      <th>offensive_language</th>\n",
       "      <th>neither</th>\n",
       "      <th>class</th>\n",
       "      <th>tweet</th>\n",
       "    </tr>\n",
       "  </thead>\n",
       "  <tbody>\n",
       "    <tr>\n",
       "      <th>0</th>\n",
       "      <td>3</td>\n",
       "      <td>0</td>\n",
       "      <td>0</td>\n",
       "      <td>3</td>\n",
       "      <td>2</td>\n",
       "      <td>!!! RT @mayasolovely: As a woman you shouldn't...</td>\n",
       "    </tr>\n",
       "    <tr>\n",
       "      <th>1</th>\n",
       "      <td>3</td>\n",
       "      <td>0</td>\n",
       "      <td>3</td>\n",
       "      <td>0</td>\n",
       "      <td>1</td>\n",
       "      <td>!!!!! RT @mleew17: boy dats cold...tyga dwn ba...</td>\n",
       "    </tr>\n",
       "    <tr>\n",
       "      <th>2</th>\n",
       "      <td>3</td>\n",
       "      <td>0</td>\n",
       "      <td>3</td>\n",
       "      <td>0</td>\n",
       "      <td>1</td>\n",
       "      <td>!!!!!!! RT @UrKindOfBrand Dawg!!!! RT @80sbaby...</td>\n",
       "    </tr>\n",
       "    <tr>\n",
       "      <th>3</th>\n",
       "      <td>3</td>\n",
       "      <td>0</td>\n",
       "      <td>2</td>\n",
       "      <td>1</td>\n",
       "      <td>1</td>\n",
       "      <td>!!!!!!!!! RT @C_G_Anderson: @viva_based she lo...</td>\n",
       "    </tr>\n",
       "    <tr>\n",
       "      <th>4</th>\n",
       "      <td>6</td>\n",
       "      <td>0</td>\n",
       "      <td>6</td>\n",
       "      <td>0</td>\n",
       "      <td>1</td>\n",
       "      <td>!!!!!!!!!!!!! RT @ShenikaRoberts: The shit you...</td>\n",
       "    </tr>\n",
       "  </tbody>\n",
       "</table>\n",
       "</div>"
      ],
      "text/plain": [
       "   count  hate_speech  offensive_language  neither  class  \\\n",
       "0      3            0                   0        3      2   \n",
       "1      3            0                   3        0      1   \n",
       "2      3            0                   3        0      1   \n",
       "3      3            0                   2        1      1   \n",
       "4      6            0                   6        0      1   \n",
       "\n",
       "                                               tweet  \n",
       "0  !!! RT @mayasolovely: As a woman you shouldn't...  \n",
       "1  !!!!! RT @mleew17: boy dats cold...tyga dwn ba...  \n",
       "2  !!!!!!! RT @UrKindOfBrand Dawg!!!! RT @80sbaby...  \n",
       "3  !!!!!!!!! RT @C_G_Anderson: @viva_based she lo...  \n",
       "4  !!!!!!!!!!!!! RT @ShenikaRoberts: The shit you...  "
      ]
     },
     "execution_count": 6,
     "metadata": {},
     "output_type": "execute_result"
    }
   ],
   "source": [
    "# Lettura del dataset\n",
    "df = pd.read_csv(\"data/labeled_data.csv\", sep = ',').drop(\"Unnamed: 0\", axis=1)\n",
    "df.head()"
   ]
  },
  {
   "cell_type": "code",
   "execution_count": 7,
   "id": "latter-genome",
   "metadata": {},
   "outputs": [
    {
     "data": {
      "text/plain": [
       "\"RT @shakiraevanss: Criticize Amanda for saying the n word, sure, but don't make jokes about her sexual assault, don't be trash.\""
      ]
     },
     "execution_count": 7,
     "metadata": {},
     "output_type": "execute_result"
    }
   ],
   "source": [
    "# Testo esempio\n",
    "text = df[\"tweet\"][19999]\n",
    "text"
   ]
  },
  {
   "cell_type": "markdown",
   "id": "persistent-semester",
   "metadata": {},
   "source": [
    "### Preprocessing"
   ]
  },
  {
   "cell_type": "code",
   "execution_count": 8,
   "id": "familiar-appreciation",
   "metadata": {},
   "outputs": [],
   "source": [
    "def preprocessing(text):\n",
    "    text = text.lower() # Lowering case\n",
    "    remove_url = re.sub(r'(https?:\\/\\/(?:www\\.|(?!www))[a-zA-Z0-9][a-zA-Z0-9-]+[a-zA-Z0-9]\\.[^\\s]{2,}|www\\.[a-zA-Z0-9][a-zA-Z0-9-]+[a-zA-Z0-9]\\.[^\\s]{2,}|https?:\\/\\/(?:www\\.|(?!www))[a-zA-Z0-9]+\\.[^\\s]{2,}|www\\.[a-zA-Z0-9]+\\.[^\\s]{2,})', ' ', text) # Removing url\n",
    "    remove_retweet = re.sub(r\"@\\w+\", \" \",remove_url) # Removing retweet\n",
    "    remove_retweet = re.sub(r\"&\\w+\", \" \",remove_retweet) # Remove &amp\n",
    "    remove_retweet = re.sub(r\"\\b([!#\\$%&\\\\\\(\\)\\*\\+,-\\./:;<=>\\?@\\[\\]\\^_`\\{|\\}\\\"~]+)\\b\", \" \",remove_retweet) # Must check this one\n",
    "    remove_retweet = re.sub(r\"([a-z])\\1{3,}\", r\"\\1\",remove_retweet)\n",
    "    remove_punc = remove_retweet.translate(str.maketrans('', '', string.punctuation)) # Remove punctuation\n",
    "    final_text = re.sub(r'\\d+', ' ', remove_punc) # Remove number \n",
    "    final_text = re.sub(r'\\s+', ' ', final_text) # Removing exceeding spaces\n",
    "    return final_text"
   ]
  },
  {
   "cell_type": "code",
   "execution_count": 113,
   "id": "pressing-kingdom",
   "metadata": {},
   "outputs": [
    {
     "data": {
      "text/plain": [
       "'rt criticize amanda for saying the n word sure but dont make jokes about her sexual assault dont be trash'"
      ]
     },
     "execution_count": 113,
     "metadata": {},
     "output_type": "execute_result"
    }
   ],
   "source": [
    "text_prep = preprocessing(text)\n",
    "text_prep"
   ]
  },
  {
   "cell_type": "markdown",
   "id": "arctic-naples",
   "metadata": {},
   "source": [
    "### Tokenization"
   ]
  },
  {
   "cell_type": "code",
   "execution_count": 9,
   "id": "infinite-singapore",
   "metadata": {},
   "outputs": [],
   "source": [
    "def tokenization(text_clean, tok = \"tweet\"):\n",
    "    if tok == \"tweet\": # TweetTokenizer\n",
    "        tt = TweetTokenizer()\n",
    "        tokenized_text = tt.tokenize(text_clean)\n",
    "    elif tok == \"wordpunct\": # WordPunctTokenizer\n",
    "        wpt = WordPunctTokenizer()\n",
    "        tokenized_text = wpt.tokenize(text_clean)\n",
    "    return tokenized_text"
   ]
  },
  {
   "cell_type": "code",
   "execution_count": 118,
   "id": "described-requirement",
   "metadata": {},
   "outputs": [
    {
     "name": "stdout",
     "output_type": "stream",
     "text": [
      "['rt', 'criticize', 'amanda', 'for', 'saying', 'the', 'n', 'word', 'sure', 'but', 'dont', 'make', 'jokes', 'about', 'her', 'sexual', 'assault', 'dont', 'be', 'trash']\n"
     ]
    }
   ],
   "source": [
    "text_tok = tokenization(text_prep)\n",
    "print(text_tok)"
   ]
  },
  {
   "cell_type": "markdown",
   "id": "ancient-working",
   "metadata": {},
   "source": [
    "### Removing stopwords"
   ]
  },
  {
   "cell_type": "code",
   "execution_count": 10,
   "id": "horizontal-tunisia",
   "metadata": {},
   "outputs": [],
   "source": [
    "def remove_stopwords(tokenized_text):\n",
    "    remove_sw = []\n",
    "    for token in tokenized_text:\n",
    "        stop_words.append(\"rt\") # Added a stop words, RT of Retweet\n",
    "        if token.lower() not in stop_words:\n",
    "             remove_sw.append(token)\n",
    "    return remove_sw"
   ]
  },
  {
   "cell_type": "code",
   "execution_count": 120,
   "id": "impossible-manor",
   "metadata": {},
   "outputs": [
    {
     "name": "stdout",
     "output_type": "stream",
     "text": [
      "['criticize', 'amanda', 'saying', 'n', 'word', 'sure', 'dont', 'make', 'jokes', 'sexual', 'assault', 'dont', 'trash']\n"
     ]
    }
   ],
   "source": [
    "text_sw = remove_stopwords(text_tok)\n",
    "print(text_sw)"
   ]
  },
  {
   "cell_type": "markdown",
   "id": "collectible-michigan",
   "metadata": {},
   "source": [
    "### Stemming"
   ]
  },
  {
   "cell_type": "code",
   "execution_count": 11,
   "id": "interior-teens",
   "metadata": {},
   "outputs": [],
   "source": [
    "def stemmer(tokenized_text):\n",
    "    porter = PorterStemmer()\n",
    "    return [porter.stem(word) for word in tokenized_text]"
   ]
  },
  {
   "cell_type": "code",
   "execution_count": 123,
   "id": "awful-spell",
   "metadata": {},
   "outputs": [
    {
     "name": "stdout",
     "output_type": "stream",
     "text": [
      "['critic', 'amanda', 'say', 'n', 'word', 'sure', 'dont', 'make', 'joke', 'sexual', 'assault', 'dont', 'trash']\n"
     ]
    }
   ],
   "source": [
    "print(stemmer(text_sw))"
   ]
  },
  {
   "cell_type": "markdown",
   "id": "adverse-egypt",
   "metadata": {},
   "source": [
    "### Lemmatization"
   ]
  },
  {
   "cell_type": "code",
   "execution_count": 12,
   "id": "impressed-listening",
   "metadata": {},
   "outputs": [],
   "source": [
    "# pos-tagging (1 document)\n",
    "def pos_tagging(doc_token):\n",
    "    return nltk.pos_tag(doc_token)\n",
    "\n",
    "# convertion of pos tagging\n",
    "def get_wordnet_pos(word_tag):\n",
    "    if word_tag.startswith('J'):\n",
    "        return \"a\"\n",
    "    elif word_tag.startswith('V'):\n",
    "        return \"v\"\n",
    "    elif word_tag.startswith('R'):\n",
    "        return \"r\"\n",
    "    else:\n",
    "        return \"n\"\n",
    "    \n",
    "# lemmatizer one word \n",
    "def lemmatizer(word):\n",
    "    pos = get_wordnet_pos(word[1])\n",
    "    wnl = WordNetLemmatizer()\n",
    "    return wnl.lemmatize(word[0], pos = pos)\n",
    "\n",
    "# lemmatizer one document\n",
    "def lemmatizer_doc(doc_token):\n",
    "    lemmas = [] \n",
    "    \n",
    "    pos_document = pos_tagging(doc_token) # pos tagging\n",
    "    for token in pos_document:\n",
    "        lemmas.append( lemmatizer(token) ) # lemmatization x word\n",
    "    \n",
    "    return lemmas"
   ]
  },
  {
   "cell_type": "code",
   "execution_count": 125,
   "id": "julian-playlist",
   "metadata": {},
   "outputs": [
    {
     "name": "stdout",
     "output_type": "stream",
     "text": [
      "['criticize', 'amanda', 'say', 'n', 'word', 'sure', 'dont', 'make', 'joke', 'sexual', 'assault', 'dont', 'trash']\n"
     ]
    }
   ],
   "source": [
    "print(lemmatizer_doc(text_sw))"
   ]
  },
  {
   "cell_type": "markdown",
   "id": "collectible-infection",
   "metadata": {},
   "source": [
    "### Salvataggio dataset"
   ]
  },
  {
   "cell_type": "code",
   "execution_count": 13,
   "id": "incident-analyst",
   "metadata": {},
   "outputs": [],
   "source": [
    "# Sum up function\n",
    "def processing(text):\n",
    "    text_prep = preprocessing(text)\n",
    "    text_prep = tokenization(text_prep)\n",
    "    text_prep = remove_stopwords(text_prep)\n",
    "    text_prep = lemmatizer_doc(text_prep)\n",
    "    #text_prep = stemmer(text_prep)\n",
    "    text_prep = \" \".join(text_prep)\n",
    "    return text_prep"
   ]
  },
  {
   "cell_type": "code",
   "execution_count": 13,
   "id": "royal-content",
   "metadata": {},
   "outputs": [],
   "source": [
    "# Apply on all text\n",
    "df_red = df\n",
    "df_red[\"tweet_clean\"] = df_red[\"tweet\"].apply(lambda x : processing(x))"
   ]
  },
  {
   "cell_type": "code",
   "execution_count": null,
   "id": "subjective-string",
   "metadata": {},
   "outputs": [],
   "source": [
    "# Salvataggio del dataset\n",
    "df.to_csv(\"data/processing_dataset.csv\")"
   ]
  },
  {
   "cell_type": "code",
   "execution_count": 17,
   "id": "common-presence",
   "metadata": {},
   "outputs": [
    {
     "name": "stdout",
     "output_type": "stream",
     "text": [
      "Load & preprocessing --- DONE\n"
     ]
    }
   ],
   "source": [
    "# Lettura dataset\n",
    "if 'processed_data.csv' not in os.listdir('data'):\n",
    "    # load dataset\n",
    "    df = pd.read_csv(\"data/labeled_data.csv\", sep = \",\").drop(\"Unnamed: 0\", axis=1)\n",
    "    # apply process_text\n",
    "    df[\"tweet_clean\"] = df[\"tweet\"].apply(lambda x : processing(x))\n",
    "    df.to_csv('data/processed_data.csv', index = False)\n",
    "else:\n",
    "    df = pd.read_csv(\"data/processed_data.csv\", sep = \",\")\n",
    "print(\"Load & preprocessing --- DONE\")"
   ]
  },
  {
   "cell_type": "code",
   "execution_count": 20,
   "id": "systematic-symbol",
   "metadata": {},
   "outputs": [],
   "source": [
    "# drop tweet list na !!!\n",
    "df[\"tweet_list\"] = df[\"tweet_clean\"].str.split(\" \").tolist()\n",
    "df.dropna(inplace = True)\n",
    "df = df.reset_index(drop = True)# drop 2 NA because tweet is empty"
   ]
  },
  {
   "cell_type": "markdown",
   "id": "hollow-tunisia",
   "metadata": {},
   "source": [
    "### Bag of words"
   ]
  },
  {
   "cell_type": "code",
   "execution_count": 21,
   "id": "revised-fourth",
   "metadata": {},
   "outputs": [],
   "source": [
    "corpus = df[\"tweet_clean\"]"
   ]
  },
  {
   "cell_type": "code",
   "execution_count": 25,
   "id": "legendary-white",
   "metadata": {},
   "outputs": [
    {
     "data": {
      "text/plain": [
       "(24781, 16946)"
      ]
     },
     "execution_count": 25,
     "metadata": {},
     "output_type": "execute_result"
    }
   ],
   "source": [
    "# Using CountVectorizer\n",
    "vectorizer = CountVectorizer(binary = True)\n",
    "X = vectorizer.fit_transform(corpus)\n",
    "\n",
    "# Shape\n",
    "X.toarray().shape"
   ]
  },
  {
   "cell_type": "code",
   "execution_count": 27,
   "id": "lucky-efficiency",
   "metadata": {},
   "outputs": [
    {
     "data": {
      "text/plain": [
       "array([1, 1, 1, 1, 1, 1, 1, 1, 1, 1], dtype=int64)"
      ]
     },
     "execution_count": 27,
     "metadata": {},
     "output_type": "execute_result"
    }
   ],
   "source": [
    "# Example of presence of a word\n",
    "X.toarray()[1][X.toarray()[1] == 1]"
   ]
  },
  {
   "cell_type": "markdown",
   "id": "seven-initial",
   "metadata": {},
   "source": [
    "###  Count Vector"
   ]
  },
  {
   "cell_type": "code",
   "execution_count": 28,
   "id": "fitting-jesus",
   "metadata": {},
   "outputs": [
    {
     "data": {
      "text/plain": [
       "array([2], dtype=int64)"
      ]
     },
     "execution_count": 28,
     "metadata": {},
     "output_type": "execute_result"
    }
   ],
   "source": [
    "# Using CountVectorizer\n",
    "vectorizer = CountVectorizer()\n",
    "X = vectorizer.fit_transform(corpus)\n",
    "\n",
    "X.toarray()[1][X.toarray()[1] == 2]"
   ]
  },
  {
   "cell_type": "code",
   "execution_count": 33,
   "id": "korean-drive",
   "metadata": {},
   "outputs": [
    {
     "data": {
      "text/plain": [
       "array([2], dtype=int64)"
      ]
     },
     "execution_count": 33,
     "metadata": {},
     "output_type": "execute_result"
    }
   ],
   "source": [
    "X.toarray()[1][X.toarray()[1] == 2]"
   ]
  },
  {
   "cell_type": "markdown",
   "id": "blank-regard",
   "metadata": {},
   "source": [
    "### Tf-idf"
   ]
  },
  {
   "cell_type": "code",
   "execution_count": 27,
   "id": "jewish-mountain",
   "metadata": {},
   "outputs": [],
   "source": [
    "vectorizer = TfidfVectorizer(\n",
    "    use_idf=True,\n",
    "    max_features=100,\n",
    "    min_df=5,\n",
    "    max_df=0.501\n",
    "    # , ngram_range=(1, 3) Il miglire rimane uni-gram, pessimo score del bi-gram\n",
    "    )\n",
    "tfidf = vectorizer.fit_transform(corpus).toarray()"
   ]
  },
  {
   "cell_type": "code",
   "execution_count": 33,
   "id": "changed-malaysia",
   "metadata": {},
   "outputs": [
    {
     "data": {
      "text/plain": [
       "array([0.        , 0.        , 0.        , 0.        , 0.        ,\n",
       "       0.        , 0.        , 0.2325286 , 0.        , 0.        ,\n",
       "       0.        , 0.        , 0.        , 0.        , 0.        ,\n",
       "       0.        , 0.        , 0.        , 0.        , 0.        ,\n",
       "       0.        , 0.        , 0.        , 0.        , 0.70019865,\n",
       "       0.        , 0.        , 0.        , 0.44737228, 0.        ,\n",
       "       0.        , 0.        , 0.        , 0.        , 0.        ,\n",
       "       0.        , 0.        , 0.        , 0.        , 0.        ,\n",
       "       0.        , 0.        , 0.        , 0.        , 0.        ,\n",
       "       0.        , 0.        , 0.        , 0.        , 0.        ,\n",
       "       0.        , 0.        , 0.        , 0.        , 0.        ,\n",
       "       0.        , 0.        , 0.        , 0.        , 0.        ,\n",
       "       0.        , 0.        , 0.        , 0.        , 0.        ,\n",
       "       0.        , 0.        , 0.        , 0.        , 0.        ,\n",
       "       0.        , 0.        , 0.        , 0.        , 0.        ,\n",
       "       0.50548032, 0.        , 0.        , 0.        , 0.        ,\n",
       "       0.        , 0.        , 0.        , 0.        , 0.        ,\n",
       "       0.        , 0.        , 0.        , 0.        , 0.        ,\n",
       "       0.        , 0.        , 0.        , 0.        , 0.        ,\n",
       "       0.        , 0.        , 0.        , 0.        , 0.        ])"
      ]
     },
     "execution_count": 33,
     "metadata": {},
     "output_type": "execute_result"
    }
   ],
   "source": [
    "tfidf[2]"
   ]
  },
  {
   "cell_type": "markdown",
   "id": "virtual-capability",
   "metadata": {},
   "source": [
    "### Doc2Vec\n",
    "## CONTROLLARE PERCHE' NON SO COME SI FA"
   ]
  },
  {
   "cell_type": "code",
   "execution_count": 38,
   "id": "expected-middle",
   "metadata": {},
   "outputs": [
    {
     "ename": "NameError",
     "evalue": "name 'Doc2Vec' is not defined",
     "output_type": "error",
     "traceback": [
      "\u001b[1;31m---------------------------------------------------------------------------\u001b[0m",
      "\u001b[1;31mNameError\u001b[0m                                 Traceback (most recent call last)",
      "\u001b[1;32m<ipython-input-38-816f711d70e7>\u001b[0m in \u001b[0;36m<module>\u001b[1;34m\u001b[0m\n\u001b[0;32m      4\u001b[0m     \u001b[0mmodel\u001b[0m\u001b[1;33m.\u001b[0m\u001b[0msave\u001b[0m\u001b[1;33m(\u001b[0m\u001b[1;34m\"../models/d2v.model\"\u001b[0m\u001b[1;33m)\u001b[0m\u001b[1;33m\u001b[0m\u001b[1;33m\u001b[0m\u001b[0m\n\u001b[0;32m      5\u001b[0m \u001b[1;32melse\u001b[0m\u001b[1;33m:\u001b[0m\u001b[1;33m\u001b[0m\u001b[1;33m\u001b[0m\u001b[0m\n\u001b[1;32m----> 6\u001b[1;33m     \u001b[0mmodel\u001b[0m \u001b[1;33m=\u001b[0m \u001b[0mDoc2Vec\u001b[0m\u001b[1;33m.\u001b[0m\u001b[0mload\u001b[0m\u001b[1;33m(\u001b[0m\u001b[1;34m\"../models/d2v.model\"\u001b[0m\u001b[1;33m)\u001b[0m\u001b[1;33m\u001b[0m\u001b[1;33m\u001b[0m\u001b[0m\n\u001b[0m\u001b[0;32m      7\u001b[0m \u001b[0mprint\u001b[0m\u001b[1;33m(\u001b[0m\u001b[1;34m\"Doc2Vec model --- DONE\"\u001b[0m\u001b[1;33m)\u001b[0m\u001b[1;33m\u001b[0m\u001b[1;33m\u001b[0m\u001b[0m\n",
      "\u001b[1;31mNameError\u001b[0m: name 'Doc2Vec' is not defined"
     ]
    }
   ],
   "source": [
    "documents = [TaggedDocument (doc, [i]) for i, doc in enumerate(df[\"tweet_list\"])]\n",
    "    model = Doc2Vec (documents, vector_size=100, window=10, min_count=1)\n",
    "    model.save(\"../models/d2v.model\")"
   ]
  }
 ],
 "metadata": {
  "kernelspec": {
   "display_name": "Python 3",
   "language": "python",
   "name": "python3"
  },
  "language_info": {
   "codemirror_mode": {
    "name": "ipython",
    "version": 3
   },
   "file_extension": ".py",
   "mimetype": "text/x-python",
   "name": "python",
   "nbconvert_exporter": "python",
   "pygments_lexer": "ipython3",
   "version": "3.7.9"
  }
 },
 "nbformat": 4,
 "nbformat_minor": 5
}
