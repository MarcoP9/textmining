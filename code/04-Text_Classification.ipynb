{
 "cells": [
  {
   "cell_type": "markdown",
   "id": "elementary-speaking",
   "metadata": {},
   "source": [
    "# Text mining & Search Project\n",
    "\n",
    "### Università degli Studi di Milano-Bicocca  2020/2021\n",
    "\n",
    "**Luzzi Federico** (matricola) **Peracchi Marco** 800578"
   ]
  },
  {
   "cell_type": "markdown",
   "id": "clean-payroll",
   "metadata": {},
   "source": [
    "# Text Classification\n",
    "\n",
    "In questo notebook è possibile visualizzare la text classification eseguita mediante diversi modelli di machine learning."
   ]
  },
  {
   "cell_type": "code",
   "execution_count": 1,
   "id": "particular-standard",
   "metadata": {},
   "outputs": [],
   "source": [
    "import nltk\n",
    "import re\n",
    "import os\n",
    "from gensim.models.doc2vec import Doc2Vec, TaggedDocument # doc2vec\n",
    "import pandas as pd\n",
    "import numpy as np\n",
    "import pickle"
   ]
  },
  {
   "cell_type": "code",
   "execution_count": 2,
   "id": "atlantic-costs",
   "metadata": {},
   "outputs": [],
   "source": [
    "from sklearn.model_selection import train_test_split\n",
    "from sklearn.linear_model import LogisticRegression\n",
    "from sklearn.naive_bayes import MultinomialNB\n",
    "from sklearn.svm import SVC\n",
    "from sklearn.feature_extraction.text import TfidfVectorizer\n",
    "from sklearn.ensemble import AdaBoostClassifier"
   ]
  },
  {
   "cell_type": "code",
   "execution_count": 3,
   "id": "matched-rolling",
   "metadata": {},
   "outputs": [],
   "source": [
    "from matplotlib import pyplot as plt\n",
    "from sklearn.metrics import classification_report, confusion_matrix\n",
    "import seaborn as sns\n",
    "from utils import c_matrix\n",
    "from process_text import processing # preprocessing functions\n",
    "from features import *"
   ]
  },
  {
   "cell_type": "code",
   "execution_count": 19,
   "id": "noble-hearing",
   "metadata": {},
   "outputs": [
    {
     "ename": "ModuleNotFoundError",
     "evalue": "No module named 'keras'",
     "output_type": "error",
     "traceback": [
      "\u001b[1;31m---------------------------------------------------------------------------\u001b[0m",
      "\u001b[1;31mModuleNotFoundError\u001b[0m                       Traceback (most recent call last)",
      "\u001b[1;32m<ipython-input-19-b158ab59cef6>\u001b[0m in \u001b[0;36m<module>\u001b[1;34m\u001b[0m\n\u001b[1;32m----> 1\u001b[1;33m \u001b[1;32mimport\u001b[0m \u001b[0mkeras\u001b[0m\u001b[1;33m\u001b[0m\u001b[1;33m\u001b[0m\u001b[0m\n\u001b[0m\u001b[0;32m      2\u001b[0m \u001b[1;32mfrom\u001b[0m \u001b[0mkeras\u001b[0m\u001b[1;33m.\u001b[0m\u001b[0mlayers\u001b[0m \u001b[1;32mimport\u001b[0m \u001b[0mDense\u001b[0m\u001b[1;33m,\u001b[0m \u001b[0mDropout\u001b[0m\u001b[1;33m\u001b[0m\u001b[1;33m\u001b[0m\u001b[0m\n\u001b[0;32m      3\u001b[0m \u001b[1;32mfrom\u001b[0m \u001b[0mkeras\u001b[0m \u001b[1;32mimport\u001b[0m \u001b[0mSequential\u001b[0m\u001b[1;33m\u001b[0m\u001b[1;33m\u001b[0m\u001b[0m\n\u001b[0;32m      4\u001b[0m \u001b[1;32mfrom\u001b[0m \u001b[0mkeras\u001b[0m \u001b[1;32mimport\u001b[0m \u001b[0mregularizers\u001b[0m\u001b[1;33m\u001b[0m\u001b[1;33m\u001b[0m\u001b[0m\n",
      "\u001b[1;31mModuleNotFoundError\u001b[0m: No module named 'keras'"
     ]
    }
   ],
   "source": [
    "import keras \n",
    "from keras.layers import Dense, Dropout\n",
    "from keras import Sequential\n",
    "from keras import regularizers "
   ]
  },
  {
   "cell_type": "code",
   "execution_count": 4,
   "id": "attempted-leeds",
   "metadata": {
    "scrolled": true
   },
   "outputs": [
    {
     "name": "stderr",
     "output_type": "stream",
     "text": [
      "[nltk_data] Downloading package stopwords to\n",
      "[nltk_data]     C:\\Users\\Marco\\AppData\\Roaming\\nltk_data...\n",
      "[nltk_data]   Package stopwords is already up-to-date!\n",
      "[nltk_data] Downloading package averaged_perceptron_tagger to\n",
      "[nltk_data]     C:\\Users\\Marco\\AppData\\Roaming\\nltk_data...\n",
      "[nltk_data]   Package averaged_perceptron_tagger is already up-to-\n",
      "[nltk_data]       date!\n",
      "[nltk_data] Downloading package wordnet to\n",
      "[nltk_data]     C:\\Users\\Marco\\AppData\\Roaming\\nltk_data...\n",
      "[nltk_data]   Package wordnet is already up-to-date!\n"
     ]
    },
    {
     "data": {
      "text/plain": [
       "True"
      ]
     },
     "execution_count": 4,
     "metadata": {},
     "output_type": "execute_result"
    }
   ],
   "source": [
    "nltk.download(\"stopwords\")\n",
    "nltk.download('averaged_perceptron_tagger')\n",
    "nltk.download('wordnet')"
   ]
  },
  {
   "cell_type": "code",
   "execution_count": 5,
   "id": "resistant-glossary",
   "metadata": {},
   "outputs": [
    {
     "name": "stdout",
     "output_type": "stream",
     "text": [
      "Load & preprocessing --- DONE\n"
     ]
    }
   ],
   "source": [
    "if 'processed_data.csv' not in os.listdir('../data'):\n",
    "    # load dataset\n",
    "    df = pd.read_csv(\"../data/labeled_data.csv\", sep = \",\").drop(\"Unnamed: 0\", axis=1)\n",
    "    # apply process_text\n",
    "    df[\"tweet_clean\"] = df[\"tweet\"].apply(lambda x : processing(x))\n",
    "    df.to_csv('../data/processed_data.csv', index = False)\n",
    "else:\n",
    "    df = pd.read_csv(\"../data/processed_data.csv\", sep = \",\")\n",
    "print(\"Load & preprocessing --- DONE\")"
   ]
  },
  {
   "cell_type": "code",
   "execution_count": 6,
   "id": "interstate-shame",
   "metadata": {},
   "outputs": [],
   "source": [
    "# drop tweet list na !!!\n",
    "df[\"tweet_list\"] = df[\"tweet_clean\"].str.split(\" \").tolist()\n",
    "df.dropna(inplace = True)\n",
    "df = df.reset_index(drop = True)"
   ]
  },
  {
   "cell_type": "code",
   "execution_count": 7,
   "id": "external-reply",
   "metadata": {},
   "outputs": [],
   "source": [
    "vectorizer = TfidfVectorizer(\n",
    "    use_idf=True,\n",
    "    max_features=100,\n",
    "    min_df=5,\n",
    "    max_df=0.501\n",
    "    # , ngram_range=(1, 3) Il miglire rimane uni-gram, pessimo score del bi-gram\n",
    "    )"
   ]
  },
  {
   "cell_type": "code",
   "execution_count": 8,
   "id": "superb-maine",
   "metadata": {},
   "outputs": [],
   "source": [
    "tfidf = vectorizer.fit_transform(df[\"tweet_clean\"]).toarray()"
   ]
  },
  {
   "cell_type": "code",
   "execution_count": 9,
   "id": "atmospheric-evidence",
   "metadata": {},
   "outputs": [
    {
     "data": {
      "text/plain": [
       "(24781, 100)"
      ]
     },
     "execution_count": 9,
     "metadata": {},
     "output_type": "execute_result"
    }
   ],
   "source": [
    "tfidf.shape"
   ]
  },
  {
   "cell_type": "markdown",
   "id": "chemical-violin",
   "metadata": {},
   "source": [
    "### Support Vector Machine"
   ]
  },
  {
   "cell_type": "code",
   "execution_count": 11,
   "id": "round-sympathy",
   "metadata": {},
   "outputs": [],
   "source": [
    "X_data = tfidf\n",
    "Y_data = df[\"class\"]\n",
    "\n",
    "# verifica dimensioni vettori\n",
    "assert X_data.shape[0] == Y_data.shape[0]"
   ]
  },
  {
   "cell_type": "code",
   "execution_count": 12,
   "id": "discrete-financing",
   "metadata": {},
   "outputs": [],
   "source": [
    "# split train-test\n",
    "X_train, X_test, y_train, y_test = train_test_split(X_data, Y_data,\n",
    "                                                   test_size = 0.2,\n",
    "                                                   random_state = 42,\n",
    "                                                   shuffle = True,\n",
    "                                                   stratify = Y_data)\n",
    "\n",
    "assert X_train.shape[0] == y_train.shape[0]\n",
    "assert X_test.shape[0] == y_test.shape[0]"
   ]
  },
  {
   "cell_type": "code",
   "execution_count": 13,
   "id": "matched-gazette",
   "metadata": {},
   "outputs": [],
   "source": [
    "# class weights\n",
    "# w_J = n_samples / (n_classes * n_samples_J)\n",
    "weights = len(df['class']) / (3 * df['class'].value_counts())\n",
    "# model\n",
    "model = SVC(random_state = 42, \n",
    "            class_weight= {0 : weights[0], 1 : weights[1], 2 : weights[2]})"
   ]
  },
  {
   "cell_type": "code",
   "execution_count": 14,
   "id": "cellular-theater",
   "metadata": {},
   "outputs": [
    {
     "ename": "KeyboardInterrupt",
     "evalue": "",
     "output_type": "error",
     "traceback": [
      "\u001b[1;31m---------------------------------------------------------------------------\u001b[0m",
      "\u001b[1;31mKeyboardInterrupt\u001b[0m                         Traceback (most recent call last)",
      "\u001b[1;32m<timed exec>\u001b[0m in \u001b[0;36m<module>\u001b[1;34m\u001b[0m\n",
      "\u001b[1;32mC:\\ProgramData\\Anaconda3\\envs\\textmining\\lib\\site-packages\\sklearn\\svm\\_base.py\u001b[0m in \u001b[0;36mfit\u001b[1;34m(self, X, y, sample_weight)\u001b[0m\n\u001b[0;32m    224\u001b[0m \u001b[1;33m\u001b[0m\u001b[0m\n\u001b[0;32m    225\u001b[0m         \u001b[0mseed\u001b[0m \u001b[1;33m=\u001b[0m \u001b[0mrnd\u001b[0m\u001b[1;33m.\u001b[0m\u001b[0mrandint\u001b[0m\u001b[1;33m(\u001b[0m\u001b[0mnp\u001b[0m\u001b[1;33m.\u001b[0m\u001b[0miinfo\u001b[0m\u001b[1;33m(\u001b[0m\u001b[1;34m'i'\u001b[0m\u001b[1;33m)\u001b[0m\u001b[1;33m.\u001b[0m\u001b[0mmax\u001b[0m\u001b[1;33m)\u001b[0m\u001b[1;33m\u001b[0m\u001b[1;33m\u001b[0m\u001b[0m\n\u001b[1;32m--> 226\u001b[1;33m         \u001b[0mfit\u001b[0m\u001b[1;33m(\u001b[0m\u001b[0mX\u001b[0m\u001b[1;33m,\u001b[0m \u001b[0my\u001b[0m\u001b[1;33m,\u001b[0m \u001b[0msample_weight\u001b[0m\u001b[1;33m,\u001b[0m \u001b[0msolver_type\u001b[0m\u001b[1;33m,\u001b[0m \u001b[0mkernel\u001b[0m\u001b[1;33m,\u001b[0m \u001b[0mrandom_seed\u001b[0m\u001b[1;33m=\u001b[0m\u001b[0mseed\u001b[0m\u001b[1;33m)\u001b[0m\u001b[1;33m\u001b[0m\u001b[1;33m\u001b[0m\u001b[0m\n\u001b[0m\u001b[0;32m    227\u001b[0m         \u001b[1;31m# see comment on the other call to np.iinfo in this file\u001b[0m\u001b[1;33m\u001b[0m\u001b[1;33m\u001b[0m\u001b[1;33m\u001b[0m\u001b[0m\n\u001b[0;32m    228\u001b[0m \u001b[1;33m\u001b[0m\u001b[0m\n",
      "\u001b[1;32mC:\\ProgramData\\Anaconda3\\envs\\textmining\\lib\\site-packages\\sklearn\\svm\\_base.py\u001b[0m in \u001b[0;36m_dense_fit\u001b[1;34m(self, X, y, sample_weight, solver_type, kernel, random_seed)\u001b[0m\n\u001b[0;32m    283\u001b[0m                 \u001b[0mcache_size\u001b[0m\u001b[1;33m=\u001b[0m\u001b[0mself\u001b[0m\u001b[1;33m.\u001b[0m\u001b[0mcache_size\u001b[0m\u001b[1;33m,\u001b[0m \u001b[0mcoef0\u001b[0m\u001b[1;33m=\u001b[0m\u001b[0mself\u001b[0m\u001b[1;33m.\u001b[0m\u001b[0mcoef0\u001b[0m\u001b[1;33m,\u001b[0m\u001b[1;33m\u001b[0m\u001b[1;33m\u001b[0m\u001b[0m\n\u001b[0;32m    284\u001b[0m                 \u001b[0mgamma\u001b[0m\u001b[1;33m=\u001b[0m\u001b[0mself\u001b[0m\u001b[1;33m.\u001b[0m\u001b[0m_gamma\u001b[0m\u001b[1;33m,\u001b[0m \u001b[0mepsilon\u001b[0m\u001b[1;33m=\u001b[0m\u001b[0mself\u001b[0m\u001b[1;33m.\u001b[0m\u001b[0mepsilon\u001b[0m\u001b[1;33m,\u001b[0m\u001b[1;33m\u001b[0m\u001b[1;33m\u001b[0m\u001b[0m\n\u001b[1;32m--> 285\u001b[1;33m                 max_iter=self.max_iter, random_seed=random_seed)\n\u001b[0m\u001b[0;32m    286\u001b[0m \u001b[1;33m\u001b[0m\u001b[0m\n\u001b[0;32m    287\u001b[0m         \u001b[0mself\u001b[0m\u001b[1;33m.\u001b[0m\u001b[0m_warn_from_fit_status\u001b[0m\u001b[1;33m(\u001b[0m\u001b[1;33m)\u001b[0m\u001b[1;33m\u001b[0m\u001b[1;33m\u001b[0m\u001b[0m\n",
      "\u001b[1;31mKeyboardInterrupt\u001b[0m: "
     ]
    }
   ],
   "source": [
    "%%time\n",
    "# fitting\n",
    "model.fit(X_train, y_train)\n",
    "print(\"Modelling --- DONE\")"
   ]
  },
  {
   "cell_type": "code",
   "execution_count": null,
   "id": "sitting-radar",
   "metadata": {},
   "outputs": [],
   "source": [
    "# save model\n",
    "filename = '.sav'\n",
    "pickle.dump(model, open(f'../models/{filename}', 'wb'))"
   ]
  },
  {
   "cell_type": "code",
   "execution_count": 16,
   "id": "veterinary-remark",
   "metadata": {},
   "outputs": [],
   "source": [
    "# load model\n",
    "filename = 'svm_sentiment.sav'\n",
    "model_2 = pickle.load(open(f'../models/{filename}', 'rb'))"
   ]
  },
  {
   "cell_type": "code",
   "execution_count": null,
   "id": "monetary-minnesota",
   "metadata": {},
   "outputs": [],
   "source": [
    "%%time\n",
    "# performance on TRAIN\n",
    "y_pred = model.predict(X_train)   \n",
    "print('Classification report:')\n",
    "print(classification_report(y_train, y_pred))\n",
    "c_matrix(y_train, y_pred, [\"Hate\", \"Offensive\", \"Neither\"])"
   ]
  },
  {
   "cell_type": "code",
   "execution_count": null,
   "id": "dominican-violation",
   "metadata": {},
   "outputs": [],
   "source": [
    "%%time\n",
    "# performance on TEST\n",
    "y_pred = model.predict(X_test)   \n",
    "print('Classification report:')\n",
    "print(classification_report(y_test, y_pred))\n",
    "c_matrix(y_test, y_pred, [\"Hate\", \"Offensive\", \"Neither\"]) "
   ]
  },
  {
   "cell_type": "markdown",
   "id": "terminal-zimbabwe",
   "metadata": {},
   "source": [
    "### Adaboost"
   ]
  },
  {
   "cell_type": "code",
   "execution_count": null,
   "id": "alien-shark",
   "metadata": {},
   "outputs": [],
   "source": [
    "# prepare data\n",
    "X_data = tfidf\n",
    "Y_data = df[\"class\"]\n",
    "\n",
    "# verifica dimensioni vettori\n",
    "assert X_data.shape[0] == Y_data.shape[0]"
   ]
  },
  {
   "cell_type": "code",
   "execution_count": null,
   "id": "labeled-syntax",
   "metadata": {},
   "outputs": [],
   "source": [
    "X_train, X_test, y_train, y_test = train_test_split(X_data, Y_data,\n",
    "                                                   test_size = 0.2,\n",
    "                                                   random_state = 42,\n",
    "                                                   shuffle = True,\n",
    "                                                   stratify = Y_data)\n",
    "\n",
    "assert X_train.shape[0] == y_train.shape[0]\n",
    "assert X_test.shape[0] == y_test.shape[0]"
   ]
  },
  {
   "cell_type": "code",
   "execution_count": null,
   "id": "permanent-association",
   "metadata": {},
   "outputs": [],
   "source": [
    "adaboost = AdaBoostClassifier(n_estimators=50, random_state=0)"
   ]
  },
  {
   "cell_type": "code",
   "execution_count": null,
   "id": "stylish-prefix",
   "metadata": {},
   "outputs": [],
   "source": [
    "adaboost.fit(X_train, y_train)"
   ]
  },
  {
   "cell_type": "code",
   "execution_count": null,
   "id": "reduced-dictionary",
   "metadata": {},
   "outputs": [],
   "source": [
    "%%time\n",
    "# performance on TRAIN\n",
    "y_pred = adaboost.predict(X_train)   \n",
    "print('Classification report:')\n",
    "print(classification_report(y_train, y_pred))\n",
    "c_matrix(y_train, y_pred, [\"Hate\", \"Offensive\", \"Neither\"]) "
   ]
  },
  {
   "cell_type": "code",
   "execution_count": null,
   "id": "defined-police",
   "metadata": {},
   "outputs": [],
   "source": [
    "%%time\n",
    "# performance on TEST\n",
    "y_pred = adaboost.predict(X_test)   \n",
    "print('Classification report:')\n",
    "print(classification_report(y_test, y_pred))\n",
    "c_matrix(y_test, y_pred, [\"Hate\", \"Offensive\", \"Neither\"]) "
   ]
  },
  {
   "cell_type": "markdown",
   "id": "awful-structure",
   "metadata": {},
   "source": [
    "### Logistic Regression"
   ]
  },
  {
   "cell_type": "markdown",
   "id": "external-appreciation",
   "metadata": {},
   "source": [
    "## MANCA LA LOGISTIC"
   ]
  },
  {
   "cell_type": "markdown",
   "id": "raised-alignment",
   "metadata": {},
   "source": [
    "### Random Forest"
   ]
  },
  {
   "cell_type": "markdown",
   "id": "institutional-magazine",
   "metadata": {},
   "source": [
    "## MANCA LA RANDOM FOREST"
   ]
  },
  {
   "cell_type": "markdown",
   "id": "favorite-draft",
   "metadata": {},
   "source": [
    "### Neural Network"
   ]
  },
  {
   "cell_type": "code",
   "execution_count": null,
   "id": "imposed-grove",
   "metadata": {},
   "outputs": [],
   "source": [
    "# split train-test\n",
    "Y_data_bin = keras.utils.to_categorical(Y_data)\n",
    "X_train, X_test, y_train, y_test = train_test_split(X_data, Y_data_bin,\n",
    "                                                   test_size = 0.2,\n",
    "                                                   random_state = 42,\n",
    "                                                   shuffle = True,\n",
    "                                                   stratify = Y_data)\n",
    "\n",
    "assert X_train.shape[0] == y_train.shape[0]\n",
    "assert X_test.shape[0] == y_test.shape[0]"
   ]
  },
  {
   "cell_type": "code",
   "execution_count": null,
   "id": "dangerous-truck",
   "metadata": {},
   "outputs": [],
   "source": [
    "weights = len(df['class']) / (3 * df['class'].value_counts())"
   ]
  },
  {
   "cell_type": "code",
   "execution_count": null,
   "id": "formal-needle",
   "metadata": {},
   "outputs": [],
   "source": [
    "def neural_network(dims, seed):\n",
    "    model = Sequential()\n",
    "    model.add(Dense(64, input_shape = (dims,), \n",
    "                    activation = 'relu',\n",
    "                    kernel_regularizer = regularizers.l2(1e-4)))\n",
    "    model.add(Dropout(0.5))\n",
    "    model.add(Dense(3, activation = 'softmax',\n",
    "                    kernel_regularizer = regularizers.l2(1e-4)))\n",
    "\n",
    "    model.compile(loss = 'categorical_crossentropy',\n",
    "                 optimizer = keras.optimizers.Adam(lr=0.0001),\n",
    "                 metrics=['acc'])\n",
    "    return model\n",
    "\n",
    "def neural_network_2(dims, seed):\n",
    "    model = Sequential()\n",
    "    model.add(Dense(128, input_shape = (dims,), \n",
    "                    activation = 'relu', \n",
    "                    kernel_regularizer = regularizers.l2(1e-4)))\n",
    "    model.add(Dropout(0.5))\n",
    "    model.add(Dense(64, input_shape = (dims,), \n",
    "                    activation = 'relu',\n",
    "                    kernel_regularizer = regularizers.l2(1e-4)))\n",
    "    model.add(Dropout(0.5))\n",
    "    model.add(Dense(3, activation = 'softmax', \n",
    "                    kernel_regularizer = regularizers.l2(1e-4)))\n",
    "\n",
    "    model.compile(loss = 'categorical_crossentropy',\n",
    "                 optimizer = keras.optimizers.Adam(lr=0.0001),\n",
    "                 metrics=['acc'])\n",
    "    return model\n",
    "\n",
    "def neural_network_3(dims, seed):\n",
    "    model = Sequential()\n",
    "    model.add(Dense(1024, input_shape = (dims,), \n",
    "                    activation = 'relu', \n",
    "                    kernel_regularizer = regularizers.l2(1e-4)))\n",
    "    model.add(Dropout(0.5))\n",
    "    model.add(Dense(256, input_shape = (dims,), \n",
    "                    activation = 'relu', \n",
    "                    kernel_regularizer = regularizers.l2(1e-4)))\n",
    "    model.add(Dropout(0.5))\n",
    "    model.add(Dense(128, input_shape = (dims,), \n",
    "                    activation = 'relu', \n",
    "                    kernel_regularizer = regularizers.l2(1e-4)))\n",
    "    model.add(Dropout(0.5))\n",
    "    model.add(Dense(64, input_shape = (dims,), \n",
    "                    activation = 'relu',\n",
    "                    kernel_regularizer = regularizers.l2(1e-4)))\n",
    "    model.add(Dropout(0.5))\n",
    "    model.add(Dense(3, activation = 'softmax', \n",
    "                    kernel_regularizer = regularizers.l2(1e-4)))\n",
    "\n",
    "    model.compile(loss = 'categorical_crossentropy',\n",
    "                 optimizer = keras.optimizers.Adam(lr=0.0001),\n",
    "                 metrics=['acc'])\n",
    "    return model"
   ]
  },
  {
   "cell_type": "code",
   "execution_count": null,
   "id": "special-metro",
   "metadata": {},
   "outputs": [],
   "source": [
    "def checkpoint(checkpoint_filepath):\n",
    "    model_checkpoint = keras.callbacks.ModelCheckpoint(\n",
    "                    filepath=checkpoint_filepath,\n",
    "                    save_weights_only=True,\n",
    "                    monitor='val_loss',\n",
    "                    mode='auto',\n",
    "                    save_best_only=True)\n",
    "    return model_checkpoint"
   ]
  },
  {
   "cell_type": "code",
   "execution_count": null,
   "id": "developing-launch",
   "metadata": {},
   "outputs": [],
   "source": [
    "dims = X_data.shape[1]\n",
    "seed = 42\n",
    "batch_s = 32\n",
    "epochs_n = 20\n",
    "\n",
    "model = neural_network(dims, seed)\n",
    "model.summary()"
   ]
  },
  {
   "cell_type": "code",
   "execution_count": null,
   "id": "annual-constitution",
   "metadata": {},
   "outputs": [],
   "source": [
    "%%time\n",
    "history = model.fit(X_train, y_train, \n",
    "                    batch_size=batch_s, \n",
    "                    epochs=epochs_n, \n",
    "                    verbose=1,\n",
    "                    validation_split = 0.2,\n",
    "                    class_weight = {0 : weights[0], 1 : weights[1], 2 : weights[2]},\n",
    "                    callbacks = [checkpoint(\"../models/best_nn.h5\")])"
   ]
  },
  {
   "cell_type": "code",
   "execution_count": null,
   "id": "expensive-probability",
   "metadata": {},
   "outputs": [],
   "source": [
    "def loss_plotter(history):\n",
    "    fig = plt.figure(figsize=(6,8))\n",
    "    plt.subplot(2, 1, 1)\n",
    "    plt.plot(history.history[\"loss\"], label = \"Train loss\",\n",
    "             color = \"forestgreen\")\n",
    "    plt.plot(history.history[\"val_loss\"], label= \"Validation loss\",\n",
    "             color = \"orange\")\n",
    "    plt.legend(loc='upper right', fontsize = 10)\n",
    "    plt.xticks(fontsize = 10)\n",
    "    plt.yticks(fontsize = 10)\n",
    "    plt.xlabel('Epochs', size = 15)\n",
    "    plt.ylabel('Value', size = 15)\n",
    "    plt.title(\"Loss function\", size =20)\n",
    "    plt.show()\n",
    "    fig = plt.figure(figsize=(6,8))\n",
    "    plt.subplot(2, 1, 2)\n",
    "    plt.plot(history.history[\"acc\"], label = \"Train accuracy\",\n",
    "             color = \"forestgreen\")\n",
    "    plt.plot(history.history[\"val_acc\"], label= \"Validation accuracy\",\n",
    "             color = \"orange\")\n",
    "    plt.legend(fontsize = 12)\n",
    "    plt.xticks(fontsize = 10)\n",
    "    plt.yticks(fontsize = 10)\n",
    "    plt.xlabel('Epochs', size = 15)\n",
    "    plt.ylabel('Value', size = 15)\n",
    "    plt.title(\"Accuracy function\", size =20)\n",
    "    plt.show()"
   ]
  },
  {
   "cell_type": "code",
   "execution_count": null,
   "id": "purple-missile",
   "metadata": {},
   "outputs": [],
   "source": [
    "# load model\n",
    "filename = 'best_nn.h5'\n",
    "model.load_weights(f'../models/{filename}')"
   ]
  },
  {
   "cell_type": "code",
   "execution_count": null,
   "id": "tight-glasgow",
   "metadata": {},
   "outputs": [],
   "source": [
    "loss_plotter(history)"
   ]
  },
  {
   "cell_type": "code",
   "execution_count": null,
   "id": "centered-consent",
   "metadata": {},
   "outputs": [],
   "source": [
    "%%time\n",
    "# performance on TRAIN\n",
    "y_pred = np.argmax(model.predict(X_train), axis = 1)\n",
    "y_train_n = np.argmax(y_train, axis = 1)\n",
    "print('Classification report:')\n",
    "print(classification_report(y_train_n, y_pred))\n",
    "c_matrix(y_train_n, y_pred, [\"Hate\", \"Offensive\", \"Neither\"])"
   ]
  },
  {
   "cell_type": "code",
   "execution_count": null,
   "id": "natural-luxembourg",
   "metadata": {},
   "outputs": [],
   "source": [
    "c_matrix(y_test_n, y_pred, [\"Hate\", \"Offensive\", \"Neither\"]) \n"
   ]
  }
 ],
 "metadata": {
  "kernelspec": {
   "display_name": "Python 3",
   "language": "python",
   "name": "python3"
  },
  "language_info": {
   "codemirror_mode": {
    "name": "ipython",
    "version": 3
   },
   "file_extension": ".py",
   "mimetype": "text/x-python",
   "name": "python",
   "nbconvert_exporter": "python",
   "pygments_lexer": "ipython3",
   "version": "3.7.9"
  }
 },
 "nbformat": 4,
 "nbformat_minor": 5
}
