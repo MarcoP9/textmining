{
 "cells": [
  {
   "cell_type": "markdown",
   "id": "strategic-humanitarian",
   "metadata": {},
   "source": [
    "# Text mining & Search Project\n",
    "\n",
    "### Università degli Studi di Milano-Bicocca  2020/2021\n",
    "\n",
    "**Luzzi Federico** (matricola) **Peracchi Marco** 800578"
   ]
  },
  {
   "cell_type": "markdown",
   "id": "interstate-defendant",
   "metadata": {},
   "source": [
    "# Feature extraction\n",
    "\n",
    "In questa parte del progetto estraiamo dal report diverse feature che potrebbero essere utili al classificatore."
   ]
  },
  {
   "cell_type": "code",
   "execution_count": 1,
   "id": "foster-kenya",
   "metadata": {},
   "outputs": [],
   "source": [
    "import nltk\n",
    "import re\n",
    "import os\n",
    "from gensim.models.doc2vec import Doc2Vec, TaggedDocument # doc2vec\n",
    "import pandas as pd\n",
    "import numpy as np\n",
    "import pickle"
   ]
  },
  {
   "cell_type": "code",
   "execution_count": 2,
   "id": "incident-title",
   "metadata": {},
   "outputs": [],
   "source": [
    "from sklearn.model_selection import train_test_split\n",
    "from sklearn.linear_model import LogisticRegression\n",
    "from sklearn.naive_bayes import MultinomialNB\n",
    "from sklearn.svm import SVC\n",
    "from sklearn.feature_extraction.text import TfidfVectorizer\n",
    "from sklearn.ensemble import AdaBoostClassifier"
   ]
  },
  {
   "cell_type": "code",
   "execution_count": 7,
   "id": "expected-concern",
   "metadata": {},
   "outputs": [],
   "source": [
    "from matplotlib import pyplot as plt\n",
    "from sklearn.metrics import classification_report, confusion_matrix\n",
    "from nltk.sentiment.vader import SentimentIntensityAnalyzer as VS\n",
    "import seaborn as sns\n",
    "from utils import c_matrix\n",
    "from process_text import processing # preprocessing functions\n",
    "from features import *"
   ]
  },
  {
   "cell_type": "code",
   "execution_count": 8,
   "id": "crude-probability",
   "metadata": {},
   "outputs": [
    {
     "name": "stderr",
     "output_type": "stream",
     "text": [
      "[nltk_data] Downloading package stopwords to\n",
      "[nltk_data]     C:\\Users\\Marco\\AppData\\Roaming\\nltk_data...\n",
      "[nltk_data]   Package stopwords is already up-to-date!\n",
      "[nltk_data] Downloading package averaged_perceptron_tagger to\n",
      "[nltk_data]     C:\\Users\\Marco\\AppData\\Roaming\\nltk_data...\n",
      "[nltk_data]   Package averaged_perceptron_tagger is already up-to-\n",
      "[nltk_data]       date!\n",
      "[nltk_data] Downloading package wordnet to\n",
      "[nltk_data]     C:\\Users\\Marco\\AppData\\Roaming\\nltk_data...\n",
      "[nltk_data]   Package wordnet is already up-to-date!\n",
      "[nltk_data] Downloading package vader_lexicon to\n",
      "[nltk_data]     C:\\Users\\Marco\\AppData\\Roaming\\nltk_data...\n",
      "[nltk_data]   Package vader_lexicon is already up-to-date!\n"
     ]
    },
    {
     "data": {
      "text/plain": [
       "True"
      ]
     },
     "execution_count": 8,
     "metadata": {},
     "output_type": "execute_result"
    }
   ],
   "source": [
    "nltk.download(\"stopwords\")\n",
    "nltk.download('averaged_perceptron_tagger')\n",
    "nltk.download('wordnet')\n",
    "nltk.download('vader_lexicon')"
   ]
  },
  {
   "cell_type": "code",
   "execution_count": 9,
   "id": "double-digit",
   "metadata": {},
   "outputs": [
    {
     "name": "stdout",
     "output_type": "stream",
     "text": [
      "Load & preprocessing --- DONE\n"
     ]
    }
   ],
   "source": [
    "if 'processed_data.csv' not in os.listdir('../data'):\n",
    "    # load dataset\n",
    "    df = pd.read_csv(\"../data/labeled_data.csv\", sep = \",\").drop(\"Unnamed: 0\", axis=1)\n",
    "    # apply process_text\n",
    "    df[\"tweet_clean\"] = df[\"tweet\"].apply(lambda x : processing(x))\n",
    "    df.to_csv('../data/processed_data.csv', index = False)\n",
    "else:\n",
    "    df = pd.read_csv(\"../data/processed_data.csv\", sep = \",\")\n",
    "print(\"Load & preprocessing --- DONE\")"
   ]
  },
  {
   "cell_type": "code",
   "execution_count": 10,
   "id": "anonymous-tours",
   "metadata": {},
   "outputs": [],
   "source": [
    "# drop tweet list na !!!\n",
    "df[\"tweet_list\"] = df[\"tweet_clean\"].str.split(\" \").tolist()\n",
    "df.dropna(inplace = True)\n",
    "df = df.reset_index(drop = True)# drop 2 NA because tweet is empty"
   ]
  },
  {
   "cell_type": "markdown",
   "id": "adjusted-reality",
   "metadata": {},
   "source": [
    "### Sentiment Analysis"
   ]
  },
  {
   "cell_type": "code",
   "execution_count": 11,
   "id": "disabled-davis",
   "metadata": {},
   "outputs": [],
   "source": [
    "sentiments = []\n",
    "sentiment_analyzer = VS()\n",
    "for tweet in df['tweet_clean']:\n",
    "    sentiment = sentiment_analyzer.polarity_scores(tweet)\n",
    "    sentiments.append(sentiment)"
   ]
  },
  {
   "cell_type": "code",
   "execution_count": 12,
   "id": "viral-cheese",
   "metadata": {},
   "outputs": [],
   "source": [
    "neg = []\n",
    "neu = []\n",
    "pos = []\n",
    "compound = []\n",
    "for sentiment in sentiments:\n",
    "    neg.append(sentiment['neg'])\n",
    "    neu.append(sentiment['neu'])\n",
    "    pos.append(sentiment['pos'])\n",
    "    compound.append(sentiment['compound']) \n",
    "\n",
    "# save in dataframe  \n",
    "df['neg'] = neg\n",
    "df['neu'] = neu\n",
    "df['pos'] = pos\n",
    "df['compound'] = compound"
   ]
  },
  {
   "cell_type": "code",
   "execution_count": 13,
   "id": "robust-green",
   "metadata": {},
   "outputs": [
    {
     "data": {
      "image/png": "[encoded data removed]",
      "text/plain": [
       "<Figure size 936x360 with 3 Axes>"
      ]
     },
     "metadata": {
      "needs_background": "light"
     },
     "output_type": "display_data"
    }
   ],
   "source": [
    "selected_columns = [\"neg\", \"neu\", \"pos\", \"compound\"]\n",
    "\n",
    "fig, axs = plt.subplots(ncols = 3, figsize=(13,5))\n",
    "for i in range(3):\n",
    "    sns.boxplot(x=\"variable\", y=\"value\", data=pd.melt(df[df['class'] == i][selected_columns]), ax = axs[i])\n",
    "    axs[i].set_title(f\"Class {i}\", size = 20)\n",
    "    axs[i].set_xlabel(\"Sentiment\", size = 12)\n",
    "    axs[i].set_ylabel(\"\")\n",
    "    #axs[i].set_xticks(size = 12)\n",
    "    #axs[i].set_yticks(size = 12)\n",
    "plt.subplots_adjust(right = 1, wspace = 0.3)"
   ]
  },
  {
   "cell_type": "markdown",
   "id": "reliable-exemption",
   "metadata": {},
   "source": [
    "### Retweet"
   ]
  },
  {
   "cell_type": "code",
   "execution_count": 14,
   "id": "binding-refund",
   "metadata": {},
   "outputs": [],
   "source": [
    "def retweet(text):\n",
    "    text = preprocessing(text)\n",
    "    text_tokenized = tokenization(text)\n",
    "    flag = 0\n",
    "    for token in text_tokenized:\n",
    "        if token == \"rt\":\n",
    "            flag = 1\n",
    "    return flag"
   ]
  },
  {
   "cell_type": "code",
   "execution_count": null,
   "id": "described-stretch",
   "metadata": {},
   "outputs": [],
   "source": [
    "df[\"rt\"] = df[\"tweet\"].apply(lambda x : retweet(x))"
   ]
  },
  {
   "cell_type": "markdown",
   "id": "explicit-candle",
   "metadata": {},
   "source": [
    "### Tweet's length"
   ]
  },
  {
   "cell_type": "code",
   "execution_count": 15,
   "id": "convinced-fighter",
   "metadata": {},
   "outputs": [],
   "source": [
    "def tweet_length(text_clean):\n",
    "    return len(text_clean)"
   ]
  },
  {
   "cell_type": "code",
   "execution_count": null,
   "id": "mechanical-namibia",
   "metadata": {},
   "outputs": [],
   "source": [
    "df[\"len\"] = df[\"tweet_clean\"].apply(lambda x : tweet_length(x))"
   ]
  },
  {
   "cell_type": "markdown",
   "id": "wrapped-morris",
   "metadata": {},
   "source": [
    "### Tag's people"
   ]
  },
  {
   "cell_type": "code",
   "execution_count": null,
   "id": "instrumental-rings",
   "metadata": {},
   "outputs": [],
   "source": [
    "def reply_tweet(text):\n",
    "    if re.search(\"@\\w+\", text):\n",
    "        return 1\n",
    "    else:\n",
    "        return 0"
   ]
  },
  {
   "cell_type": "code",
   "execution_count": null,
   "id": "selective-turner",
   "metadata": {},
   "outputs": [],
   "source": [
    "df[\"num_rep\"] = df[\"tweet\"].apply(lambda x : reply_tweet(x))"
   ]
  },
  {
   "cell_type": "markdown",
   "id": "welsh-geology",
   "metadata": {},
   "source": [
    "### Number of exclamation points"
   ]
  },
  {
   "cell_type": "code",
   "execution_count": null,
   "id": "dressed-cameroon",
   "metadata": {},
   "outputs": [],
   "source": [
    "def exclamation(text):\n",
    "    return len(re.findall(\"!\", text))"
   ]
  },
  {
   "cell_type": "code",
   "execution_count": null,
   "id": "acute-adapter",
   "metadata": {},
   "outputs": [],
   "source": [
    "df[\"num_exc\"] = df[\"tweet\"].apply(lambda x : exclamation(x))"
   ]
  },
  {
   "cell_type": "markdown",
   "id": "known-coaching",
   "metadata": {},
   "source": [
    "### Number of emoji"
   ]
  },
  {
   "cell_type": "code",
   "execution_count": null,
   "id": "worth-harvard",
   "metadata": {},
   "outputs": [],
   "source": [
    "def emoji(text):\n",
    "    return len(re.findall(\"&#1\\d+\", text))"
   ]
  },
  {
   "cell_type": "code",
   "execution_count": null,
   "id": "available-turning",
   "metadata": {},
   "outputs": [],
   "source": [
    "df[\"emoji\"] = df[\"tweet\"].apply(lambda x : emoji(x))"
   ]
  }
 ],
 "metadata": {
  "kernelspec": {
   "display_name": "Python 3",
   "language": "python",
   "name": "python3"
  },
  "language_info": {
   "codemirror_mode": {
    "name": "ipython",
    "version": 3
   },
   "file_extension": ".py",
   "mimetype": "text/x-python",
   "name": "python",
   "nbconvert_exporter": "python",
   "pygments_lexer": "ipython3",
   "version": "3.7.9"
  }
 },
 "nbformat": 4,
 "nbformat_minor": 5
}
