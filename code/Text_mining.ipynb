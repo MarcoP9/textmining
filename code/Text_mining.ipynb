{
 "cells": [
  {
   "cell_type": "markdown",
   "id": "experienced-retailer",
   "metadata": {},
   "source": [
    "# Text mining project"
   ]
  },
  {
   "cell_type": "code",
   "execution_count": 1,
   "id": "stuffed-outside",
   "metadata": {},
   "outputs": [],
   "source": [
    "import nltk\n",
    "import os\n",
    "from gensim.models.doc2vec import Doc2Vec, TaggedDocument # doc2vec\n",
    "import pandas as pd\n",
    "import numpy as np\n",
    "import pickle"
   ]
  },
  {
   "cell_type": "code",
   "execution_count": 6,
   "id": "stupid-impact",
   "metadata": {},
   "outputs": [],
   "source": [
    "# models\n",
    "from sklearn.model_selection import train_test_split\n",
    "from sklearn.linear_model import LogisticRegression\n",
    "from sklearn.naive_bayes import MultinomialNB\n",
    "from sklearn.svm import SVC\n",
    "from sklearn.feature_extraction.text import TfidfVectorizer"
   ]
  },
  {
   "cell_type": "code",
   "execution_count": 3,
   "id": "complex-familiar",
   "metadata": {},
   "outputs": [],
   "source": [
    "# results\n",
    "from matplotlib import pyplot as plt\n",
    "from sklearn.metrics import classification_report, confusion_matrix\n",
    "import seaborn as sns\n",
    "from utils import c_matrix\n",
    "from process_text import processing # preprocessing functions"
   ]
  },
  {
   "cell_type": "code",
   "execution_count": 4,
   "id": "spatial-marketing",
   "metadata": {
    "scrolled": true
   },
   "outputs": [
    {
     "name": "stderr",
     "output_type": "stream",
     "text": [
      "[nltk_data] Downloading package stopwords to\n",
      "[nltk_data]     C:\\Users\\Marco\\AppData\\Roaming\\nltk_data...\n",
      "[nltk_data]   Package stopwords is already up-to-date!\n",
      "[nltk_data] Downloading package averaged_perceptron_tagger to\n",
      "[nltk_data]     C:\\Users\\Marco\\AppData\\Roaming\\nltk_data...\n",
      "[nltk_data]   Package averaged_perceptron_tagger is already up-to-\n",
      "[nltk_data]       date!\n",
      "[nltk_data] Downloading package wordnet to\n",
      "[nltk_data]     C:\\Users\\Marco\\AppData\\Roaming\\nltk_data...\n",
      "[nltk_data]   Package wordnet is already up-to-date!\n"
     ]
    },
    {
     "data": {
      "text/plain": [
       "True"
      ]
     },
     "execution_count": 4,
     "metadata": {},
     "output_type": "execute_result"
    }
   ],
   "source": [
    "#setting working directory\n",
    "#os.chdir(\"C:/Users/fede9/Documents/GitHub/textmining/code\")\n",
    "nltk.download(\"stopwords\")\n",
    "nltk.download('averaged_perceptron_tagger')\n",
    "nltk.download('wordnet')"
   ]
  },
  {
   "cell_type": "markdown",
   "id": "featured-wells",
   "metadata": {},
   "source": [
    "## Preprocess text"
   ]
  },
  {
   "cell_type": "code",
   "execution_count": 4,
   "id": "bacterial-river",
   "metadata": {},
   "outputs": [
    {
     "name": "stdout",
     "output_type": "stream",
     "text": [
      "Load & preprocessing --- DONE\n"
     ]
    }
   ],
   "source": [
    "if 'processed_data.csv' not in os.listdir('../data'):\n",
    "    # load dataset\n",
    "    df = pd.read_csv(\"../data/labeled_data.csv\", sep = \",\").drop(\"Unnamed: 0\", axis=1)\n",
    "    # apply process_text\n",
    "    df[[\"tweet_clean\", \"rt\"]] = df[\"tweet\"].apply(lambda x : processing(x))\n",
    "    df.to_csv('../data/processed_data.csv', index = False)\n",
    "else:\n",
    "    df = pd.read_csv(\"../data/processed_data.csv\", sep = \",\")\n",
    "print(\"Load & preprocessing --- DONE\")"
   ]
  },
  {
   "cell_type": "code",
   "execution_count": 5,
   "id": "raised-editing",
   "metadata": {},
   "outputs": [],
   "source": [
    "# drop tweet list na !!!\n",
    "df[\"tweet_list\"] = df[\"tweet_clean\"].str.split(\" \").tolist()\n",
    "df.dropna(inplace = True)\n",
    "df = df.reset_index(drop = True)# drop 2 NA because tweet is empty"
   ]
  },
  {
   "cell_type": "markdown",
   "id": "binary-polish",
   "metadata": {},
   "source": [
    "## Doc2vec"
   ]
  },
  {
   "cell_type": "code",
   "execution_count": 10,
   "id": "reasonable-world",
   "metadata": {
    "scrolled": true
   },
   "outputs": [
    {
     "name": "stdout",
     "output_type": "stream",
     "text": [
      "Doc2Vec model --- DONE\n"
     ]
    }
   ],
   "source": [
    "### doc2vec\n",
    "# generate model of vectorization\n",
    "if 'd2v.model' not in os.listdir('../models'):\n",
    "    documents = [TaggedDocument (doc, [i]) for i, doc in enumerate(df[\"tweet_list\"])]\n",
    "    model = Doc2Vec (documents, vector_size=100, window=10, min_count=1)\n",
    "    model.save(\"../models/d2v.model\")\n",
    "else:\n",
    "    model = Doc2Vec.load(\"../models/d2v.model\")\n",
    "print(\"Doc2Vec model --- DONE\")"
   ]
  },
  {
   "cell_type": "markdown",
   "id": "continental-engineer",
   "metadata": {},
   "source": [
    "## Vectorization (for doc2vec)"
   ]
  },
  {
   "cell_type": "code",
   "execution_count": 11,
   "id": "burning-rwanda",
   "metadata": {},
   "outputs": [
    {
     "name": "stdout",
     "output_type": "stream",
     "text": [
      "Vectorization --- DONE\n"
     ]
    }
   ],
   "source": [
    "### vectorization\n",
    "# vettori per tutti i documenti\n",
    "df[\"vectors\"] = df[\"tweet_list\"].apply(lambda x: model.infer_vector(x))\n",
    "print(\"Vectorization --- DONE\")"
   ]
  },
  {
   "cell_type": "markdown",
   "id": "drawn-appeal",
   "metadata": {},
   "source": [
    "## TF-IDF"
   ]
  },
  {
   "cell_type": "code",
   "execution_count": 21,
   "id": "funny-regulation",
   "metadata": {},
   "outputs": [],
   "source": [
    "vectorizer = TfidfVectorizer(\n",
    "    use_idf=True,\n",
    "    max_features=10000,\n",
    "    min_df=5,\n",
    "    max_df=0.501\n",
    "    # , ngram_range=(1, 3) Il miglire rimane uni-gram, pessimo score del bi-gram\n",
    "    )"
   ]
  },
  {
   "cell_type": "code",
   "execution_count": 22,
   "id": "frozen-birth",
   "metadata": {},
   "outputs": [],
   "source": [
    "tfidf = vectorizer.fit_transform(df[\"tweet_clean\"]).toarray()"
   ]
  },
  {
   "cell_type": "code",
   "execution_count": 23,
   "id": "favorite-accused",
   "metadata": {},
   "outputs": [
    {
     "data": {
      "text/plain": [
       "(24781, 3598)"
      ]
     },
     "execution_count": 23,
     "metadata": {},
     "output_type": "execute_result"
    }
   ],
   "source": [
    "tfidf.shape"
   ]
  },
  {
   "cell_type": "markdown",
   "id": "musical-terry",
   "metadata": {},
   "source": [
    "## Vader Sentiment"
   ]
  },
  {
   "cell_type": "code",
   "execution_count": 10,
   "id": "judicial-vermont",
   "metadata": {},
   "outputs": [
    {
     "name": "stderr",
     "output_type": "stream",
     "text": [
      "[nltk_data] Downloading package vader_lexicon to\n",
      "[nltk_data]     C:\\Users\\Marco\\AppData\\Roaming\\nltk_data...\n",
      "[nltk_data]   Package vader_lexicon is already up-to-date!\n"
     ]
    },
    {
     "data": {
      "text/plain": [
       "True"
      ]
     },
     "execution_count": 10,
     "metadata": {},
     "output_type": "execute_result"
    }
   ],
   "source": [
    "from nltk.sentiment.vader import SentimentIntensityAnalyzer as VS\n",
    "nltk.download('vader_lexicon')"
   ]
  },
  {
   "cell_type": "code",
   "execution_count": 11,
   "id": "editorial-vampire",
   "metadata": {},
   "outputs": [],
   "source": [
    "sentiments = []\n",
    "sentiment_analyzer = VS()\n",
    "for tweet in df['tweet_clean']:\n",
    "    sentiment = sentiment_analyzer.polarity_scores(tweet)\n",
    "    sentiments.append(sentiment)"
   ]
  },
  {
   "cell_type": "code",
   "execution_count": 13,
   "id": "grand-negative",
   "metadata": {},
   "outputs": [
    {
     "name": "stdout",
     "output_type": "stream",
     "text": [
      "24781\n",
      "[{'neg': 0.0, 'neu': 0.791, 'pos': 0.209, 'compound': 0.2755}, {'neg': 0.259, 'neu': 0.741, 'pos': 0.0, 'compound': -0.5423}, {'neg': 0.841, 'neu': 0.159, 'pos': 0.0, 'compound': -0.9423}, {'neg': 0.0, 'neu': 0.444, 'pos': 0.556, 'compound': 0.3612}, {'neg': 0.457, 'neu': 0.37, 'pos': 0.173, 'compound': -0.6808}]\n"
     ]
    }
   ],
   "source": [
    "print(len(sentiments))\n",
    "print(sentiments[:5])"
   ]
  },
  {
   "cell_type": "code",
   "execution_count": 14,
   "id": "elegant-ranking",
   "metadata": {},
   "outputs": [
    {
     "data": {
      "text/plain": [
       "'look like tranny'"
      ]
     },
     "execution_count": 14,
     "metadata": {},
     "output_type": "execute_result"
    }
   ],
   "source": [
    "df['tweet_clean'][3]"
   ]
  },
  {
   "cell_type": "code",
   "execution_count": 23,
   "id": "sweet-patch",
   "metadata": {},
   "outputs": [],
   "source": [
    "a = \"save the motherfucker\""
   ]
  },
  {
   "cell_type": "code",
   "execution_count": 24,
   "id": "oriental-palmer",
   "metadata": {},
   "outputs": [
    {
     "data": {
      "text/plain": [
       "{'neg': 0.523, 'neu': 0.114, 'pos': 0.364, 'compound': -0.34}"
      ]
     },
     "execution_count": 24,
     "metadata": {},
     "output_type": "execute_result"
    }
   ],
   "source": [
    "sentiment_analyzer.polarity_scores(a)"
   ]
  },
  {
   "cell_type": "code",
   "execution_count": 12,
   "id": "affected-chart",
   "metadata": {},
   "outputs": [],
   "source": [
    "neg = []\n",
    "neu = []\n",
    "pos = []\n",
    "compound = []\n",
    "for sentiment in sentiments:\n",
    "    neg.append(sentiment['neg'])\n",
    "    neu.append(sentiment['neu'])\n",
    "    pos.append(sentiment['pos'])\n",
    "    compound.append(sentiment['compound']) \n",
    "\n",
    "# save in dataframe  \n",
    "df['neg'] = neg\n",
    "df['neu'] = neu\n",
    "df['pos'] = pos\n",
    "df['compound'] = compound"
   ]
  },
  {
   "cell_type": "code",
   "execution_count": 58,
   "id": "individual-portfolio",
   "metadata": {
    "scrolled": true
   },
   "outputs": [
    {
     "data": {
      "image/png": "[encoded data removed]",
      "text/plain": [
       "<Figure size 936x360 with 3 Axes>"
      ]
     },
     "metadata": {
      "needs_background": "light"
     },
     "output_type": "display_data"
    }
   ],
   "source": [
    "selected_columns = [\"neg\", \"neu\", \"pos\", \"compound\"]\n",
    "\n",
    "fig, axs = plt.subplots(ncols = 3, figsize=(13,5))\n",
    "for i in range(3):\n",
    "    sns.boxplot(x=\"variable\", y=\"value\", data=pd.melt(df[df['class'] == i][selected_columns]), ax = axs[i])\n",
    "    axs[i].set_title(f\"Class {i}\", size = 20)\n",
    "    axs[i].set_xlabel(\"Sentiment\", size = 12)\n",
    "    axs[i].set_ylabel(\"\")\n",
    "    #axs[i].set_xticks(size = 12)\n",
    "    #axs[i].set_yticks(size = 12)\n",
    "plt.subplots_adjust(right = 1, wspace = 0.3)"
   ]
  },
  {
   "cell_type": "code",
   "execution_count": 17,
   "id": "capable-bridges",
   "metadata": {},
   "outputs": [
    {
     "data": {
      "text/html": [
       "<div>\n",
       "<style scoped>\n",
       "    .dataframe tbody tr th:only-of-type {\n",
       "        vertical-align: middle;\n",
       "    }\n",
       "\n",
       "    .dataframe tbody tr th {\n",
       "        vertical-align: top;\n",
       "    }\n",
       "\n",
       "    .dataframe thead th {\n",
       "        text-align: right;\n",
       "    }\n",
       "</style>\n",
       "<table border=\"1\" class=\"dataframe\">\n",
       "  <thead>\n",
       "    <tr style=\"text-align: right;\">\n",
       "      <th></th>\n",
       "      <th>count</th>\n",
       "      <th>hate_speech</th>\n",
       "      <th>offensive_language</th>\n",
       "      <th>neither</th>\n",
       "      <th>class</th>\n",
       "      <th>tweet</th>\n",
       "      <th>tweet_clean</th>\n",
       "      <th>tweet_list</th>\n",
       "      <th>neg</th>\n",
       "      <th>neu</th>\n",
       "      <th>pos</th>\n",
       "      <th>compound</th>\n",
       "    </tr>\n",
       "  </thead>\n",
       "  <tbody>\n",
       "    <tr>\n",
       "      <th>0</th>\n",
       "      <td>3</td>\n",
       "      <td>0</td>\n",
       "      <td>0</td>\n",
       "      <td>3</td>\n",
       "      <td>2</td>\n",
       "      <td>!!! RT @mayasolovely: As a woman you shouldn't...</td>\n",
       "      <td>woman shouldnt complain cleaning house man alw...</td>\n",
       "      <td>[woman, shouldnt, complain, cleaning, house, m...</td>\n",
       "      <td>0.000</td>\n",
       "      <td>0.791</td>\n",
       "      <td>0.209</td>\n",
       "      <td>0.2755</td>\n",
       "    </tr>\n",
       "    <tr>\n",
       "      <th>1</th>\n",
       "      <td>3</td>\n",
       "      <td>0</td>\n",
       "      <td>3</td>\n",
       "      <td>0</td>\n",
       "      <td>1</td>\n",
       "      <td>!!!!! RT @mleew17: boy dats cold...tyga dwn ba...</td>\n",
       "      <td>boy dat cold tyga dwn bad cuffin dat hoe st place</td>\n",
       "      <td>[boy, dat, cold, tyga, dwn, bad, cuffin, dat, ...</td>\n",
       "      <td>0.259</td>\n",
       "      <td>0.741</td>\n",
       "      <td>0.000</td>\n",
       "      <td>-0.5423</td>\n",
       "    </tr>\n",
       "    <tr>\n",
       "      <th>2</th>\n",
       "      <td>3</td>\n",
       "      <td>0</td>\n",
       "      <td>3</td>\n",
       "      <td>0</td>\n",
       "      <td>1</td>\n",
       "      <td>!!!!!!! RT @UrKindOfBrand Dawg!!!! RT @80sbaby...</td>\n",
       "      <td>dawg ever fuck bitch start cry confuse shit</td>\n",
       "      <td>[dawg, ever, fuck, bitch, start, cry, confuse,...</td>\n",
       "      <td>0.841</td>\n",
       "      <td>0.159</td>\n",
       "      <td>0.000</td>\n",
       "      <td>-0.9423</td>\n",
       "    </tr>\n",
       "    <tr>\n",
       "      <th>3</th>\n",
       "      <td>3</td>\n",
       "      <td>0</td>\n",
       "      <td>2</td>\n",
       "      <td>1</td>\n",
       "      <td>1</td>\n",
       "      <td>!!!!!!!!! RT @C_G_Anderson: @viva_based she lo...</td>\n",
       "      <td>look like tranny</td>\n",
       "      <td>[look, like, tranny]</td>\n",
       "      <td>0.000</td>\n",
       "      <td>0.444</td>\n",
       "      <td>0.556</td>\n",
       "      <td>0.3612</td>\n",
       "    </tr>\n",
       "    <tr>\n",
       "      <th>4</th>\n",
       "      <td>6</td>\n",
       "      <td>0</td>\n",
       "      <td>6</td>\n",
       "      <td>0</td>\n",
       "      <td>1</td>\n",
       "      <td>!!!!!!!!!!!!! RT @ShenikaRoberts: The shit you...</td>\n",
       "      <td>shit hear might true might faker bitch tell ya</td>\n",
       "      <td>[shit, hear, might, true, might, faker, bitch,...</td>\n",
       "      <td>0.457</td>\n",
       "      <td>0.370</td>\n",
       "      <td>0.173</td>\n",
       "      <td>-0.6808</td>\n",
       "    </tr>\n",
       "  </tbody>\n",
       "</table>\n",
       "</div>"
      ],
      "text/plain": [
       "   count  hate_speech  offensive_language  neither  class  \\\n",
       "0      3            0                   0        3      2   \n",
       "1      3            0                   3        0      1   \n",
       "2      3            0                   3        0      1   \n",
       "3      3            0                   2        1      1   \n",
       "4      6            0                   6        0      1   \n",
       "\n",
       "                                               tweet  \\\n",
       "0  !!! RT @mayasolovely: As a woman you shouldn't...   \n",
       "1  !!!!! RT @mleew17: boy dats cold...tyga dwn ba...   \n",
       "2  !!!!!!! RT @UrKindOfBrand Dawg!!!! RT @80sbaby...   \n",
       "3  !!!!!!!!! RT @C_G_Anderson: @viva_based she lo...   \n",
       "4  !!!!!!!!!!!!! RT @ShenikaRoberts: The shit you...   \n",
       "\n",
       "                                         tweet_clean  \\\n",
       "0  woman shouldnt complain cleaning house man alw...   \n",
       "1  boy dat cold tyga dwn bad cuffin dat hoe st place   \n",
       "2        dawg ever fuck bitch start cry confuse shit   \n",
       "3                                   look like tranny   \n",
       "4     shit hear might true might faker bitch tell ya   \n",
       "\n",
       "                                          tweet_list    neg    neu    pos  \\\n",
       "0  [woman, shouldnt, complain, cleaning, house, m...  0.000  0.791  0.209   \n",
       "1  [boy, dat, cold, tyga, dwn, bad, cuffin, dat, ...  0.259  0.741  0.000   \n",
       "2  [dawg, ever, fuck, bitch, start, cry, confuse,...  0.841  0.159  0.000   \n",
       "3                               [look, like, tranny]  0.000  0.444  0.556   \n",
       "4  [shit, hear, might, true, might, faker, bitch,...  0.457  0.370  0.173   \n",
       "\n",
       "   compound  \n",
       "0    0.2755  \n",
       "1   -0.5423  \n",
       "2   -0.9423  \n",
       "3    0.3612  \n",
       "4   -0.6808  "
      ]
     },
     "execution_count": 17,
     "metadata": {},
     "output_type": "execute_result"
    }
   ],
   "source": [
    "df.head()"
   ]
  },
  {
   "cell_type": "markdown",
   "id": "tracked-constraint",
   "metadata": {},
   "source": [
    "## Text classification"
   ]
  },
  {
   "cell_type": "code",
   "execution_count": 24,
   "id": "arbitrary-paste",
   "metadata": {},
   "outputs": [],
   "source": [
    "# prepare data\n",
    "#X_data = np.stack(df[\"vectors\"], axis = 0)\n",
    "#X_data = pd.concat([pd.DataFrame(tfidf), df[['neg', 'neu', 'pos', 'compound']]], axis = 1)\n",
    "X_data = pd.concat([pd.DataFrame(tfidf), df[\"rt\"]], axis = 1)\n",
    "Y_data = df[\"class\"]\n",
    "\n",
    "# verifica dimensioni vettori\n",
    "assert X_data.shape[0] == Y_data.shape[0]"
   ]
  },
  {
   "cell_type": "code",
   "execution_count": 25,
   "id": "muslim-uncle",
   "metadata": {},
   "outputs": [],
   "source": [
    "# split train-test\n",
    "X_train, X_test, y_train, y_test = train_test_split(X_data, Y_data,\n",
    "                                                   test_size = 0.2,\n",
    "                                                   random_state = 42,\n",
    "                                                   shuffle = True,\n",
    "                                                   stratify = Y_data)\n",
    "\n",
    "assert X_train.shape[0] == y_train.shape[0]\n",
    "assert X_test.shape[0] == y_test.shape[0]"
   ]
  },
  {
   "cell_type": "code",
   "execution_count": 26,
   "id": "accepted-nightmare",
   "metadata": {},
   "outputs": [],
   "source": [
    "# class weights\n",
    "# w_J = n_samples / (n_classes * n_samples_J)\n",
    "weights = len(df['class']) / (3 * df['class'].value_counts())\n",
    "# model\n",
    "model = SVC(random_state = 42, \n",
    "            class_weight= {0 : weights[0], 1 : weights[1], 2 : weights[2]})"
   ]
  },
  {
   "cell_type": "code",
   "execution_count": 27,
   "id": "cross-local",
   "metadata": {},
   "outputs": [
    {
     "name": "stdout",
     "output_type": "stream",
     "text": [
      "Modelling --- DONE\n",
      "Wall time: 24min 31s\n"
     ]
    }
   ],
   "source": [
    "%%time\n",
    "# fitting\n",
    "model.fit(X_train, y_train)\n",
    "print(\"Modelling --- DONE\")"
   ]
  },
  {
   "cell_type": "code",
   "execution_count": 30,
   "id": "referenced-stephen",
   "metadata": {},
   "outputs": [],
   "source": [
    "# save model\n",
    "filename = 'svm_retweet.sav'\n",
    "pickle.dump(model, open(f'../models/{filename}', 'wb'))"
   ]
  },
  {
   "cell_type": "code",
   "execution_count": 18,
   "id": "determined-patrick",
   "metadata": {},
   "outputs": [],
   "source": [
    "# load model\n",
    "filename = 'svm_sentiment.sav'\n",
    "model_2 = pickle.load(open(f'../models/{filename}', 'rb'))"
   ]
  },
  {
   "cell_type": "markdown",
   "id": "turkish-centre",
   "metadata": {},
   "source": [
    "## Comments"
   ]
  },
  {
   "cell_type": "markdown",
   "id": "external-glenn",
   "metadata": {},
   "source": [
    "Modelli e risultati di accuracy sul test\n",
    "- 10000 tfidf best model yet 92% (**non mi ricordo spero sia corretta**)\n",
    "- 10000 tfidf, 4 sentiment riduce un pochino la performance 83% (**non ricordo quanto fosse**)\n",
    "- 100 tfidf, retweet **83%**\n",
    "- 10000 tfidf, retweet *24 min* **89%**"
   ]
  },
  {
   "cell_type": "markdown",
   "id": "ignored-execution",
   "metadata": {},
   "source": [
    "## Performance"
   ]
  },
  {
   "cell_type": "markdown",
   "id": "fixed-dairy",
   "metadata": {},
   "source": [
    "### Train"
   ]
  },
  {
   "cell_type": "code",
   "execution_count": 28,
   "id": "joined-quarterly",
   "metadata": {},
   "outputs": [
    {
     "name": "stdout",
     "output_type": "stream",
     "text": [
      "Classification report:\n",
      "              precision    recall  f1-score   support\n",
      "\n",
      "           0       0.72      1.00      0.83      1144\n",
      "           1       1.00      0.94      0.97     15351\n",
      "           2       0.86      0.99      0.92      3329\n",
      "\n",
      "    accuracy                           0.95     19824\n",
      "   macro avg       0.86      0.98      0.91     19824\n",
      "weighted avg       0.96      0.95      0.95     19824\n",
      "\n"
     ]
    },
    {
     "data": {
      "image/png": "[encoded data removed]",
      "text/plain": [
       "<Figure size 576x432 with 2 Axes>"
      ]
     },
     "metadata": {
      "needs_background": "light"
     },
     "output_type": "display_data"
    },
    {
     "name": "stdout",
     "output_type": "stream",
     "text": [
      "Wall time: 14min 24s\n"
     ]
    }
   ],
   "source": [
    "%%time\n",
    "# performance on TRAIN\n",
    "y_pred = model.predict(X_train)   \n",
    "print('Classification report:')\n",
    "print(classification_report(y_train, y_pred))\n",
    "c_matrix(y_train, y_pred, [\"Hate\", \"Offensive\", \"Neither\"])"
   ]
  },
  {
   "cell_type": "markdown",
   "id": "medium-stylus",
   "metadata": {},
   "source": [
    "### Test"
   ]
  },
  {
   "cell_type": "code",
   "execution_count": 29,
   "id": "chubby-experience",
   "metadata": {
    "scrolled": false
   },
   "outputs": [
    {
     "name": "stdout",
     "output_type": "stream",
     "text": [
      "Classification report:\n",
      "              precision    recall  f1-score   support\n",
      "\n",
      "           0       0.42      0.44      0.43       286\n",
      "           1       0.96      0.91      0.93      3838\n",
      "           2       0.79      0.95      0.86       833\n",
      "\n",
      "    accuracy                           0.89      4957\n",
      "   macro avg       0.72      0.77      0.74      4957\n",
      "weighted avg       0.90      0.89      0.89      4957\n",
      "\n"
     ]
    },
    {
     "data": {
      "image/png": "[encoded data removed]",
      "text/plain": [
       "<Figure size 576x432 with 2 Axes>"
      ]
     },
     "metadata": {
      "needs_background": "light"
     },
     "output_type": "display_data"
    },
    {
     "name": "stdout",
     "output_type": "stream",
     "text": [
      "Wall time: 3min 33s\n"
     ]
    }
   ],
   "source": [
    "%%time\n",
    "# performance on TEST\n",
    "y_pred = model.predict(X_test)   \n",
    "print('Classification report:')\n",
    "print(classification_report(y_test, y_pred))\n",
    "c_matrix(y_test, y_pred, [\"Hate\", \"Offensive\", \"Neither\"]) "
   ]
  }
 ],
 "metadata": {
  "kernelspec": {
   "display_name": "Python 3",
   "language": "python",
   "name": "python3"
  },
  "language_info": {
   "codemirror_mode": {
    "name": "ipython",
    "version": 3
   },
   "file_extension": ".py",
   "mimetype": "text/x-python",
   "name": "python",
   "nbconvert_exporter": "python",
   "pygments_lexer": "ipython3",
   "version": "3.7.9"
  }
 },
 "nbformat": 4,
 "nbformat_minor": 5
}
