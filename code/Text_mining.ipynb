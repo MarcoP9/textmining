{
 "cells": [
  {
   "cell_type": "markdown",
   "id": "experienced-retailer",
   "metadata": {},
   "source": [
    "# Text mining & Search Project\n",
    "\n",
    "### Università degli Studi di Milano-Bicocca  2020/2021\n",
    "\n",
    "**Luzzi Federico** (matricola) **Peracchi Marco** 800578"
   ]
  },
  {
   "cell_type": "code",
   "execution_count": 1,
   "id": "stuffed-outside",
   "metadata": {},
   "outputs": [],
   "source": [
    "import nltk\n",
    "import re\n",
    "import os\n",
    "from gensim.models.doc2vec import Doc2Vec, TaggedDocument # doc2vec\n",
    "import pandas as pd\n",
    "import numpy as np\n",
    "import pickle"
   ]
  },
  {
   "cell_type": "code",
   "execution_count": 2,
   "id": "stupid-impact",
   "metadata": {},
   "outputs": [],
   "source": [
    "# models\n",
    "from sklearn.model_selection import train_test_split\n",
    "from sklearn.linear_model import LogisticRegression\n",
    "from sklearn.naive_bayes import MultinomialNB\n",
    "from sklearn.svm import SVC\n",
    "from sklearn.feature_extraction.text import TfidfVectorizer"
   ]
  },
  {
   "cell_type": "code",
   "execution_count": 12,
   "id": "complex-familiar",
   "metadata": {},
   "outputs": [],
   "source": [
    "# results\n",
    "from matplotlib import pyplot as plt\n",
    "from sklearn.metrics import classification_report, confusion_matrix\n",
    "import seaborn as sns\n",
    "from utils import c_matrix\n",
    "from process_text import processing # preprocessing functions\n",
    "from features import *"
   ]
  },
  {
   "cell_type": "code",
   "execution_count": 4,
   "id": "spatial-marketing",
   "metadata": {
    "scrolled": true
   },
   "outputs": [
    {
     "name": "stderr",
     "output_type": "stream",
     "text": [
      "[nltk_data] Downloading package stopwords to\n",
      "[nltk_data]     C:\\Users\\Marco\\AppData\\Roaming\\nltk_data...\n",
      "[nltk_data]   Package stopwords is already up-to-date!\n",
      "[nltk_data] Downloading package averaged_perceptron_tagger to\n",
      "[nltk_data]     C:\\Users\\Marco\\AppData\\Roaming\\nltk_data...\n",
      "[nltk_data]   Package averaged_perceptron_tagger is already up-to-\n",
      "[nltk_data]       date!\n",
      "[nltk_data] Downloading package wordnet to\n",
      "[nltk_data]     C:\\Users\\Marco\\AppData\\Roaming\\nltk_data...\n",
      "[nltk_data]   Package wordnet is already up-to-date!\n"
     ]
    },
    {
     "data": {
      "text/plain": [
       "True"
      ]
     },
     "execution_count": 4,
     "metadata": {},
     "output_type": "execute_result"
    }
   ],
   "source": [
    "#setting working directory\n",
    "#os.chdir(\"C:/Users/fede9/Documents/GitHub/textmining/code\")\n",
    "nltk.download(\"stopwords\")\n",
    "nltk.download('averaged_perceptron_tagger')\n",
    "nltk.download('wordnet')"
   ]
  },
  {
   "cell_type": "markdown",
   "id": "featured-wells",
   "metadata": {},
   "source": [
    "## Preprocess text"
   ]
  },
  {
   "cell_type": "code",
   "execution_count": 4,
   "id": "bacterial-river",
   "metadata": {},
   "outputs": [
    {
     "name": "stdout",
     "output_type": "stream",
     "text": [
      "Load & preprocessing --- DONE\n"
     ]
    }
   ],
   "source": [
    "if 'processed_data.csv' not in os.listdir('../data'):\n",
    "    # load dataset\n",
    "    df = pd.read_csv(\"../data/labeled_data.csv\", sep = \",\").drop(\"Unnamed: 0\", axis=1)\n",
    "    # apply process_text\n",
    "    df[\"tweet_clean\"] = df[\"tweet\"].apply(lambda x : processing(x))\n",
    "    df.to_csv('../data/processed_data.csv', index = False)\n",
    "else:\n",
    "    df = pd.read_csv(\"../data/processed_data.csv\", sep = \",\")\n",
    "print(\"Load & preprocessing --- DONE\")"
   ]
  },
  {
   "cell_type": "code",
   "execution_count": 5,
   "id": "accredited-publication",
   "metadata": {},
   "outputs": [],
   "source": [
    "# drop tweet list na !!!\n",
    "df[\"tweet_list\"] = df[\"tweet_clean\"].str.split(\" \").tolist()\n",
    "df.dropna(inplace = True)\n",
    "df = df.reset_index(drop = True)# drop 2 NA because tweet is empty"
   ]
  },
  {
   "cell_type": "markdown",
   "id": "searching-model",
   "metadata": {},
   "source": [
    "&8220 = \"\n",
    "\n",
    "&8221 = \"\n",
    "\n",
    "&amp; = &\n",
    "\n",
    "&#128514 = Lacrime dal ridere"
   ]
  },
  {
   "cell_type": "markdown",
   "id": "binary-polish",
   "metadata": {},
   "source": [
    "## Doc2vec"
   ]
  },
  {
   "cell_type": "code",
   "execution_count": 10,
   "id": "reasonable-world",
   "metadata": {
    "scrolled": true
   },
   "outputs": [
    {
     "name": "stdout",
     "output_type": "stream",
     "text": [
      "Doc2Vec model --- DONE\n"
     ]
    }
   ],
   "source": [
    "### doc2vec\n",
    "# generate model of vectorization\n",
    "if 'd2v.model' not in os.listdir('../models'):\n",
    "    documents = [TaggedDocument (doc, [i]) for i, doc in enumerate(df[\"tweet_list\"])]\n",
    "    model = Doc2Vec (documents, vector_size=100, window=10, min_count=1)\n",
    "    model.save(\"../models/d2v.model\")\n",
    "else:\n",
    "    model = Doc2Vec.load(\"../models/d2v.model\")\n",
    "print(\"Doc2Vec model --- DONE\")"
   ]
  },
  {
   "cell_type": "markdown",
   "id": "continental-engineer",
   "metadata": {},
   "source": [
    "## Vectorization (for doc2vec)"
   ]
  },
  {
   "cell_type": "code",
   "execution_count": 11,
   "id": "burning-rwanda",
   "metadata": {},
   "outputs": [
    {
     "name": "stdout",
     "output_type": "stream",
     "text": [
      "Vectorization --- DONE\n"
     ]
    }
   ],
   "source": [
    "### vectorization\n",
    "# vettori per tutti i documenti\n",
    "df[\"vectors\"] = df[\"tweet_list\"].apply(lambda x: model.infer_vector(x))\n",
    "print(\"Vectorization --- DONE\")"
   ]
  },
  {
   "cell_type": "markdown",
   "id": "drawn-appeal",
   "metadata": {},
   "source": [
    "## TF-IDF"
   ]
  },
  {
   "cell_type": "code",
   "execution_count": 6,
   "id": "funny-regulation",
   "metadata": {},
   "outputs": [],
   "source": [
    "vectorizer = TfidfVectorizer(\n",
    "    use_idf=True,\n",
    "    max_features=100,\n",
    "    min_df=5,\n",
    "    max_df=0.501\n",
    "    # , ngram_range=(1, 3) Il miglire rimane uni-gram, pessimo score del bi-gram\n",
    "    )"
   ]
  },
  {
   "cell_type": "code",
   "execution_count": 7,
   "id": "frozen-birth",
   "metadata": {},
   "outputs": [],
   "source": [
    "tfidf = vectorizer.fit_transform(df[\"tweet_clean\"]).toarray()"
   ]
  },
  {
   "cell_type": "code",
   "execution_count": 8,
   "id": "favorite-accused",
   "metadata": {},
   "outputs": [
    {
     "data": {
      "text/plain": [
       "(24781, 100)"
      ]
     },
     "execution_count": 8,
     "metadata": {},
     "output_type": "execute_result"
    }
   ],
   "source": [
    "tfidf.shape"
   ]
  },
  {
   "cell_type": "markdown",
   "id": "musical-terry",
   "metadata": {},
   "source": [
    "## Vader Sentiment"
   ]
  },
  {
   "cell_type": "code",
   "execution_count": 30,
   "id": "judicial-vermont",
   "metadata": {},
   "outputs": [
    {
     "name": "stderr",
     "output_type": "stream",
     "text": [
      "[nltk_data] Downloading package vader_lexicon to\n",
      "[nltk_data]     C:\\Users\\Marco\\AppData\\Roaming\\nltk_data...\n",
      "[nltk_data]   Package vader_lexicon is already up-to-date!\n"
     ]
    },
    {
     "data": {
      "text/plain": [
       "True"
      ]
     },
     "execution_count": 30,
     "metadata": {},
     "output_type": "execute_result"
    }
   ],
   "source": [
    "from nltk.sentiment.vader import SentimentIntensityAnalyzer as VS\n",
    "nltk.download('vader_lexicon')"
   ]
  },
  {
   "cell_type": "code",
   "execution_count": 31,
   "id": "editorial-vampire",
   "metadata": {},
   "outputs": [],
   "source": [
    "sentiments = []\n",
    "sentiment_analyzer = VS()\n",
    "for tweet in df['tweet_clean']:\n",
    "    sentiment = sentiment_analyzer.polarity_scores(tweet)\n",
    "    sentiments.append(sentiment)"
   ]
  },
  {
   "cell_type": "code",
   "execution_count": 32,
   "id": "grand-negative",
   "metadata": {},
   "outputs": [
    {
     "name": "stdout",
     "output_type": "stream",
     "text": [
      "24781\n",
      "[{'neg': 0.0, 'neu': 0.791, 'pos': 0.209, 'compound': 0.2755}, {'neg': 0.259, 'neu': 0.741, 'pos': 0.0, 'compound': -0.5423}, {'neg': 0.841, 'neu': 0.159, 'pos': 0.0, 'compound': -0.9423}, {'neg': 0.0, 'neu': 0.444, 'pos': 0.556, 'compound': 0.3612}, {'neg': 0.457, 'neu': 0.37, 'pos': 0.173, 'compound': -0.6808}]\n"
     ]
    }
   ],
   "source": [
    "print(len(sentiments))\n",
    "print(sentiments[:5])"
   ]
  },
  {
   "cell_type": "code",
   "execution_count": 33,
   "id": "elegant-ranking",
   "metadata": {},
   "outputs": [
    {
     "data": {
      "text/plain": [
       "'look like tranny'"
      ]
     },
     "execution_count": 33,
     "metadata": {},
     "output_type": "execute_result"
    }
   ],
   "source": [
    "df['tweet_clean'][3]"
   ]
  },
  {
   "cell_type": "code",
   "execution_count": 23,
   "id": "sweet-patch",
   "metadata": {},
   "outputs": [],
   "source": [
    "a = \"save the motherfucker\""
   ]
  },
  {
   "cell_type": "code",
   "execution_count": 24,
   "id": "oriental-palmer",
   "metadata": {},
   "outputs": [
    {
     "data": {
      "text/plain": [
       "{'neg': 0.523, 'neu': 0.114, 'pos': 0.364, 'compound': -0.34}"
      ]
     },
     "execution_count": 24,
     "metadata": {},
     "output_type": "execute_result"
    }
   ],
   "source": [
    "sentiment_analyzer.polarity_scores(a)"
   ]
  },
  {
   "cell_type": "code",
   "execution_count": 34,
   "id": "affected-chart",
   "metadata": {},
   "outputs": [],
   "source": [
    "neg = []\n",
    "neu = []\n",
    "pos = []\n",
    "compound = []\n",
    "for sentiment in sentiments:\n",
    "    neg.append(sentiment['neg'])\n",
    "    neu.append(sentiment['neu'])\n",
    "    pos.append(sentiment['pos'])\n",
    "    compound.append(sentiment['compound']) \n",
    "\n",
    "# save in dataframe  \n",
    "df['neg'] = neg\n",
    "df['neu'] = neu\n",
    "df['pos'] = pos\n",
    "df['compound'] = compound"
   ]
  },
  {
   "cell_type": "code",
   "execution_count": 35,
   "id": "individual-portfolio",
   "metadata": {
    "scrolled": true
   },
   "outputs": [
    {
     "data": {
      "image/png": "[encoded data removed]",
      "text/plain": [
       "<Figure size 936x360 with 3 Axes>"
      ]
     },
     "metadata": {
      "needs_background": "light"
     },
     "output_type": "display_data"
    }
   ],
   "source": [
    "selected_columns = [\"neg\", \"neu\", \"pos\", \"compound\"]\n",
    "\n",
    "fig, axs = plt.subplots(ncols = 3, figsize=(13,5))\n",
    "for i in range(3):\n",
    "    sns.boxplot(x=\"variable\", y=\"value\", data=pd.melt(df[df['class'] == i][selected_columns]), ax = axs[i])\n",
    "    axs[i].set_title(f\"Class {i}\", size = 20)\n",
    "    axs[i].set_xlabel(\"Sentiment\", size = 12)\n",
    "    axs[i].set_ylabel(\"\")\n",
    "    #axs[i].set_xticks(size = 12)\n",
    "    #axs[i].set_yticks(size = 12)\n",
    "plt.subplots_adjust(right = 1, wspace = 0.3)"
   ]
  },
  {
   "cell_type": "markdown",
   "id": "returning-laptop",
   "metadata": {},
   "source": [
    "## Features"
   ]
  },
  {
   "cell_type": "markdown",
   "id": "fundamental-vienna",
   "metadata": {},
   "source": [
    "### - Retweet"
   ]
  },
  {
   "cell_type": "code",
   "execution_count": 9,
   "id": "advised-delight",
   "metadata": {},
   "outputs": [],
   "source": [
    "df[\"rt\"] = df[\"tweet\"].apply(lambda x : retweet(x))"
   ]
  },
  {
   "cell_type": "markdown",
   "id": "breeding-ranking",
   "metadata": {},
   "source": [
    "### - Tweet's length"
   ]
  },
  {
   "cell_type": "code",
   "execution_count": 13,
   "id": "superb-sample",
   "metadata": {},
   "outputs": [],
   "source": [
    "df[\"len\"] = df[\"tweet_clean\"].apply(lambda x : tweet_length(x))"
   ]
  },
  {
   "cell_type": "markdown",
   "id": "deadly-quest",
   "metadata": {},
   "source": [
    "### - Reply"
   ]
  },
  {
   "cell_type": "code",
   "execution_count": 14,
   "id": "identical-passenger",
   "metadata": {},
   "outputs": [],
   "source": [
    "df[\"num_rep\"] = df[\"tweet\"].apply(lambda x : reply_tweet(x))"
   ]
  },
  {
   "cell_type": "markdown",
   "id": "virgin-mongolia",
   "metadata": {},
   "source": [
    "### - Number of !"
   ]
  },
  {
   "cell_type": "code",
   "execution_count": 15,
   "id": "linear-laser",
   "metadata": {},
   "outputs": [],
   "source": [
    "df[\"num_exc\"] = df[\"tweet\"].apply(lambda x : exclamation(x))"
   ]
  },
  {
   "cell_type": "markdown",
   "id": "decimal-gossip",
   "metadata": {},
   "source": [
    "### - Emoji\n",
    "\n",
    "http://www.iemoji.com/view/emoji/61/smileys-people/victory-hand\n",
    "\n",
    "Al valore *Decimal HTML Entity*"
   ]
  },
  {
   "cell_type": "code",
   "execution_count": 16,
   "id": "cooked-pizza",
   "metadata": {},
   "outputs": [],
   "source": [
    "df[\"emoji\"] = df[\"tweet\"].apply(lambda x : emoji(x)) # Conta semplicemente il numero di faccine"
   ]
  },
  {
   "cell_type": "markdown",
   "id": "tracked-constraint",
   "metadata": {},
   "source": [
    "## Text classification"
   ]
  },
  {
   "cell_type": "code",
   "execution_count": 57,
   "id": "arbitrary-paste",
   "metadata": {},
   "outputs": [],
   "source": [
    "# prepare data\n",
    "#X_data = np.stack(df[\"vectors\"], axis = 0)\n",
    "#X_data = tfidf\n",
    "X_data = pd.concat([pd.DataFrame(tfidf), df[[\"neg\", \"neu\", \"pos\", \"compound\"]]], axis = 1)\n",
    "Y_data = df[\"class\"]\n",
    "\n",
    "# verifica dimensioni vettori\n",
    "assert X_data.shape[0] == Y_data.shape[0]"
   ]
  },
  {
   "cell_type": "code",
   "execution_count": 58,
   "id": "muslim-uncle",
   "metadata": {},
   "outputs": [],
   "source": [
    "# split train-test\n",
    "X_train, X_test, y_train, y_test = train_test_split(X_data, Y_data,\n",
    "                                                   test_size = 0.2,\n",
    "                                                   random_state = 42,\n",
    "                                                   shuffle = True,\n",
    "                                                   stratify = Y_data)\n",
    "\n",
    "assert X_train.shape[0] == y_train.shape[0]\n",
    "assert X_test.shape[0] == y_test.shape[0]"
   ]
  },
  {
   "cell_type": "code",
   "execution_count": 59,
   "id": "accepted-nightmare",
   "metadata": {},
   "outputs": [],
   "source": [
    "# class weights\n",
    "# w_J = n_samples / (n_classes * n_samples_J)\n",
    "weights = len(df['class']) / (3 * df['class'].value_counts())\n",
    "# model\n",
    "model = SVC(random_state = 42, \n",
    "            class_weight= {0 : weights[0], 1 : weights[1], 2 : weights[2]})"
   ]
  },
  {
   "cell_type": "code",
   "execution_count": 60,
   "id": "cross-local",
   "metadata": {},
   "outputs": [
    {
     "name": "stdout",
     "output_type": "stream",
     "text": [
      "Modelling --- DONE\n",
      "Wall time: 36 s\n"
     ]
    }
   ],
   "source": [
    "%%time\n",
    "# fitting\n",
    "model.fit(X_train, y_train)\n",
    "print(\"Modelling --- DONE\")"
   ]
  },
  {
   "cell_type": "code",
   "execution_count": 30,
   "id": "referenced-stephen",
   "metadata": {},
   "outputs": [],
   "source": [
    "# save model\n",
    "filename = 'svm_retweet.sav'\n",
    "pickle.dump(model, open(f'../models/{filename}', 'wb'))"
   ]
  },
  {
   "cell_type": "code",
   "execution_count": 18,
   "id": "determined-patrick",
   "metadata": {},
   "outputs": [],
   "source": [
    "# load model\n",
    "filename = 'svm_sentiment.sav'\n",
    "model_2 = pickle.load(open(f'../models/{filename}', 'rb'))"
   ]
  },
  {
   "cell_type": "markdown",
   "id": "regional-essay",
   "metadata": {},
   "source": [
    "## Comments"
   ]
  },
  {
   "cell_type": "markdown",
   "id": "external-glenn",
   "metadata": {},
   "source": [
    "Modelli e risultati di accuracy sul test\n",
    "- 10000 tfidf best model yet 92% (**non mi ricordo spero sia corretta**)\n",
    "- 10000 tfidf, 4 sentiment riduce un pochino la performance 83% (**non ricordo quanto fosse**)\n",
    "- 100 tfidf, retweet **83%**\n",
    "- 10000 tfidf, retweet *24 min* **89%**\n",
    "- 100 tfidf tutte le features esclusa la sentiment **60%**\n",
    "- 100 tfidf, retweet & sentiment **83%**\n",
    "- 100 tfidf, tutte le feature + sentiment **54%** \n",
    "- 100 tfidf **84%**\n",
    "\n",
    "\n",
    "Sembra che l'utilizzo di feature peggiori il classificatore, quindi sembra che convenga utilizzarlo senza features"
   ]
  },
  {
   "cell_type": "markdown",
   "id": "ignored-execution",
   "metadata": {},
   "source": [
    "## Performance"
   ]
  },
  {
   "cell_type": "markdown",
   "id": "fixed-dairy",
   "metadata": {},
   "source": [
    "### Train"
   ]
  },
  {
   "cell_type": "code",
   "execution_count": 61,
   "id": "joined-quarterly",
   "metadata": {},
   "outputs": [
    {
     "name": "stdout",
     "output_type": "stream",
     "text": [
      "Classification report:\n",
      "              precision    recall  f1-score   support\n",
      "\n",
      "           0       0.35      0.81      0.49      1144\n",
      "           1       0.99      0.83      0.90     15351\n",
      "           2       0.75      0.97      0.84      3329\n",
      "\n",
      "    accuracy                           0.85     19824\n",
      "   macro avg       0.70      0.87      0.75     19824\n",
      "weighted avg       0.91      0.85      0.87     19824\n",
      "\n"
     ]
    },
    {
     "data": {
      "image/png": "[encoded data removed]",
      "text/plain": [
       "<Figure size 576x432 with 2 Axes>"
      ]
     },
     "metadata": {
      "needs_background": "light"
     },
     "output_type": "display_data"
    },
    {
     "name": "stdout",
     "output_type": "stream",
     "text": [
      "Wall time: 31 s\n"
     ]
    }
   ],
   "source": [
    "%%time\n",
    "# performance on TRAIN\n",
    "y_pred = model.predict(X_train)   \n",
    "print('Classification report:')\n",
    "print(classification_report(y_train, y_pred))\n",
    "c_matrix(y_train, y_pred, [\"Hate\", \"Offensive\", \"Neither\"])"
   ]
  },
  {
   "cell_type": "markdown",
   "id": "medium-stylus",
   "metadata": {},
   "source": [
    "### Test"
   ]
  },
  {
   "cell_type": "code",
   "execution_count": 62,
   "id": "chubby-experience",
   "metadata": {
    "scrolled": true
   },
   "outputs": [
    {
     "name": "stdout",
     "output_type": "stream",
     "text": [
      "Classification report:\n",
      "              precision    recall  f1-score   support\n",
      "\n",
      "           0       0.26      0.60      0.37       286\n",
      "           1       0.97      0.83      0.89      3838\n",
      "           2       0.74      0.94      0.83       833\n",
      "\n",
      "    accuracy                           0.83      4957\n",
      "   macro avg       0.66      0.79      0.70      4957\n",
      "weighted avg       0.89      0.83      0.85      4957\n",
      "\n"
     ]
    },
    {
     "data": {
      "image/png": "[encoded data removed]",
      "text/plain": [
       "<Figure size 576x432 with 2 Axes>"
      ]
     },
     "metadata": {
      "needs_background": "light"
     },
     "output_type": "display_data"
    },
    {
     "name": "stdout",
     "output_type": "stream",
     "text": [
      "Wall time: 7.63 s\n"
     ]
    }
   ],
   "source": [
    "%%time\n",
    "# performance on TEST\n",
    "y_pred = model.predict(X_test)   \n",
    "print('Classification report:')\n",
    "print(classification_report(y_test, y_pred))\n",
    "c_matrix(y_test, y_pred, [\"Hate\", \"Offensive\", \"Neither\"]) "
   ]
  },
  {
   "cell_type": "markdown",
   "id": "thermal-marijuana",
   "metadata": {},
   "source": [
    "## Unione delle classi"
   ]
  },
  {
   "cell_type": "code",
   "execution_count": 65,
   "id": "married-space",
   "metadata": {},
   "outputs": [],
   "source": [
    "df[\"binary_class\"] = 0\n",
    "df.loc[(df[\"class\"] == 0) | (df[\"class\"] == 1), \"binary_class\"] = 1"
   ]
  },
  {
   "cell_type": "markdown",
   "id": "earlier-warren",
   "metadata": {},
   "source": [
    "### Text classification"
   ]
  },
  {
   "cell_type": "code",
   "execution_count": 81,
   "id": "pleased-optics",
   "metadata": {},
   "outputs": [],
   "source": [
    "def classification_SVM_binary(data, label):\n",
    "    X_data = data\n",
    "    Y_data = label\n",
    "    assert X_data.shape[0] == Y_data.shape[0], \"X and Y have different shape!\"\n",
    "    # split train-test\n",
    "    print(\"Train-Test splitting...\")\n",
    "    X_train, X_test, y_train, y_test = train_test_split(X_data, Y_data,\n",
    "                                                       test_size = 0.2,\n",
    "                                                       random_state = 42,\n",
    "                                                       shuffle = True,\n",
    "                                                       stratify = Y_data)\n",
    "    print(\"-- DONE --\")\n",
    "\n",
    "    assert X_train.shape[0] == y_train.shape[0], \"X and Y have different shape!\"\n",
    "    assert X_test.shape[0] == y_test.shape[0], \"X and Y have different shape!\"\n",
    "    # class weights\n",
    "    # w_J = n_samples / (n_classes * n_samples_J)\n",
    "    print(\"Computing weights...\")\n",
    "    weights = len(df['binary_class']) / (2 * df['binary_class'].value_counts())\n",
    "    # model\n",
    "    model = SVC(random_state = 42,\n",
    "                class_weight= {0 : weights[0], 1 : weights[1]})\n",
    "    print(\"-- DONE --\")\n",
    "    # fitting\n",
    "    print(\"Fitting...\")\n",
    "    model.fit(X_train, y_train)\n",
    "    print(\"-- DONE --\")\n",
    "    y_pred = model.predict(X_test)   \n",
    "    print('Classification report:')\n",
    "    print(classification_report(y_test, y_pred))\n",
    "    c_matrix(y_test, y_pred, [\"Hate-Offensive\", \"Neither\"])\n"
   ]
  },
  {
   "cell_type": "code",
   "execution_count": 82,
   "id": "intensive-health",
   "metadata": {
    "scrolled": true
   },
   "outputs": [
    {
     "name": "stdout",
     "output_type": "stream",
     "text": [
      "Train-Test splitting...\n",
      "-- DONE --\n",
      "Computing weights...\n",
      "-- DONE --\n",
      "Fitting...\n",
      "-- DONE --\n",
      "Classification report:\n",
      "              precision    recall  f1-score   support\n",
      "\n",
      "           0       0.73      0.97      0.83       833\n",
      "           1       0.99      0.93      0.96      4124\n",
      "\n",
      "    accuracy                           0.94      4957\n",
      "   macro avg       0.86      0.95      0.90      4957\n",
      "weighted avg       0.95      0.94      0.94      4957\n",
      "\n"
     ]
    },
    {
     "data": {
      "image/png": "[encoded data removed]",
      "text/plain": [
       "<Figure size 576x432 with 2 Axes>"
      ]
     },
     "metadata": {
      "needs_background": "light"
     },
     "output_type": "display_data"
    },
    {
     "name": "stdout",
     "output_type": "stream",
     "text": [
      "Wall time: 17.5 s\n"
     ]
    }
   ],
   "source": [
    "%%time\n",
    "classification_SVM_binary(tfidf, df[\"binary_class\"])"
   ]
  },
  {
   "cell_type": "markdown",
   "id": "honest-reform",
   "metadata": {},
   "source": [
    "## Comments"
   ]
  },
  {
   "cell_type": "markdown",
   "id": "harmful-scratch",
   "metadata": {},
   "source": [
    "Modelli e risultati di accuracy sul test\n",
    "- 100 tfidf **94%**"
   ]
  },
  {
   "cell_type": "code",
   "execution_count": null,
   "id": "vanilla-miracle",
   "metadata": {},
   "outputs": [],
   "source": []
  },
  {
   "cell_type": "code",
   "execution_count": null,
   "id": "invisible-prophet",
   "metadata": {},
   "outputs": [],
   "source": []
  },
  {
   "cell_type": "code",
   "execution_count": null,
   "id": "executed-swedish",
   "metadata": {},
   "outputs": [],
   "source": [
    "#Funzione he ho definito per l'inizio ma non mi piace\n",
    "def classification_SVM(data, label):\n",
    "    X_data = data\n",
    "    Y_data = label\n",
    "    assert X_data.shape[0] == Y_data.shape[0], \"X and Y have different shape!\"\n",
    "    # split train-test\n",
    "    print(\"Train-Test splitting...\")\n",
    "    X_train, X_test, y_train, y_test = train_test_split(X_data, Y_data,\n",
    "                                                       test_size = 0.2,\n",
    "                                                       random_state = 42,\n",
    "                                                       shuffle = True,\n",
    "                                                       stratify = Y_data)\n",
    "    print(\"-- DONE --\")\n",
    "\n",
    "    assert X_train.shape[0] == y_train.shape[0], \"X and Y have different shape!\"\n",
    "    assert X_test.shape[0] == y_test.shape[0], \"X and Y have different shape!\"\n",
    "    # class weights\n",
    "    # w_J = n_samples / (n_classes * n_samples_J)\n",
    "    print(\"Computing weights...\")\n",
    "    weights = len(df['class']) / (3 * df['class'].value_counts())\n",
    "    # model\n",
    "    model = SVC(random_state = 42,\n",
    "                class_weight= {0 : weights[0], 1 : weights[1], 2 : weights[2]})\n",
    "    print(\"-- DONE --\")\n",
    "    # fitting\n",
    "    print(\"Fitting...\")\n",
    "    model.fit(X_train, y_train)\n",
    "    print(\"-- DONE --\")\n",
    "    y_pred = model.predict(X_train)   \n",
    "    print('Classification report:')\n",
    "    print(classification_report(y_test, y_pred))\n",
    "    c_matrix(y_test, y_pred, [\"Hate\", \"Offensive\", \"Neither\"])"
   ]
  }
 ],
 "metadata": {
  "kernelspec": {
   "display_name": "Python 3",
   "language": "python",
   "name": "python3"
  },
  "language_info": {
   "codemirror_mode": {
    "name": "ipython",
    "version": 3
   },
   "file_extension": ".py",
   "mimetype": "text/x-python",
   "name": "python",
   "nbconvert_exporter": "python",
   "pygments_lexer": "ipython3",
   "version": "3.7.9"
  }
 },
 "nbformat": 4,
 "nbformat_minor": 5
}
