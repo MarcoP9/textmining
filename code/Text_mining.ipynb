{
 "cells": [
  {
   "cell_type": "markdown",
   "id": "american-arnold",
   "metadata": {},
   "source": [
    "# Text mining project"
   ]
  },
  {
   "cell_type": "code",
   "execution_count": 2,
   "id": "qualified-favor",
   "metadata": {},
   "outputs": [],
   "source": [
    "import nltk\n",
    "import os\n",
    "from gensim.models.doc2vec import Doc2Vec, TaggedDocument # doc2vec\n",
    "import pandas as pd\n",
    "import numpy as np"
   ]
  },
  {
   "cell_type": "code",
   "execution_count": 14,
   "id": "secret-healthcare",
   "metadata": {},
   "outputs": [],
   "source": [
    "# models\n",
    "from sklearn.model_selection import train_test_split\n",
    "from sklearn.linear_model import LogisticRegression\n",
    "from sklearn.naive_bayes import MultinomialNB\n",
    "from sklearn.svm import SVC"
   ]
  },
  {
   "cell_type": "code",
   "execution_count": 21,
   "id": "weird-deputy",
   "metadata": {},
   "outputs": [],
   "source": [
    "# results\n",
    "from matplotlib import pyplot as plt\n",
    "from sklearn.metrics import classification_report, confusion_matrix\n",
    "import seaborn as sns\n",
    "from utils import c_matrix"
   ]
  },
  {
   "cell_type": "code",
   "execution_count": 6,
   "id": "funded-invite",
   "metadata": {
    "scrolled": true
   },
   "outputs": [
    {
     "name": "stderr",
     "output_type": "stream",
     "text": [
      "[nltk_data] Downloading package stopwords to\n",
      "[nltk_data]     C:\\Users\\fede9\\AppData\\Roaming\\nltk_data...\n",
      "[nltk_data]   Package stopwords is already up-to-date!\n",
      "[nltk_data] Downloading package averaged_perceptron_tagger to\n",
      "[nltk_data]     C:\\Users\\fede9\\AppData\\Roaming\\nltk_data...\n",
      "[nltk_data]   Package averaged_perceptron_tagger is already up-to-\n",
      "[nltk_data]       date!\n",
      "[nltk_data] Downloading package wordnet to\n",
      "[nltk_data]     C:\\Users\\fede9\\AppData\\Roaming\\nltk_data...\n",
      "[nltk_data]   Package wordnet is already up-to-date!\n"
     ]
    },
    {
     "data": {
      "text/plain": [
       "True"
      ]
     },
     "execution_count": 6,
     "metadata": {},
     "output_type": "execute_result"
    }
   ],
   "source": [
    "#setting working directory\n",
    "os.chdir(\"C:/Users/fede9/Documents/GitHub/textmining/code\")\n",
    "from process_text import processing # preprocessing functions\n",
    "nltk.download(\"stopwords\")\n",
    "nltk.download('averaged_perceptron_tagger')\n",
    "nltk.download('wordnet')"
   ]
  },
  {
   "cell_type": "markdown",
   "id": "secret-wells",
   "metadata": {},
   "source": [
    "## Preprocess text"
   ]
  },
  {
   "cell_type": "code",
   "execution_count": 8,
   "id": "dominant-trance",
   "metadata": {},
   "outputs": [
    {
     "name": "stdout",
     "output_type": "stream",
     "text": [
      "Load & preprocessing --- DONE\n"
     ]
    }
   ],
   "source": [
    "if 'processed_data.csv' not in os.listdir('../data'):\n",
    "    # load dataset\n",
    "    df = pd.read_csv(\"../data/labeled_data.csv\", sep = \",\").drop(\"Unnamed: 0\", axis=1)\n",
    "    # apply process_text\n",
    "    df[\"tweet_clean\"] = df[\"tweet\"].apply(lambda x : processing(x))\n",
    "    df.to_csv('../data/processed_data.csv', index = False)\n",
    "else:\n",
    "    df = pd.read_csv(\"../data/processed_data.csv\", sep = \",\")\n",
    "print(\"Load & preprocessing --- DONE\")"
   ]
  },
  {
   "cell_type": "code",
   "execution_count": 9,
   "id": "supported-baghdad",
   "metadata": {},
   "outputs": [],
   "source": [
    "# drop tweet list na !!!\n",
    "df[\"tweet_list\"] = df[\"tweet_clean\"].str.split(\" \").tolist()\n",
    "df.dropna(inplace = True) # drop 2 NA"
   ]
  },
  {
   "cell_type": "markdown",
   "id": "animated-mainstream",
   "metadata": {},
   "source": [
    "## Doc2vec"
   ]
  },
  {
   "cell_type": "code",
   "execution_count": 10,
   "id": "diverse-pittsburgh",
   "metadata": {
    "scrolled": true
   },
   "outputs": [
    {
     "name": "stdout",
     "output_type": "stream",
     "text": [
      "Doc2Vec model --- DONE\n"
     ]
    }
   ],
   "source": [
    "### doc2vec\n",
    "# generate model of vectorization\n",
    "if 'd2v.model' not in os.listdir('../models'):\n",
    "    documents = [TaggedDocument (doc, [i]) for i, doc in enumerate(df[\"tweet_list\"])]\n",
    "    model = Doc2Vec (documents, vector_size=100, window=10, min_count=1)\n",
    "    model.save(\"../models/d2v.model\")\n",
    "else:\n",
    "    model = Doc2Vec.load(\"../models/d2v.model\")\n",
    "print(\"Doc2Vec model --- DONE\")"
   ]
  },
  {
   "cell_type": "markdown",
   "id": "recreational-success",
   "metadata": {},
   "source": [
    "## TF-IDF"
   ]
  },
  {
   "cell_type": "code",
   "execution_count": 22,
   "id": "saving-envelope",
   "metadata": {},
   "outputs": [],
   "source": [
    "from sklearn.feature_extraction.text import TfidfVectorizer"
   ]
  },
  {
   "cell_type": "code",
   "execution_count": 23,
   "id": "stupid-resistance",
   "metadata": {},
   "outputs": [],
   "source": [
    "vectorizer = TfidfVectorizer(\n",
    "    use_idf=True,\n",
    "    max_features=10000,\n",
    "    min_df=5,\n",
    "    max_df=0.501\n",
    "    )"
   ]
  },
  {
   "cell_type": "code",
   "execution_count": 25,
   "id": "covered-georgia",
   "metadata": {},
   "outputs": [],
   "source": [
    "tfidf = vectorizer.fit_transform(df[\"tweet_clean\"]).toarray()"
   ]
  },
  {
   "cell_type": "code",
   "execution_count": 31,
   "id": "posted-mailing",
   "metadata": {},
   "outputs": [
    {
     "data": {
      "text/plain": [
       "(24781, 3598)"
      ]
     },
     "execution_count": 31,
     "metadata": {},
     "output_type": "execute_result"
    }
   ],
   "source": [
    "tfidf.shape"
   ]
  },
  {
   "cell_type": "markdown",
   "id": "skilled-prevention",
   "metadata": {},
   "source": [
    "## Vader Sentiment"
   ]
  },
  {
   "cell_type": "code",
   "execution_count": 68,
   "id": "developmental-movie",
   "metadata": {},
   "outputs": [
    {
     "name": "stderr",
     "output_type": "stream",
     "text": [
      "[nltk_data] Downloading package vader_lexicon to\n",
      "[nltk_data]     C:\\Users\\fede9\\AppData\\Roaming\\nltk_data...\n"
     ]
    },
    {
     "data": {
      "text/plain": [
       "True"
      ]
     },
     "execution_count": 68,
     "metadata": {},
     "output_type": "execute_result"
    }
   ],
   "source": [
    "from nltk.sentiment.vader import SentimentIntensityAnalyzer as VS\n",
    "nltk.download('vader_lexicon')"
   ]
  },
  {
   "cell_type": "code",
   "execution_count": 70,
   "id": "contrary-happiness",
   "metadata": {},
   "outputs": [],
   "source": [
    "sentiments = []\n",
    "sentiment_analyzer = VS()\n",
    "for tweet in df['tweet_clean']:\n",
    "    sentiment = sentiment_analyzer.polarity_scores(tweet)\n",
    "    sentiments.append(sentiment)"
   ]
  },
  {
   "cell_type": "code",
   "execution_count": 100,
   "id": "junior-opportunity",
   "metadata": {},
   "outputs": [
    {
     "name": "stdout",
     "output_type": "stream",
     "text": [
      "24781\n",
      "[{'neg': 0.0, 'neu': 0.791, 'pos': 0.209, 'compound': 0.2755}, {'neg': 0.259, 'neu': 0.741, 'pos': 0.0, 'compound': -0.5423}, {'neg': 0.841, 'neu': 0.159, 'pos': 0.0, 'compound': -0.9423}, {'neg': 0.0, 'neu': 0.444, 'pos': 0.556, 'compound': 0.3612}, {'neg': 0.457, 'neu': 0.37, 'pos': 0.173, 'compound': -0.6808}]\n"
     ]
    }
   ],
   "source": [
    "print(len(sentiments))\n",
    "print(sentiments[:5])"
   ]
  },
  {
   "cell_type": "code",
   "execution_count": 76,
   "id": "corporate-reference",
   "metadata": {},
   "outputs": [
    {
     "data": {
      "text/plain": [
       "'woman shouldnt complain cleaning house man always take trash'"
      ]
     },
     "execution_count": 76,
     "metadata": {},
     "output_type": "execute_result"
    }
   ],
   "source": [
    "df['tweet_clean'][0]"
   ]
  },
  {
   "cell_type": "code",
   "execution_count": 96,
   "id": "separate-neighbor",
   "metadata": {},
   "outputs": [],
   "source": [
    "a = \"life is now\""
   ]
  },
  {
   "cell_type": "code",
   "execution_count": 97,
   "id": "relevant-heath",
   "metadata": {},
   "outputs": [
    {
     "data": {
      "text/plain": [
       "{'neg': 0.0, 'neu': 1.0, 'pos': 0.0, 'compound': 0.0}"
      ]
     },
     "execution_count": 97,
     "metadata": {},
     "output_type": "execute_result"
    }
   ],
   "source": [
    "sentiment_analyzer.polarity_scores(a)"
   ]
  },
  {
   "cell_type": "code",
   "execution_count": 103,
   "id": "shaped-trauma",
   "metadata": {},
   "outputs": [],
   "source": [
    "neg = []\n",
    "neu = []\n",
    "pos = []\n",
    "compound = []\n",
    "for sentiment in sentiments:\n",
    "    neg.append(sentiment['neg'])\n",
    "    neu.append(sentiment['neu'])\n",
    "    pos.append(sentiment['pos'])\n",
    "    compound.append(sentiment['compound']) \n",
    "\n",
    "# save in dataframe  \n",
    "df['neg'] = neg\n",
    "df['neu'] = neu\n",
    "df['pos'] = pos\n",
    "df['compound'] = compound"
   ]
  },
  {
   "cell_type": "code",
   "execution_count": 105,
   "id": "multiple-expression",
   "metadata": {},
   "outputs": [
    {
     "data": {
      "text/plain": [
       "0        0.000\n",
       "1        0.259\n",
       "2        0.841\n",
       "3        0.000\n",
       "4        0.457\n",
       "         ...  \n",
       "24778    0.000\n",
       "24779    0.440\n",
       "24780    0.000\n",
       "24781    0.432\n",
       "24782    0.000\n",
       "Name: neg, Length: 24781, dtype: float64"
      ]
     },
     "execution_count": 105,
     "metadata": {},
     "output_type": "execute_result"
    }
   ],
   "source": [
    "df.neg "
   ]
  },
  {
   "cell_type": "markdown",
   "id": "visible-building",
   "metadata": {},
   "source": [
    "SAREBBE BELLO PLOTTARE LE DISTRIBUZIONI x OGNI CLASSE PER MOSTRARE IL LORO LEGAME"
   ]
  },
  {
   "cell_type": "markdown",
   "id": "pharmaceutical-spectrum",
   "metadata": {},
   "source": [
    "## Vectorization (for doc2vec)"
   ]
  },
  {
   "cell_type": "code",
   "execution_count": 11,
   "id": "patent-contract",
   "metadata": {},
   "outputs": [
    {
     "name": "stdout",
     "output_type": "stream",
     "text": [
      "Vectorization --- DONE\n"
     ]
    }
   ],
   "source": [
    "### vectorization\n",
    "# vettori per tutti i documenti\n",
    "df[\"vectors\"] = df[\"tweet_list\"].apply(lambda x: model.infer_vector(x))\n",
    "print(\"Vectorization --- DONE\")"
   ]
  },
  {
   "cell_type": "markdown",
   "id": "proprietary-oxygen",
   "metadata": {},
   "source": [
    "## Text classification"
   ]
  },
  {
   "cell_type": "code",
   "execution_count": 32,
   "id": "surrounded-nelson",
   "metadata": {},
   "outputs": [],
   "source": [
    "# prepare data\n",
    "#X_data = np.stack(df[\"vectors\"], axis = 0)\n",
    "X_data = tfidf\n",
    "Y_data = df[\"class\"]\n",
    "\n",
    "# verifica dimensioni vettori\n",
    "assert X_data.shape[0] == Y_data.shape[0] "
   ]
  },
  {
   "cell_type": "code",
   "execution_count": 33,
   "id": "collective-image",
   "metadata": {},
   "outputs": [],
   "source": [
    "# split train-test\n",
    "X_train, X_test, y_train, y_test = train_test_split(X_data, Y_data,\n",
    "                                                   test_size = 0.2,\n",
    "                                                   random_state = 42,\n",
    "                                                   shuffle = True,\n",
    "                                                   stratify = Y_data)\n",
    "\n",
    "assert X_train.shape[0] == y_train.shape[0]\n",
    "assert X_test.shape[0] == y_test.shape[0]"
   ]
  },
  {
   "cell_type": "code",
   "execution_count": 48,
   "id": "basic-voluntary",
   "metadata": {},
   "outputs": [],
   "source": [
    "# class weights\n",
    "# w_J = n_samples / (n_classes * n_samples_J)\n",
    "weights = len(df['class']) / (3 * df['class'].value_counts())\n",
    "# model\n",
    "model = SVC(random_state = 42, \n",
    "            class_weight= {0 : weights[0], 1 : weights[1], 2 : weights[2]})"
   ]
  },
  {
   "cell_type": "code",
   "execution_count": 49,
   "id": "instructional-album",
   "metadata": {},
   "outputs": [
    {
     "name": "stdout",
     "output_type": "stream",
     "text": [
      "Modelling --- DONE\n",
      "Wall time: 18min 52s\n"
     ]
    }
   ],
   "source": [
    "%%time\n",
    "# fitting\n",
    "model.fit(X_train, y_train)\n",
    "print(\"Modelling --- DONE\")"
   ]
  },
  {
   "cell_type": "code",
   "execution_count": 59,
   "id": "olive-diesel",
   "metadata": {},
   "outputs": [],
   "source": [
    "# save model\n",
    "import pickle\n",
    "filename = 'svm_tfidf.sav'\n",
    "pickle.dump(model, open(f'../models/{filename}', 'wb'))"
   ]
  },
  {
   "cell_type": "code",
   "execution_count": 60,
   "id": "accepting-manhattan",
   "metadata": {},
   "outputs": [],
   "source": [
    "# load model\n",
    "filename = 'svm_tfidf.sav'\n",
    "model_2 = pickle.load(open(f'../models/{filename}', 'rb'))"
   ]
  },
  {
   "cell_type": "markdown",
   "id": "binding-world",
   "metadata": {},
   "source": [
    "## Performance"
   ]
  },
  {
   "cell_type": "markdown",
   "id": "annoying-elizabeth",
   "metadata": {},
   "source": [
    "### Train"
   ]
  },
  {
   "cell_type": "code",
   "execution_count": 62,
   "id": "northern-tuning",
   "metadata": {},
   "outputs": [
    {
     "name": "stdout",
     "output_type": "stream",
     "text": [
      "Classification report:\n",
      "              precision    recall  f1-score   support\n",
      "\n",
      "           0       0.75      1.00      0.85      1144\n",
      "           1       1.00      0.94      0.97     15351\n",
      "           2       0.87      0.99      0.93      3329\n",
      "\n",
      "    accuracy                           0.96     19824\n",
      "   macro avg       0.87      0.98      0.92     19824\n",
      "weighted avg       0.96      0.96      0.96     19824\n",
      "\n"
     ]
    },
    {
     "data": {
      "image/png": "[encoded data removed]",
      "text/plain": [
       "<Figure size 576x432 with 2 Axes>"
      ]
     },
     "metadata": {
      "needs_background": "light"
     },
     "output_type": "display_data"
    },
    {
     "name": "stdout",
     "output_type": "stream",
     "text": [
      "Wall time: 14min 15s\n"
     ]
    }
   ],
   "source": [
    "%%time\n",
    "# performance on TRAIN\n",
    "y_pred = model.predict(X_train)   \n",
    "print('Classification report:')\n",
    "print(classification_report(y_train, y_pred))\n",
    "c_matrix(y_train, y_pred, [\"Hate\", \"Offensive\", \"Neither\"])"
   ]
  },
  {
   "cell_type": "markdown",
   "id": "competent-compilation",
   "metadata": {},
   "source": [
    "### Test"
   ]
  },
  {
   "cell_type": "code",
   "execution_count": 63,
   "id": "substantial-penny",
   "metadata": {
    "scrolled": false
   },
   "outputs": [
    {
     "name": "stdout",
     "output_type": "stream",
     "text": [
      "Classification report:\n",
      "              precision    recall  f1-score   support\n",
      "\n",
      "           0       0.44      0.43      0.44       286\n",
      "           1       0.96      0.92      0.94      3838\n",
      "           2       0.80      0.95      0.87       833\n",
      "\n",
      "    accuracy                           0.90      4957\n",
      "   macro avg       0.73      0.77      0.75      4957\n",
      "weighted avg       0.90      0.90      0.90      4957\n",
      "\n"
     ]
    },
    {
     "data": {
      "image/png": "[encoded data removed]",
      "text/plain": [
       "<Figure size 576x432 with 2 Axes>"
      ]
     },
     "metadata": {
      "needs_background": "light"
     },
     "output_type": "display_data"
    },
    {
     "name": "stdout",
     "output_type": "stream",
     "text": [
      "Wall time: 3min 31s\n"
     ]
    }
   ],
   "source": [
    "%%time\n",
    "# performance on TEST\n",
    "y_pred = model.predict(X_test)   \n",
    "print('Classification report:')\n",
    "print(classification_report(y_test, y_pred))\n",
    "c_matrix(y_test, y_pred, [\"Hate\", \"Offensive\", \"Neither\"]) "
   ]
  }
 ],
 "metadata": {
  "kernelspec": {
   "display_name": "Python 3",
   "language": "python",
   "name": "python3"
  },
  "language_info": {
   "codemirror_mode": {
    "name": "ipython",
    "version": 3
   },
   "file_extension": ".py",
   "mimetype": "text/x-python",
   "name": "python",
   "nbconvert_exporter": "python",
   "pygments_lexer": "ipython3",
   "version": "3.7.9"
  }
 },
 "nbformat": 4,
 "nbformat_minor": 5
}
