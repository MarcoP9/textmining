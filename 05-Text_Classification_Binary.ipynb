{
 "cells": [
  {
   "cell_type": "markdown",
   "id": "elementary-speaking",
   "metadata": {},
   "source": [
    "# Text mining & Search Project\n",
    "\n",
    "### Università degli Studi di Milano-Bicocca  2020/2021\n",
    "\n",
    "**Luzzi Federico** 816753 **Peracchi Marco** 800578"
   ]
  },
  {
   "cell_type": "markdown",
   "id": "clean-payroll",
   "metadata": {},
   "source": [
    "# Text Classification\n",
    "\n",
    "In this notebook it's possible to visualize text classification applyed by using different machine learning classifiers."
   ]
  },
  {
   "cell_type": "code",
   "execution_count": 1,
   "id": "particular-standard",
   "metadata": {},
   "outputs": [],
   "source": [
    "import os\n",
    "import pandas as pd\n",
    "import numpy as np\n",
    "import pickle"
   ]
  },
  {
   "cell_type": "code",
   "execution_count": 2,
   "id": "atlantic-costs",
   "metadata": {},
   "outputs": [],
   "source": [
    "from sklearn.model_selection import train_test_split\n",
    "from sklearn.svm import SVC\n",
    "from sklearn.linear_model import LogisticRegression\n",
    "from sklearn.feature_extraction.text import TfidfVectorizer\n",
    "from sklearn.ensemble import AdaBoostClassifier, RandomForestClassifier"
   ]
  },
  {
   "cell_type": "code",
   "execution_count": 3,
   "id": "matched-rolling",
   "metadata": {},
   "outputs": [],
   "source": [
    "from matplotlib import pyplot as plt\n",
    "from sklearn.metrics import classification_report, confusion_matrix\n",
    "import seaborn as sns"
   ]
  },
  {
   "cell_type": "code",
   "execution_count": 4,
   "id": "noble-hearing",
   "metadata": {},
   "outputs": [
    {
     "ename": "ModuleNotFoundError",
     "evalue": "No module named 'tensorflow'",
     "output_type": "error",
     "traceback": [
      "\u001b[1;31m---------------------------------------------------------------------------\u001b[0m",
      "\u001b[1;31mModuleNotFoundError\u001b[0m                       Traceback (most recent call last)",
      "\u001b[1;32m<ipython-input-4-d53503c5ce8b>\u001b[0m in \u001b[0;36m<module>\u001b[1;34m\u001b[0m\n\u001b[1;32m----> 1\u001b[1;33m \u001b[1;32mfrom\u001b[0m \u001b[0mtensorflow\u001b[0m \u001b[1;32mimport\u001b[0m \u001b[0mkeras\u001b[0m\u001b[1;33m\u001b[0m\u001b[1;33m\u001b[0m\u001b[0m\n\u001b[0m\u001b[0;32m      2\u001b[0m \u001b[1;32mfrom\u001b[0m \u001b[0mtensorflow\u001b[0m\u001b[1;33m.\u001b[0m\u001b[0mkeras\u001b[0m\u001b[1;33m.\u001b[0m\u001b[0mlayers\u001b[0m \u001b[1;32mimport\u001b[0m \u001b[0mDense\u001b[0m\u001b[1;33m,\u001b[0m \u001b[0mDropout\u001b[0m\u001b[1;33m\u001b[0m\u001b[1;33m\u001b[0m\u001b[0m\n\u001b[0;32m      3\u001b[0m \u001b[1;32mfrom\u001b[0m \u001b[0mtensorflow\u001b[0m\u001b[1;33m.\u001b[0m\u001b[0mkeras\u001b[0m \u001b[1;32mimport\u001b[0m \u001b[0mSequential\u001b[0m\u001b[1;33m\u001b[0m\u001b[1;33m\u001b[0m\u001b[0m\n\u001b[0;32m      4\u001b[0m \u001b[1;32mfrom\u001b[0m \u001b[0mtensorflow\u001b[0m\u001b[1;33m.\u001b[0m\u001b[0mkeras\u001b[0m \u001b[1;32mimport\u001b[0m \u001b[0mregularizers\u001b[0m\u001b[1;33m\u001b[0m\u001b[1;33m\u001b[0m\u001b[0m\n",
      "\u001b[1;31mModuleNotFoundError\u001b[0m: No module named 'tensorflow'"
     ]
    }
   ],
   "source": [
    "from tensorflow import keras \n",
    "from tensorflow.keras.layers import Dense, Dropout\n",
    "from tensorflow.keras import Sequential\n",
    "from tensorflow.keras import regularizers "
   ]
  },
  {
   "cell_type": "code",
   "execution_count": 4,
   "id": "bottom-substance",
   "metadata": {},
   "outputs": [],
   "source": [
    "# confusion matrix plot\n",
    "def c_matrix(y_val, y_pred, classes):\n",
    "    cm = confusion_matrix(y_val, y_pred)\n",
    "    fig, ax= plt.subplots(figsize = (8,6))\n",
    "    sns.heatmap(cm, annot=True, annot_kws={\"size\": 10},\n",
    "              linewidths=.2, fmt=\"d\", cmap=\"PuBu\")\n",
    "    plt.xlabel(\"Predicted Class\", size = 12, horizontalalignment=\"right\")\n",
    "    plt.ylabel(\"True Class\", size = 12)\n",
    "    ax.set_yticklabels(classes, rotation = 45, fontdict= {'fontsize': 10})\n",
    "    ax.set_xticklabels(classes, rotation = 30, fontdict= {'fontsize': 10})\n",
    "    plt.title(\"Confusion matrix\", size = 20)\n",
    "    plt.show()"
   ]
  },
  {
   "cell_type": "code",
   "execution_count": 6,
   "id": "resistant-glossary",
   "metadata": {},
   "outputs": [
    {
     "name": "stdout",
     "output_type": "stream",
     "text": [
      "Features loaded --- DONE\n"
     ]
    }
   ],
   "source": [
    "if 'featured_data.csv' not in os.listdir('data'):\n",
    "    print(\"!!! ERROR !!!\\n --- Before this, execute 03-Features_extraction Notebook ---\")\n",
    "else:\n",
    "    df = pd.read_csv(\"data/featured_data.csv\", sep = \",\")\n",
    "    print(\"Features loaded --- DONE\")"
   ]
  },
  {
   "cell_type": "markdown",
   "id": "flexible-tragedy",
   "metadata": {},
   "source": [
    "### Load Tf-idf Vectorization"
   ]
  },
  {
   "cell_type": "code",
   "execution_count": 7,
   "id": "superb-maine",
   "metadata": {},
   "outputs": [],
   "source": [
    "tfidf = np.load(\"data/representations/tf-idf.npy\")"
   ]
  },
  {
   "cell_type": "code",
   "execution_count": 8,
   "id": "atmospheric-evidence",
   "metadata": {
    "scrolled": true
   },
   "outputs": [
    {
     "data": {
      "text/plain": [
       "(24781, 3598)"
      ]
     },
     "execution_count": 8,
     "metadata": {},
     "output_type": "execute_result"
    }
   ],
   "source": [
    "tfidf.shape"
   ]
  },
  {
   "cell_type": "markdown",
   "id": "associate-launch",
   "metadata": {},
   "source": [
    "## Feature extraction and splitting data"
   ]
  },
  {
   "cell_type": "code",
   "execution_count": 10,
   "id": "confused-meditation",
   "metadata": {},
   "outputs": [
    {
     "data": {
      "text/plain": [
       "1    19189\n",
       "2     4162\n",
       "0     1430\n",
       "Name: class, dtype: int64"
      ]
     },
     "execution_count": 10,
     "metadata": {},
     "output_type": "execute_result"
    }
   ],
   "source": [
    "df[\"class\"].value_counts()"
   ]
  },
  {
   "cell_type": "code",
   "execution_count": 11,
   "id": "spiritual-smith",
   "metadata": {},
   "outputs": [],
   "source": [
    "df[\"class_bin\"] = 0\n",
    "df.loc[df[\"class\"] <= 1, \"class_bin\"] = 1"
   ]
  },
  {
   "cell_type": "code",
   "execution_count": 13,
   "id": "saving-beatles",
   "metadata": {},
   "outputs": [
    {
     "data": {
      "text/plain": [
       "1    20619\n",
       "0     4162\n",
       "Name: class_bin, dtype: int64"
      ]
     },
     "execution_count": 13,
     "metadata": {},
     "output_type": "execute_result"
    }
   ],
   "source": [
    "df[\"class_bin\"].value_counts()"
   ]
  },
  {
   "cell_type": "markdown",
   "id": "dynamic-commercial",
   "metadata": {},
   "source": [
    "0 --> Not hate or offensive\n",
    "\n",
    "1 --> Hate or offensive"
   ]
  },
  {
   "cell_type": "code",
   "execution_count": 25,
   "id": "round-sympathy",
   "metadata": {},
   "outputs": [],
   "source": [
    "X_data = tfidf\n",
    "Y_data = df[\"class_bin\"]\n",
    "\n",
    "# verifica dimensioni vettori\n",
    "assert X_data.shape[0] == Y_data.shape[0]"
   ]
  },
  {
   "cell_type": "code",
   "execution_count": 27,
   "id": "discrete-financing",
   "metadata": {},
   "outputs": [],
   "source": [
    "# class weights\n",
    "# w_J = n_samples / (n_classes * n_samples_J)\n",
    "weights = len(df['class_bin']) / (2 * df['class_bin'].value_counts())\n",
    "\n",
    "# split train-test\n",
    "X_train, X_test, y_train, y_test = train_test_split(X_data, Y_data,\n",
    "                                                   test_size = 0.2,\n",
    "                                                   random_state = 42,\n",
    "                                                   shuffle = True,\n",
    "                                                   stratify = Y_data)\n",
    "\n",
    "assert X_train.shape[0] == y_train.shape[0]\n",
    "assert X_test.shape[0] == y_test.shape[0]"
   ]
  },
  {
   "cell_type": "markdown",
   "id": "critical-bolivia",
   "metadata": {},
   "source": [
    "### Class weights\n",
    "Computing class weights as follows"
   ]
  },
  {
   "cell_type": "markdown",
   "id": "architectural-domain",
   "metadata": {},
   "source": [
    "$w_j = \\frac{num\\_samples}{num\\_classes \\cdot num\\_samples_j}$"
   ]
  },
  {
   "cell_type": "markdown",
   "id": "elementary-basement",
   "metadata": {},
   "source": [
    "## Models with performances"
   ]
  },
  {
   "cell_type": "markdown",
   "id": "chemical-violin",
   "metadata": {},
   "source": [
    "### Support Vector Machine"
   ]
  },
  {
   "cell_type": "code",
   "execution_count": 13,
   "id": "matched-gazette",
   "metadata": {},
   "outputs": [],
   "source": [
    "# model\n",
    "model = SVC(random_state = 42, \n",
    "            class_weight= {0 : weights[0], 1 : weights[1]})"
   ]
  },
  {
   "cell_type": "code",
   "execution_count": 14,
   "id": "cellular-theater",
   "metadata": {},
   "outputs": [
    {
     "ename": "KeyboardInterrupt",
     "evalue": "",
     "output_type": "error",
     "traceback": [
      "\u001b[1;31m---------------------------------------------------------------------------\u001b[0m",
      "\u001b[1;31mKeyboardInterrupt\u001b[0m                         Traceback (most recent call last)",
      "\u001b[1;32m<timed exec>\u001b[0m in \u001b[0;36m<module>\u001b[1;34m\u001b[0m\n",
      "\u001b[1;32mC:\\ProgramData\\Anaconda3\\envs\\textmining\\lib\\site-packages\\sklearn\\svm\\_base.py\u001b[0m in \u001b[0;36mfit\u001b[1;34m(self, X, y, sample_weight)\u001b[0m\n\u001b[0;32m    224\u001b[0m \u001b[1;33m\u001b[0m\u001b[0m\n\u001b[0;32m    225\u001b[0m         \u001b[0mseed\u001b[0m \u001b[1;33m=\u001b[0m \u001b[0mrnd\u001b[0m\u001b[1;33m.\u001b[0m\u001b[0mrandint\u001b[0m\u001b[1;33m(\u001b[0m\u001b[0mnp\u001b[0m\u001b[1;33m.\u001b[0m\u001b[0miinfo\u001b[0m\u001b[1;33m(\u001b[0m\u001b[1;34m'i'\u001b[0m\u001b[1;33m)\u001b[0m\u001b[1;33m.\u001b[0m\u001b[0mmax\u001b[0m\u001b[1;33m)\u001b[0m\u001b[1;33m\u001b[0m\u001b[1;33m\u001b[0m\u001b[0m\n\u001b[1;32m--> 226\u001b[1;33m         \u001b[0mfit\u001b[0m\u001b[1;33m(\u001b[0m\u001b[0mX\u001b[0m\u001b[1;33m,\u001b[0m \u001b[0my\u001b[0m\u001b[1;33m,\u001b[0m \u001b[0msample_weight\u001b[0m\u001b[1;33m,\u001b[0m \u001b[0msolver_type\u001b[0m\u001b[1;33m,\u001b[0m \u001b[0mkernel\u001b[0m\u001b[1;33m,\u001b[0m \u001b[0mrandom_seed\u001b[0m\u001b[1;33m=\u001b[0m\u001b[0mseed\u001b[0m\u001b[1;33m)\u001b[0m\u001b[1;33m\u001b[0m\u001b[1;33m\u001b[0m\u001b[0m\n\u001b[0m\u001b[0;32m    227\u001b[0m         \u001b[1;31m# see comment on the other call to np.iinfo in this file\u001b[0m\u001b[1;33m\u001b[0m\u001b[1;33m\u001b[0m\u001b[1;33m\u001b[0m\u001b[0m\n\u001b[0;32m    228\u001b[0m \u001b[1;33m\u001b[0m\u001b[0m\n",
      "\u001b[1;32mC:\\ProgramData\\Anaconda3\\envs\\textmining\\lib\\site-packages\\sklearn\\svm\\_base.py\u001b[0m in \u001b[0;36m_dense_fit\u001b[1;34m(self, X, y, sample_weight, solver_type, kernel, random_seed)\u001b[0m\n\u001b[0;32m    283\u001b[0m                 \u001b[0mcache_size\u001b[0m\u001b[1;33m=\u001b[0m\u001b[0mself\u001b[0m\u001b[1;33m.\u001b[0m\u001b[0mcache_size\u001b[0m\u001b[1;33m,\u001b[0m \u001b[0mcoef0\u001b[0m\u001b[1;33m=\u001b[0m\u001b[0mself\u001b[0m\u001b[1;33m.\u001b[0m\u001b[0mcoef0\u001b[0m\u001b[1;33m,\u001b[0m\u001b[1;33m\u001b[0m\u001b[1;33m\u001b[0m\u001b[0m\n\u001b[0;32m    284\u001b[0m                 \u001b[0mgamma\u001b[0m\u001b[1;33m=\u001b[0m\u001b[0mself\u001b[0m\u001b[1;33m.\u001b[0m\u001b[0m_gamma\u001b[0m\u001b[1;33m,\u001b[0m \u001b[0mepsilon\u001b[0m\u001b[1;33m=\u001b[0m\u001b[0mself\u001b[0m\u001b[1;33m.\u001b[0m\u001b[0mepsilon\u001b[0m\u001b[1;33m,\u001b[0m\u001b[1;33m\u001b[0m\u001b[1;33m\u001b[0m\u001b[0m\n\u001b[1;32m--> 285\u001b[1;33m                 max_iter=self.max_iter, random_seed=random_seed)\n\u001b[0m\u001b[0;32m    286\u001b[0m \u001b[1;33m\u001b[0m\u001b[0m\n\u001b[0;32m    287\u001b[0m         \u001b[0mself\u001b[0m\u001b[1;33m.\u001b[0m\u001b[0m_warn_from_fit_status\u001b[0m\u001b[1;33m(\u001b[0m\u001b[1;33m)\u001b[0m\u001b[1;33m\u001b[0m\u001b[1;33m\u001b[0m\u001b[0m\n",
      "\u001b[1;31mKeyboardInterrupt\u001b[0m: "
     ]
    }
   ],
   "source": [
    "%%time\n",
    "# fitting\n",
    "model.fit(X_train, y_train)\n",
    "print(\"Modelling --- DONE\")"
   ]
  },
  {
   "cell_type": "code",
   "execution_count": null,
   "id": "sitting-radar",
   "metadata": {},
   "outputs": [],
   "source": [
    "# save model\n",
    "filename = 'svm.sav'\n",
    "pickle.dump(model, open(f'models/binary/{filename}', 'wb'))"
   ]
  },
  {
   "cell_type": "code",
   "execution_count": 16,
   "id": "veterinary-remark",
   "metadata": {},
   "outputs": [],
   "source": [
    "# load model\n",
    "filename = 'svm.sav'\n",
    "model = pickle.load(open(f'models/binary/{filename}', 'rb'))"
   ]
  },
  {
   "cell_type": "code",
   "execution_count": null,
   "id": "monetary-minnesota",
   "metadata": {},
   "outputs": [],
   "source": [
    "%%time\n",
    "# performance on TRAIN\n",
    "print(\"Performance on TRAIN:\")\n",
    "y_pred = model.predict(X_train)   \n",
    "print('Classification report:')\n",
    "print(classification_report(y_train, y_pred))\n",
    "c_matrix(y_train, y_pred, [\"Hate/Offensive\", \"Neither\"])"
   ]
  },
  {
   "cell_type": "code",
   "execution_count": null,
   "id": "dominican-violation",
   "metadata": {},
   "outputs": [],
   "source": [
    "%%time\n",
    "# performance on TEST\n",
    "y_pred = model.predict(X_test)   \n",
    "print('Classification report:')\n",
    "print(classification_report(y_test, y_pred))\n",
    "c_matrix(y_test, y_pred, [\"Hate/Offensive\", \"Neither\"]) "
   ]
  },
  {
   "cell_type": "markdown",
   "id": "terminal-zimbabwe",
   "metadata": {},
   "source": [
    "### Adaboost"
   ]
  },
  {
   "cell_type": "code",
   "execution_count": null,
   "id": "permanent-association",
   "metadata": {},
   "outputs": [],
   "source": [
    "adaboost = AdaBoostClassifier(n_estimators=50, random_state=0)"
   ]
  },
  {
   "cell_type": "code",
   "execution_count": null,
   "id": "stylish-prefix",
   "metadata": {},
   "outputs": [],
   "source": [
    "adaboost.fit(X_train, y_train)"
   ]
  },
  {
   "cell_type": "code",
   "execution_count": null,
   "id": "difficult-spice",
   "metadata": {},
   "outputs": [],
   "source": [
    "# save model\n",
    "filename = 'adaboost.sav'\n",
    "pickle.dump(model, open(f'models/binary/{filename}', 'wb'))"
   ]
  },
  {
   "cell_type": "code",
   "execution_count": null,
   "id": "reduced-dictionary",
   "metadata": {},
   "outputs": [],
   "source": [
    "%%time\n",
    "# performance on TRAIN\n",
    "y_pred = adaboost.predict(X_train)   \n",
    "print('Classification report:')\n",
    "print(classification_report(y_train, y_pred))\n",
    "c_matrix(y_train, y_pred, [\"Hate/Offensive\", \"Neither\"]) "
   ]
  },
  {
   "cell_type": "code",
   "execution_count": null,
   "id": "defined-police",
   "metadata": {},
   "outputs": [],
   "source": [
    "%%time\n",
    "# performance on TEST\n",
    "y_pred = adaboost.predict(X_test)   \n",
    "print('Classification report:')\n",
    "print(classification_report(y_test, y_pred))\n",
    "c_matrix(y_test, y_pred, [\"Hate/Offensive\", \"Neither\"]) "
   ]
  },
  {
   "cell_type": "markdown",
   "id": "awful-structure",
   "metadata": {},
   "source": [
    "### Logistic Regression"
   ]
  },
  {
   "cell_type": "code",
   "execution_count": 30,
   "id": "beautiful-convention",
   "metadata": {},
   "outputs": [],
   "source": [
    "model = LogisticRegression(random_state = 42, max_iter = 1000,\n",
    "            class_weight= {0 : weights[0], 1 : weights[1]})"
   ]
  },
  {
   "cell_type": "code",
   "execution_count": 31,
   "id": "desirable-bunny",
   "metadata": {},
   "outputs": [
    {
     "name": "stdout",
     "output_type": "stream",
     "text": [
      "Modelling --- DONE\n",
      "Wall time: 4.39 s\n"
     ]
    }
   ],
   "source": [
    "%%time\n",
    "# fitting\n",
    "model.fit(X_train, y_train)\n",
    "print(\"Modelling --- DONE\")"
   ]
  },
  {
   "cell_type": "code",
   "execution_count": 32,
   "id": "destroyed-horizon",
   "metadata": {},
   "outputs": [],
   "source": [
    "# save model\n",
    "filename = 'logistic.sav'\n",
    "pickle.dump(model, open(f'models/binary/{filename}', 'wb'))"
   ]
  },
  {
   "cell_type": "code",
   "execution_count": 34,
   "id": "forced-pension",
   "metadata": {
    "scrolled": true
   },
   "outputs": [
    {
     "name": "stdout",
     "output_type": "stream",
     "text": [
      "Performance on TRAIN:\n",
      "Classification report:\n",
      "              precision    recall  f1-score   support\n",
      "\n",
      "           0       0.76      0.98      0.86      3329\n",
      "           1       1.00      0.94      0.97     16495\n",
      "\n",
      "    accuracy                           0.95     19824\n",
      "   macro avg       0.88      0.96      0.91     19824\n",
      "weighted avg       0.96      0.95      0.95     19824\n",
      "\n"
     ]
    },
    {
     "data": {
      "image/png": "[encoded data removed]",
      "text/plain": [
       "<Figure size 576x432 with 2 Axes>"
      ]
     },
     "metadata": {
      "needs_background": "light"
     },
     "output_type": "display_data"
    },
    {
     "name": "stdout",
     "output_type": "stream",
     "text": [
      "Wall time: 572 ms\n"
     ]
    }
   ],
   "source": [
    "%%time\n",
    "# performance on TRAIN\n",
    "print(\"Performance on TRAIN:\")\n",
    "y_pred = model.predict(X_train)   \n",
    "print('Classification report:')\n",
    "print(classification_report(y_train, y_pred))\n",
    "c_matrix(y_train, y_pred, [\"Hate/Offensive\", \"Neither\"])"
   ]
  },
  {
   "cell_type": "code",
   "execution_count": 35,
   "id": "substantial-vector",
   "metadata": {},
   "outputs": [
    {
     "name": "stdout",
     "output_type": "stream",
     "text": [
      "Classification report:\n",
      "              precision    recall  f1-score   support\n",
      "\n",
      "           0       0.75      0.97      0.84       833\n",
      "           1       0.99      0.93      0.96      4124\n",
      "\n",
      "    accuracy                           0.94      4957\n",
      "   macro avg       0.87      0.95      0.90      4957\n",
      "weighted avg       0.95      0.94      0.94      4957\n",
      "\n"
     ]
    },
    {
     "data": {
      "image/png": "[encoded data removed]",
      "text/plain": [
       "<Figure size 576x432 with 2 Axes>"
      ]
     },
     "metadata": {
      "needs_background": "light"
     },
     "output_type": "display_data"
    },
    {
     "name": "stdout",
     "output_type": "stream",
     "text": [
      "Wall time: 377 ms\n"
     ]
    }
   ],
   "source": [
    "%%time\n",
    "# performance on TEST\n",
    "y_pred = model.predict(X_test)   \n",
    "print('Classification report:')\n",
    "print(classification_report(y_test, y_pred))\n",
    "c_matrix(y_test, y_pred, [\"Hate/Offensive\", \"Neither\"]) "
   ]
  },
  {
   "cell_type": "markdown",
   "id": "raised-alignment",
   "metadata": {},
   "source": [
    "### Random Forest"
   ]
  },
  {
   "cell_type": "code",
   "execution_count": 39,
   "id": "static-worry",
   "metadata": {},
   "outputs": [],
   "source": [
    "model = RandomForestClassifier(random_state = 42,\n",
    "            class_weight= {0 : weights[0], 1 : weights[1]})"
   ]
  },
  {
   "cell_type": "code",
   "execution_count": 40,
   "id": "czech-optimum",
   "metadata": {
    "scrolled": true
   },
   "outputs": [
    {
     "ename": "KeyboardInterrupt",
     "evalue": "",
     "output_type": "error",
     "traceback": [
      "\u001b[1;31m---------------------------------------------------------------------------\u001b[0m",
      "\u001b[1;31mKeyboardInterrupt\u001b[0m                         Traceback (most recent call last)",
      "\u001b[1;32m<timed exec>\u001b[0m in \u001b[0;36m<module>\u001b[1;34m\u001b[0m\n",
      "\u001b[1;32m~\\Anaconda3\\envs\\nltk1\\lib\\site-packages\\sklearn\\ensemble\\_forest.py\u001b[0m in \u001b[0;36mfit\u001b[1;34m(self, X, y, sample_weight)\u001b[0m\n\u001b[0;32m    391\u001b[0m                     \u001b[0mverbose\u001b[0m\u001b[1;33m=\u001b[0m\u001b[0mself\u001b[0m\u001b[1;33m.\u001b[0m\u001b[0mverbose\u001b[0m\u001b[1;33m,\u001b[0m \u001b[0mclass_weight\u001b[0m\u001b[1;33m=\u001b[0m\u001b[0mself\u001b[0m\u001b[1;33m.\u001b[0m\u001b[0mclass_weight\u001b[0m\u001b[1;33m,\u001b[0m\u001b[1;33m\u001b[0m\u001b[1;33m\u001b[0m\u001b[0m\n\u001b[0;32m    392\u001b[0m                     n_samples_bootstrap=n_samples_bootstrap)\n\u001b[1;32m--> 393\u001b[1;33m                 for i, t in enumerate(trees))\n\u001b[0m\u001b[0;32m    394\u001b[0m \u001b[1;33m\u001b[0m\u001b[0m\n\u001b[0;32m    395\u001b[0m             \u001b[1;31m# Collect newly grown trees\u001b[0m\u001b[1;33m\u001b[0m\u001b[1;33m\u001b[0m\u001b[1;33m\u001b[0m\u001b[0m\n",
      "\u001b[1;32m~\\Anaconda3\\envs\\nltk1\\lib\\site-packages\\joblib\\parallel.py\u001b[0m in \u001b[0;36m__call__\u001b[1;34m(self, iterable)\u001b[0m\n\u001b[0;32m   1042\u001b[0m                 \u001b[0mself\u001b[0m\u001b[1;33m.\u001b[0m\u001b[0m_iterating\u001b[0m \u001b[1;33m=\u001b[0m \u001b[0mself\u001b[0m\u001b[1;33m.\u001b[0m\u001b[0m_original_iterator\u001b[0m \u001b[1;32mis\u001b[0m \u001b[1;32mnot\u001b[0m \u001b[1;32mNone\u001b[0m\u001b[1;33m\u001b[0m\u001b[1;33m\u001b[0m\u001b[0m\n\u001b[0;32m   1043\u001b[0m \u001b[1;33m\u001b[0m\u001b[0m\n\u001b[1;32m-> 1044\u001b[1;33m             \u001b[1;32mwhile\u001b[0m \u001b[0mself\u001b[0m\u001b[1;33m.\u001b[0m\u001b[0mdispatch_one_batch\u001b[0m\u001b[1;33m(\u001b[0m\u001b[0miterator\u001b[0m\u001b[1;33m)\u001b[0m\u001b[1;33m:\u001b[0m\u001b[1;33m\u001b[0m\u001b[1;33m\u001b[0m\u001b[0m\n\u001b[0m\u001b[0;32m   1045\u001b[0m                 \u001b[1;32mpass\u001b[0m\u001b[1;33m\u001b[0m\u001b[1;33m\u001b[0m\u001b[0m\n\u001b[0;32m   1046\u001b[0m \u001b[1;33m\u001b[0m\u001b[0m\n",
      "\u001b[1;32m~\\Anaconda3\\envs\\nltk1\\lib\\site-packages\\joblib\\parallel.py\u001b[0m in \u001b[0;36mdispatch_one_batch\u001b[1;34m(self, iterator)\u001b[0m\n\u001b[0;32m    857\u001b[0m                 \u001b[1;32mreturn\u001b[0m \u001b[1;32mFalse\u001b[0m\u001b[1;33m\u001b[0m\u001b[1;33m\u001b[0m\u001b[0m\n\u001b[0;32m    858\u001b[0m             \u001b[1;32melse\u001b[0m\u001b[1;33m:\u001b[0m\u001b[1;33m\u001b[0m\u001b[1;33m\u001b[0m\u001b[0m\n\u001b[1;32m--> 859\u001b[1;33m                 \u001b[0mself\u001b[0m\u001b[1;33m.\u001b[0m\u001b[0m_dispatch\u001b[0m\u001b[1;33m(\u001b[0m\u001b[0mtasks\u001b[0m\u001b[1;33m)\u001b[0m\u001b[1;33m\u001b[0m\u001b[1;33m\u001b[0m\u001b[0m\n\u001b[0m\u001b[0;32m    860\u001b[0m                 \u001b[1;32mreturn\u001b[0m \u001b[1;32mTrue\u001b[0m\u001b[1;33m\u001b[0m\u001b[1;33m\u001b[0m\u001b[0m\n\u001b[0;32m    861\u001b[0m \u001b[1;33m\u001b[0m\u001b[0m\n",
      "\u001b[1;32m~\\Anaconda3\\envs\\nltk1\\lib\\site-packages\\joblib\\parallel.py\u001b[0m in \u001b[0;36m_dispatch\u001b[1;34m(self, batch)\u001b[0m\n\u001b[0;32m    775\u001b[0m         \u001b[1;32mwith\u001b[0m \u001b[0mself\u001b[0m\u001b[1;33m.\u001b[0m\u001b[0m_lock\u001b[0m\u001b[1;33m:\u001b[0m\u001b[1;33m\u001b[0m\u001b[1;33m\u001b[0m\u001b[0m\n\u001b[0;32m    776\u001b[0m             \u001b[0mjob_idx\u001b[0m \u001b[1;33m=\u001b[0m \u001b[0mlen\u001b[0m\u001b[1;33m(\u001b[0m\u001b[0mself\u001b[0m\u001b[1;33m.\u001b[0m\u001b[0m_jobs\u001b[0m\u001b[1;33m)\u001b[0m\u001b[1;33m\u001b[0m\u001b[1;33m\u001b[0m\u001b[0m\n\u001b[1;32m--> 777\u001b[1;33m             \u001b[0mjob\u001b[0m \u001b[1;33m=\u001b[0m \u001b[0mself\u001b[0m\u001b[1;33m.\u001b[0m\u001b[0m_backend\u001b[0m\u001b[1;33m.\u001b[0m\u001b[0mapply_async\u001b[0m\u001b[1;33m(\u001b[0m\u001b[0mbatch\u001b[0m\u001b[1;33m,\u001b[0m \u001b[0mcallback\u001b[0m\u001b[1;33m=\u001b[0m\u001b[0mcb\u001b[0m\u001b[1;33m)\u001b[0m\u001b[1;33m\u001b[0m\u001b[1;33m\u001b[0m\u001b[0m\n\u001b[0m\u001b[0;32m    778\u001b[0m             \u001b[1;31m# A job can complete so quickly than its callback is\u001b[0m\u001b[1;33m\u001b[0m\u001b[1;33m\u001b[0m\u001b[1;33m\u001b[0m\u001b[0m\n\u001b[0;32m    779\u001b[0m             \u001b[1;31m# called before we get here, causing self._jobs to\u001b[0m\u001b[1;33m\u001b[0m\u001b[1;33m\u001b[0m\u001b[1;33m\u001b[0m\u001b[0m\n",
      "\u001b[1;32m~\\Anaconda3\\envs\\nltk1\\lib\\site-packages\\joblib\\_parallel_backends.py\u001b[0m in \u001b[0;36mapply_async\u001b[1;34m(self, func, callback)\u001b[0m\n\u001b[0;32m    206\u001b[0m     \u001b[1;32mdef\u001b[0m \u001b[0mapply_async\u001b[0m\u001b[1;33m(\u001b[0m\u001b[0mself\u001b[0m\u001b[1;33m,\u001b[0m \u001b[0mfunc\u001b[0m\u001b[1;33m,\u001b[0m \u001b[0mcallback\u001b[0m\u001b[1;33m=\u001b[0m\u001b[1;32mNone\u001b[0m\u001b[1;33m)\u001b[0m\u001b[1;33m:\u001b[0m\u001b[1;33m\u001b[0m\u001b[1;33m\u001b[0m\u001b[0m\n\u001b[0;32m    207\u001b[0m         \u001b[1;34m\"\"\"Schedule a func to be run\"\"\"\u001b[0m\u001b[1;33m\u001b[0m\u001b[1;33m\u001b[0m\u001b[0m\n\u001b[1;32m--> 208\u001b[1;33m         \u001b[0mresult\u001b[0m \u001b[1;33m=\u001b[0m \u001b[0mImmediateResult\u001b[0m\u001b[1;33m(\u001b[0m\u001b[0mfunc\u001b[0m\u001b[1;33m)\u001b[0m\u001b[1;33m\u001b[0m\u001b[1;33m\u001b[0m\u001b[0m\n\u001b[0m\u001b[0;32m    209\u001b[0m         \u001b[1;32mif\u001b[0m \u001b[0mcallback\u001b[0m\u001b[1;33m:\u001b[0m\u001b[1;33m\u001b[0m\u001b[1;33m\u001b[0m\u001b[0m\n\u001b[0;32m    210\u001b[0m             \u001b[0mcallback\u001b[0m\u001b[1;33m(\u001b[0m\u001b[0mresult\u001b[0m\u001b[1;33m)\u001b[0m\u001b[1;33m\u001b[0m\u001b[1;33m\u001b[0m\u001b[0m\n",
      "\u001b[1;32m~\\Anaconda3\\envs\\nltk1\\lib\\site-packages\\joblib\\_parallel_backends.py\u001b[0m in \u001b[0;36m__init__\u001b[1;34m(self, batch)\u001b[0m\n\u001b[0;32m    570\u001b[0m         \u001b[1;31m# Don't delay the application, to avoid keeping the input\u001b[0m\u001b[1;33m\u001b[0m\u001b[1;33m\u001b[0m\u001b[1;33m\u001b[0m\u001b[0m\n\u001b[0;32m    571\u001b[0m         \u001b[1;31m# arguments in memory\u001b[0m\u001b[1;33m\u001b[0m\u001b[1;33m\u001b[0m\u001b[1;33m\u001b[0m\u001b[0m\n\u001b[1;32m--> 572\u001b[1;33m         \u001b[0mself\u001b[0m\u001b[1;33m.\u001b[0m\u001b[0mresults\u001b[0m \u001b[1;33m=\u001b[0m \u001b[0mbatch\u001b[0m\u001b[1;33m(\u001b[0m\u001b[1;33m)\u001b[0m\u001b[1;33m\u001b[0m\u001b[1;33m\u001b[0m\u001b[0m\n\u001b[0m\u001b[0;32m    573\u001b[0m \u001b[1;33m\u001b[0m\u001b[0m\n\u001b[0;32m    574\u001b[0m     \u001b[1;32mdef\u001b[0m \u001b[0mget\u001b[0m\u001b[1;33m(\u001b[0m\u001b[0mself\u001b[0m\u001b[1;33m)\u001b[0m\u001b[1;33m:\u001b[0m\u001b[1;33m\u001b[0m\u001b[1;33m\u001b[0m\u001b[0m\n",
      "\u001b[1;32m~\\Anaconda3\\envs\\nltk1\\lib\\site-packages\\joblib\\parallel.py\u001b[0m in \u001b[0;36m__call__\u001b[1;34m(self)\u001b[0m\n\u001b[0;32m    261\u001b[0m         \u001b[1;32mwith\u001b[0m \u001b[0mparallel_backend\u001b[0m\u001b[1;33m(\u001b[0m\u001b[0mself\u001b[0m\u001b[1;33m.\u001b[0m\u001b[0m_backend\u001b[0m\u001b[1;33m,\u001b[0m \u001b[0mn_jobs\u001b[0m\u001b[1;33m=\u001b[0m\u001b[0mself\u001b[0m\u001b[1;33m.\u001b[0m\u001b[0m_n_jobs\u001b[0m\u001b[1;33m)\u001b[0m\u001b[1;33m:\u001b[0m\u001b[1;33m\u001b[0m\u001b[1;33m\u001b[0m\u001b[0m\n\u001b[0;32m    262\u001b[0m             return [func(*args, **kwargs)\n\u001b[1;32m--> 263\u001b[1;33m                     for func, args, kwargs in self.items]\n\u001b[0m\u001b[0;32m    264\u001b[0m \u001b[1;33m\u001b[0m\u001b[0m\n\u001b[0;32m    265\u001b[0m     \u001b[1;32mdef\u001b[0m \u001b[0m__reduce__\u001b[0m\u001b[1;33m(\u001b[0m\u001b[0mself\u001b[0m\u001b[1;33m)\u001b[0m\u001b[1;33m:\u001b[0m\u001b[1;33m\u001b[0m\u001b[1;33m\u001b[0m\u001b[0m\n",
      "\u001b[1;32m~\\Anaconda3\\envs\\nltk1\\lib\\site-packages\\joblib\\parallel.py\u001b[0m in \u001b[0;36m<listcomp>\u001b[1;34m(.0)\u001b[0m\n\u001b[0;32m    261\u001b[0m         \u001b[1;32mwith\u001b[0m \u001b[0mparallel_backend\u001b[0m\u001b[1;33m(\u001b[0m\u001b[0mself\u001b[0m\u001b[1;33m.\u001b[0m\u001b[0m_backend\u001b[0m\u001b[1;33m,\u001b[0m \u001b[0mn_jobs\u001b[0m\u001b[1;33m=\u001b[0m\u001b[0mself\u001b[0m\u001b[1;33m.\u001b[0m\u001b[0m_n_jobs\u001b[0m\u001b[1;33m)\u001b[0m\u001b[1;33m:\u001b[0m\u001b[1;33m\u001b[0m\u001b[1;33m\u001b[0m\u001b[0m\n\u001b[0;32m    262\u001b[0m             return [func(*args, **kwargs)\n\u001b[1;32m--> 263\u001b[1;33m                     for func, args, kwargs in self.items]\n\u001b[0m\u001b[0;32m    264\u001b[0m \u001b[1;33m\u001b[0m\u001b[0m\n\u001b[0;32m    265\u001b[0m     \u001b[1;32mdef\u001b[0m \u001b[0m__reduce__\u001b[0m\u001b[1;33m(\u001b[0m\u001b[0mself\u001b[0m\u001b[1;33m)\u001b[0m\u001b[1;33m:\u001b[0m\u001b[1;33m\u001b[0m\u001b[1;33m\u001b[0m\u001b[0m\n",
      "\u001b[1;32m~\\Anaconda3\\envs\\nltk1\\lib\\site-packages\\sklearn\\utils\\fixes.py\u001b[0m in \u001b[0;36m__call__\u001b[1;34m(self, *args, **kwargs)\u001b[0m\n\u001b[0;32m    220\u001b[0m     \u001b[1;32mdef\u001b[0m \u001b[0m__call__\u001b[0m\u001b[1;33m(\u001b[0m\u001b[0mself\u001b[0m\u001b[1;33m,\u001b[0m \u001b[1;33m*\u001b[0m\u001b[0margs\u001b[0m\u001b[1;33m,\u001b[0m \u001b[1;33m**\u001b[0m\u001b[0mkwargs\u001b[0m\u001b[1;33m)\u001b[0m\u001b[1;33m:\u001b[0m\u001b[1;33m\u001b[0m\u001b[1;33m\u001b[0m\u001b[0m\n\u001b[0;32m    221\u001b[0m         \u001b[1;32mwith\u001b[0m \u001b[0mconfig_context\u001b[0m\u001b[1;33m(\u001b[0m\u001b[1;33m**\u001b[0m\u001b[0mself\u001b[0m\u001b[1;33m.\u001b[0m\u001b[0mconfig\u001b[0m\u001b[1;33m)\u001b[0m\u001b[1;33m:\u001b[0m\u001b[1;33m\u001b[0m\u001b[1;33m\u001b[0m\u001b[0m\n\u001b[1;32m--> 222\u001b[1;33m             \u001b[1;32mreturn\u001b[0m \u001b[0mself\u001b[0m\u001b[1;33m.\u001b[0m\u001b[0mfunction\u001b[0m\u001b[1;33m(\u001b[0m\u001b[1;33m*\u001b[0m\u001b[0margs\u001b[0m\u001b[1;33m,\u001b[0m \u001b[1;33m**\u001b[0m\u001b[0mkwargs\u001b[0m\u001b[1;33m)\u001b[0m\u001b[1;33m\u001b[0m\u001b[1;33m\u001b[0m\u001b[0m\n\u001b[0m",
      "\u001b[1;32m~\\Anaconda3\\envs\\nltk1\\lib\\site-packages\\sklearn\\ensemble\\_forest.py\u001b[0m in \u001b[0;36m_parallel_build_trees\u001b[1;34m(tree, forest, X, y, sample_weight, tree_idx, n_trees, verbose, class_weight, n_samples_bootstrap)\u001b[0m\n\u001b[0;32m    167\u001b[0m                                                         indices=indices)\n\u001b[0;32m    168\u001b[0m \u001b[1;33m\u001b[0m\u001b[0m\n\u001b[1;32m--> 169\u001b[1;33m         \u001b[0mtree\u001b[0m\u001b[1;33m.\u001b[0m\u001b[0mfit\u001b[0m\u001b[1;33m(\u001b[0m\u001b[0mX\u001b[0m\u001b[1;33m,\u001b[0m \u001b[0my\u001b[0m\u001b[1;33m,\u001b[0m \u001b[0msample_weight\u001b[0m\u001b[1;33m=\u001b[0m\u001b[0mcurr_sample_weight\u001b[0m\u001b[1;33m,\u001b[0m \u001b[0mcheck_input\u001b[0m\u001b[1;33m=\u001b[0m\u001b[1;32mFalse\u001b[0m\u001b[1;33m)\u001b[0m\u001b[1;33m\u001b[0m\u001b[1;33m\u001b[0m\u001b[0m\n\u001b[0m\u001b[0;32m    170\u001b[0m     \u001b[1;32melse\u001b[0m\u001b[1;33m:\u001b[0m\u001b[1;33m\u001b[0m\u001b[1;33m\u001b[0m\u001b[0m\n\u001b[0;32m    171\u001b[0m         \u001b[0mtree\u001b[0m\u001b[1;33m.\u001b[0m\u001b[0mfit\u001b[0m\u001b[1;33m(\u001b[0m\u001b[0mX\u001b[0m\u001b[1;33m,\u001b[0m \u001b[0my\u001b[0m\u001b[1;33m,\u001b[0m \u001b[0msample_weight\u001b[0m\u001b[1;33m=\u001b[0m\u001b[0msample_weight\u001b[0m\u001b[1;33m,\u001b[0m \u001b[0mcheck_input\u001b[0m\u001b[1;33m=\u001b[0m\u001b[1;32mFalse\u001b[0m\u001b[1;33m)\u001b[0m\u001b[1;33m\u001b[0m\u001b[1;33m\u001b[0m\u001b[0m\n",
      "\u001b[1;32m~\\Anaconda3\\envs\\nltk1\\lib\\site-packages\\sklearn\\tree\\_classes.py\u001b[0m in \u001b[0;36mfit\u001b[1;34m(self, X, y, sample_weight, check_input, X_idx_sorted)\u001b[0m\n\u001b[0;32m    900\u001b[0m             \u001b[0msample_weight\u001b[0m\u001b[1;33m=\u001b[0m\u001b[0msample_weight\u001b[0m\u001b[1;33m,\u001b[0m\u001b[1;33m\u001b[0m\u001b[1;33m\u001b[0m\u001b[0m\n\u001b[0;32m    901\u001b[0m             \u001b[0mcheck_input\u001b[0m\u001b[1;33m=\u001b[0m\u001b[0mcheck_input\u001b[0m\u001b[1;33m,\u001b[0m\u001b[1;33m\u001b[0m\u001b[1;33m\u001b[0m\u001b[0m\n\u001b[1;32m--> 902\u001b[1;33m             X_idx_sorted=X_idx_sorted)\n\u001b[0m\u001b[0;32m    903\u001b[0m         \u001b[1;32mreturn\u001b[0m \u001b[0mself\u001b[0m\u001b[1;33m\u001b[0m\u001b[1;33m\u001b[0m\u001b[0m\n\u001b[0;32m    904\u001b[0m \u001b[1;33m\u001b[0m\u001b[0m\n",
      "\u001b[1;32m~\\Anaconda3\\envs\\nltk1\\lib\\site-packages\\sklearn\\tree\\_classes.py\u001b[0m in \u001b[0;36mfit\u001b[1;34m(self, X, y, sample_weight, check_input, X_idx_sorted)\u001b[0m\n\u001b[0;32m    387\u001b[0m                                            min_impurity_split)\n\u001b[0;32m    388\u001b[0m \u001b[1;33m\u001b[0m\u001b[0m\n\u001b[1;32m--> 389\u001b[1;33m         \u001b[0mbuilder\u001b[0m\u001b[1;33m.\u001b[0m\u001b[0mbuild\u001b[0m\u001b[1;33m(\u001b[0m\u001b[0mself\u001b[0m\u001b[1;33m.\u001b[0m\u001b[0mtree_\u001b[0m\u001b[1;33m,\u001b[0m \u001b[0mX\u001b[0m\u001b[1;33m,\u001b[0m \u001b[0my\u001b[0m\u001b[1;33m,\u001b[0m \u001b[0msample_weight\u001b[0m\u001b[1;33m)\u001b[0m\u001b[1;33m\u001b[0m\u001b[1;33m\u001b[0m\u001b[0m\n\u001b[0m\u001b[0;32m    390\u001b[0m \u001b[1;33m\u001b[0m\u001b[0m\n\u001b[0;32m    391\u001b[0m         \u001b[1;32mif\u001b[0m \u001b[0mself\u001b[0m\u001b[1;33m.\u001b[0m\u001b[0mn_outputs_\u001b[0m \u001b[1;33m==\u001b[0m \u001b[1;36m1\u001b[0m \u001b[1;32mand\u001b[0m \u001b[0mis_classifier\u001b[0m\u001b[1;33m(\u001b[0m\u001b[0mself\u001b[0m\u001b[1;33m)\u001b[0m\u001b[1;33m:\u001b[0m\u001b[1;33m\u001b[0m\u001b[1;33m\u001b[0m\u001b[0m\n",
      "\u001b[1;31mKeyboardInterrupt\u001b[0m: "
     ]
    }
   ],
   "source": [
    "%%time\n",
    "# fitting\n",
    "model.fit(X_train, y_train)\n",
    "print(\"Modelling --- DONE\")"
   ]
  },
  {
   "cell_type": "code",
   "execution_count": null,
   "id": "owned-singer",
   "metadata": {},
   "outputs": [],
   "source": [
    "# save model\n",
    "filename = 'random_forest.sav'\n",
    "pickle.dump(model, open(f'models/binary/{filename}', 'wb'))"
   ]
  },
  {
   "cell_type": "code",
   "execution_count": null,
   "id": "english-poker",
   "metadata": {},
   "outputs": [],
   "source": [
    "%%time\n",
    "# performance on TRAIN\n",
    "print(\"Performance on TRAIN:\")\n",
    "y_pred = model.predict(X_train)   \n",
    "print('Classification report:')\n",
    "print(classification_report(y_train, y_pred))\n",
    "c_matrix(y_train, y_pred, [\"Hate/Offensive\", \"Neither\"])"
   ]
  },
  {
   "cell_type": "code",
   "execution_count": null,
   "id": "virtual-astronomy",
   "metadata": {},
   "outputs": [],
   "source": [
    "%%time\n",
    "# performance on TEST\n",
    "y_pred = model.predict(X_test)   \n",
    "print('Classification report:')\n",
    "print(classification_report(y_test, y_pred))\n",
    "c_matrix(y_test, y_pred, [\"Hate/Offensive\", \"Neither\"]) "
   ]
  },
  {
   "cell_type": "markdown",
   "id": "favorite-draft",
   "metadata": {},
   "source": [
    "### Neural Network"
   ]
  },
  {
   "cell_type": "code",
   "execution_count": 46,
   "id": "dangerous-truck",
   "metadata": {},
   "outputs": [],
   "source": [
    "Y_data_bin = keras.utils.to_categorical(Y_data)\n",
    "\n",
    "X_train, X_test, y_train_bin, y_test_bin = train_test_split(X_data, Y_data_bin,\n",
    "                                                   test_size = 0.2,\n",
    "                                                   random_state = 42,\n",
    "                                                   shuffle = True,\n",
    "                                                   stratify = Y_data)"
   ]
  },
  {
   "cell_type": "code",
   "execution_count": 47,
   "id": "formal-needle",
   "metadata": {},
   "outputs": [],
   "source": [
    "def neural_network(dims, seed):\n",
    "    model = Sequential()\n",
    "    model.add(Dense(64, input_shape = (dims,), \n",
    "                    activation = 'relu',\n",
    "                    kernel_regularizer = regularizers.l2(1e-4)))\n",
    "    model.add(Dropout(0.5))\n",
    "    model.add(Dense(3, activation = 'softmax',\n",
    "                    kernel_regularizer = regularizers.l2(1e-4)))\n",
    "\n",
    "    model.compile(loss = 'categorical_crossentropy',\n",
    "                 optimizer = keras.optimizers.Adam(lr=0.0001),\n",
    "                 metrics=['acc'])\n",
    "    return model\n",
    "\n",
    "def neural_network_2(dims, seed):\n",
    "    model = Sequential()\n",
    "    model.add(Dense(128, input_shape = (dims,), \n",
    "                    activation = 'relu', \n",
    "                    kernel_regularizer = regularizers.l2(1e-4)))\n",
    "    model.add(Dropout(0.5))\n",
    "    model.add(Dense(64, input_shape = (dims,), \n",
    "                    activation = 'relu',\n",
    "                    kernel_regularizer = regularizers.l2(1e-4)))\n",
    "    model.add(Dropout(0.5))\n",
    "    model.add(Dense(3, activation = 'softmax', \n",
    "                    kernel_regularizer = regularizers.l2(1e-4)))\n",
    "\n",
    "    model.compile(loss = 'categorical_crossentropy',\n",
    "                 optimizer = keras.optimizers.Adam(lr=0.0001),\n",
    "                 metrics=['acc'])\n",
    "    return model\n",
    "\n",
    "def neural_network_3(dims, seed):\n",
    "    model = Sequential()\n",
    "    model.add(Dense(1024, input_shape = (dims,), \n",
    "                    activation = 'relu', \n",
    "                    kernel_regularizer = regularizers.l2(1e-4)))\n",
    "    model.add(Dropout(0.5))\n",
    "    model.add(Dense(256, input_shape = (dims,), \n",
    "                    activation = 'relu', \n",
    "                    kernel_regularizer = regularizers.l2(1e-4)))\n",
    "    model.add(Dropout(0.5))\n",
    "    model.add(Dense(128, input_shape = (dims,), \n",
    "                    activation = 'relu', \n",
    "                    kernel_regularizer = regularizers.l2(1e-4)))\n",
    "    model.add(Dropout(0.5))\n",
    "    model.add(Dense(64, input_shape = (dims,), \n",
    "                    activation = 'relu',\n",
    "                    kernel_regularizer = regularizers.l2(1e-4)))\n",
    "    model.add(Dropout(0.5))\n",
    "    model.add(Dense(3, activation = 'softmax', \n",
    "                    kernel_regularizer = regularizers.l2(1e-4)))\n",
    "\n",
    "    model.compile(loss = 'categorical_crossentropy',\n",
    "                 optimizer = keras.optimizers.Adam(lr=0.0001),\n",
    "                 metrics=['acc'])\n",
    "    return model"
   ]
  },
  {
   "cell_type": "code",
   "execution_count": 48,
   "id": "special-metro",
   "metadata": {},
   "outputs": [],
   "source": [
    "def checkpoint(checkpoint_filepath):\n",
    "    model_checkpoint = keras.callbacks.ModelCheckpoint(\n",
    "                    filepath=checkpoint_filepath,\n",
    "                    save_weights_only=True,\n",
    "                    monitor='val_loss',\n",
    "                    mode='auto',\n",
    "                    save_best_only=True)\n",
    "    return model_checkpoint"
   ]
  },
  {
   "cell_type": "code",
   "execution_count": 49,
   "id": "developing-launch",
   "metadata": {},
   "outputs": [
    {
     "name": "stdout",
     "output_type": "stream",
     "text": [
      "Model: \"sequential_2\"\n",
      "_________________________________________________________________\n",
      "Layer (type)                 Output Shape              Param #   \n",
      "=================================================================\n",
      "dense_4 (Dense)              (None, 64)                230336    \n",
      "_________________________________________________________________\n",
      "dropout_2 (Dropout)          (None, 64)                0         \n",
      "_________________________________________________________________\n",
      "dense_5 (Dense)              (None, 3)                 195       \n",
      "=================================================================\n",
      "Total params: 230,531\n",
      "Trainable params: 230,531\n",
      "Non-trainable params: 0\n",
      "_________________________________________________________________\n"
     ]
    }
   ],
   "source": [
    "dims = X_data.shape[1]\n",
    "seed = 42\n",
    "batch_s = 32\n",
    "epochs_n = 20\n",
    "\n",
    "model = neural_network(dims, seed)\n",
    "model.summary()"
   ]
  },
  {
   "cell_type": "code",
   "execution_count": 51,
   "id": "annual-constitution",
   "metadata": {},
   "outputs": [
    {
     "name": "stdout",
     "output_type": "stream",
     "text": [
      "Epoch 1/20\n",
      "496/496 [==============================] - 2s 3ms/step - loss: 0.3886 - acc: 0.8725 - val_loss: 0.4788 - val_acc: 0.8499\n",
      "Epoch 2/20\n",
      "496/496 [==============================] - 1s 3ms/step - loss: 0.3846 - acc: 0.8767 - val_loss: 0.4753 - val_acc: 0.8509\n",
      "Epoch 3/20\n",
      "496/496 [==============================] - 1s 3ms/step - loss: 0.3759 - acc: 0.8731 - val_loss: 0.4681 - val_acc: 0.8517\n",
      "Epoch 4/20\n",
      "496/496 [==============================] - 1s 3ms/step - loss: 0.3685 - acc: 0.8787 - val_loss: 0.4672 - val_acc: 0.8509\n",
      "Epoch 5/20\n",
      "496/496 [==============================] - 1s 3ms/step - loss: 0.3608 - acc: 0.8790 - val_loss: 0.4667 - val_acc: 0.8499\n",
      "Epoch 6/20\n",
      "496/496 [==============================] - 1s 3ms/step - loss: 0.3547 - acc: 0.8789 - val_loss: 0.4602 - val_acc: 0.8525\n",
      "Epoch 7/20\n",
      "496/496 [==============================] - 1s 3ms/step - loss: 0.3539 - acc: 0.8799 - val_loss: 0.4624 - val_acc: 0.8504\n",
      "Epoch 8/20\n",
      "496/496 [==============================] - 1s 3ms/step - loss: 0.3465 - acc: 0.8844 - val_loss: 0.4605 - val_acc: 0.8509\n",
      "Epoch 9/20\n",
      "496/496 [==============================] - 1s 3ms/step - loss: 0.3384 - acc: 0.8860 - val_loss: 0.4581 - val_acc: 0.8517\n",
      "Epoch 10/20\n",
      "496/496 [==============================] - 2s 3ms/step - loss: 0.3341 - acc: 0.8856 - val_loss: 0.4594 - val_acc: 0.8512\n",
      "Epoch 11/20\n",
      "496/496 [==============================] - 1s 3ms/step - loss: 0.3332 - acc: 0.8861 - val_loss: 0.4526 - val_acc: 0.8557\n",
      "Epoch 12/20\n",
      "496/496 [==============================] - 1s 3ms/step - loss: 0.3295 - acc: 0.8885 - val_loss: 0.4580 - val_acc: 0.8532\n",
      "Epoch 13/20\n",
      "496/496 [==============================] - 1s 3ms/step - loss: 0.3248 - acc: 0.8890 - val_loss: 0.4574 - val_acc: 0.8525\n",
      "Epoch 14/20\n",
      "496/496 [==============================] - 1s 3ms/step - loss: 0.3191 - acc: 0.8881 - val_loss: 0.4536 - val_acc: 0.8540\n",
      "Epoch 15/20\n",
      "496/496 [==============================] - 1s 3ms/step - loss: 0.3185 - acc: 0.8907 - val_loss: 0.4631 - val_acc: 0.8482\n",
      "Epoch 16/20\n",
      "496/496 [==============================] - 1s 3ms/step - loss: 0.3144 - acc: 0.8914 - val_loss: 0.4570 - val_acc: 0.8512\n",
      "Epoch 17/20\n",
      "496/496 [==============================] - 1s 3ms/step - loss: 0.3105 - acc: 0.8926 - val_loss: 0.4558 - val_acc: 0.8515\n",
      "Epoch 18/20\n",
      "496/496 [==============================] - 1s 3ms/step - loss: 0.3078 - acc: 0.8936 - val_loss: 0.4532 - val_acc: 0.8517\n",
      "Epoch 19/20\n",
      "496/496 [==============================] - 1s 3ms/step - loss: 0.3054 - acc: 0.8956 - val_loss: 0.4543 - val_acc: 0.8515\n",
      "Epoch 20/20\n",
      "496/496 [==============================] - 2s 3ms/step - loss: 0.3016 - acc: 0.8966 - val_loss: 0.4514 - val_acc: 0.8525\n",
      "Wall time: 30 s\n"
     ]
    }
   ],
   "source": [
    "%%time\n",
    "history = model.fit(X_train, y_train_bin, \n",
    "                    batch_size=batch_s, \n",
    "                    epochs=epochs_n, \n",
    "                    verbose=1,\n",
    "                    validation_split = 0.2,\n",
    "                    class_weight = {0 : weights[0], 1 : weights[1]},\n",
    "                    callbacks = [checkpoint(\"models/binary/best_nn.h5\")])"
   ]
  },
  {
   "cell_type": "code",
   "execution_count": 21,
   "id": "expensive-probability",
   "metadata": {},
   "outputs": [],
   "source": [
    "def loss_plotter(history):\n",
    "    fig = plt.figure(figsize=(6,8))\n",
    "    plt.subplot(2, 1, 1)\n",
    "    plt.plot(history.history[\"loss\"], label = \"Train loss\",\n",
    "             color = \"forestgreen\")\n",
    "    plt.plot(history.history[\"val_loss\"], label= \"Validation loss\",\n",
    "             color = \"orange\")\n",
    "    plt.legend(loc='upper right', fontsize = 10)\n",
    "    plt.xticks(fontsize = 10)\n",
    "    plt.yticks(fontsize = 10)\n",
    "    plt.xlabel('Epochs', size = 15)\n",
    "    plt.ylabel('Value', size = 15)\n",
    "    plt.title(\"Loss function\", size =20)\n",
    "    plt.show()\n",
    "    fig = plt.figure(figsize=(6,8))\n",
    "    plt.subplot(2, 1, 2)\n",
    "    plt.plot(history.history[\"acc\"], label = \"Train accuracy\",\n",
    "             color = \"forestgreen\")\n",
    "    plt.plot(history.history[\"val_acc\"], label= \"Validation accuracy\",\n",
    "             color = \"orange\")\n",
    "    plt.legend(fontsize = 12)\n",
    "    plt.xticks(fontsize = 10)\n",
    "    plt.yticks(fontsize = 10)\n",
    "    plt.xlabel('Epochs', size = 15)\n",
    "    plt.ylabel('Value', size = 15)\n",
    "    plt.title(\"Accuracy function\", size =20)\n",
    "    plt.show()"
   ]
  },
  {
   "cell_type": "code",
   "execution_count": 52,
   "id": "purple-missile",
   "metadata": {},
   "outputs": [],
   "source": [
    "# load model\n",
    "filename = 'best_nn.h5'\n",
    "model.load_weights(f'models/binary/{filename}')"
   ]
  },
  {
   "cell_type": "code",
   "execution_count": 53,
   "id": "tight-glasgow",
   "metadata": {},
   "outputs": [
    {
     "data": {
      "image/png": "[encoded data removed]",
      "text/plain": [
       "<Figure size 432x576 with 1 Axes>"
      ]
     },
     "metadata": {
      "needs_background": "light"
     },
     "output_type": "display_data"
    },
    {
     "data": {
      "image/png": "[encoded data removed]",
      "text/plain": [
       "<Figure size 432x576 with 1 Axes>"
      ]
     },
     "metadata": {
      "needs_background": "light"
     },
     "output_type": "display_data"
    }
   ],
   "source": [
    "loss_plotter(history)"
   ]
  },
  {
   "cell_type": "code",
   "execution_count": 54,
   "id": "centered-consent",
   "metadata": {},
   "outputs": [
    {
     "name": "stdout",
     "output_type": "stream",
     "text": [
      "Classification report:\n",
      "              precision    recall  f1-score   support\n",
      "\n",
      "           0       0.43      0.90      0.58      1144\n",
      "           1       0.99      0.88      0.93     15351\n",
      "           2       0.85      0.97      0.91      3329\n",
      "\n",
      "    accuracy                           0.90     19824\n",
      "   macro avg       0.76      0.91      0.81     19824\n",
      "weighted avg       0.93      0.90      0.91     19824\n",
      "\n"
     ]
    },
    {
     "data": {
      "image/png": "[encoded data removed]",
      "text/plain": [
       "<Figure size 576x432 with 2 Axes>"
      ]
     },
     "metadata": {
      "needs_background": "light"
     },
     "output_type": "display_data"
    },
    {
     "name": "stdout",
     "output_type": "stream",
     "text": [
      "Wall time: 1.01 s\n"
     ]
    }
   ],
   "source": [
    "%%time\n",
    "# performance on TRAIN\n",
    "y_pred = np.argmax(model.predict(X_train), axis = 1)\n",
    "y_train_n = np.argmax(y_train, axis = 1)\n",
    "print('Classification report:')\n",
    "print(classification_report(y_train_n, y_pred))\n",
    "c_matrix(y_train_n, y_pred, [\"Hate/Offensive\", \"Neither\"])"
   ]
  },
  {
   "cell_type": "code",
   "execution_count": 56,
   "id": "natural-luxembourg",
   "metadata": {},
   "outputs": [
    {
     "name": "stdout",
     "output_type": "stream",
     "text": [
      "Classification report:\n",
      "              precision    recall  f1-score   support\n",
      "\n",
      "           0       0.29      0.60      0.39       286\n",
      "           1       0.96      0.85      0.91      3838\n",
      "           2       0.79      0.92      0.85       833\n",
      "\n",
      "    accuracy                           0.85      4957\n",
      "   macro avg       0.68      0.79      0.72      4957\n",
      "weighted avg       0.90      0.85      0.87      4957\n",
      "\n"
     ]
    },
    {
     "data": {
      "image/png": "[encoded data removed]",
      "text/plain": [
       "<Figure size 576x432 with 2 Axes>"
      ]
     },
     "metadata": {
      "needs_background": "light"
     },
     "output_type": "display_data"
    },
    {
     "name": "stdout",
     "output_type": "stream",
     "text": [
      "Wall time: 555 ms\n"
     ]
    }
   ],
   "source": [
    "%%time\n",
    "# performance on TEST\n",
    "y_pred = np.argmax(model.predict(X_test), axis = 1)\n",
    "y_test_n = np.argmax(y_test, axis = 1)\n",
    "print('Classification report:')\n",
    "print(classification_report(y_test_n, y_pred))\n",
    "c_matrix(y_test_n, y_pred, [\"Hate/Offensive\", \"Neither\"])"
   ]
  }
 ],
 "metadata": {
  "kernelspec": {
   "display_name": "Python 3",
   "language": "python",
   "name": "python3"
  },
  "language_info": {
   "codemirror_mode": {
    "name": "ipython",
    "version": 3
   },
   "file_extension": ".py",
   "mimetype": "text/x-python",
   "name": "python",
   "nbconvert_exporter": "python",
   "pygments_lexer": "ipython3",
   "version": "3.7.9"
  }
 },
 "nbformat": 4,
 "nbformat_minor": 5
}
