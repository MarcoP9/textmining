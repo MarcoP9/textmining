{
 "cells": [
  {
   "cell_type": "markdown",
   "metadata": {},
   "source": [
    "# Exploration"
   ]
  },
  {
   "cell_type": "code",
   "execution_count": 3,
   "metadata": {},
   "outputs": [],
   "source": [
    "import nltk\n",
    "import pandas as pd\n",
    "import re\n",
    "import string\n",
    "#from wordcloud import WordCloud\n",
    "import matplotlib.pyplot as plt\n",
    "import sklearn\n",
    "from nltk.stem.porter import PorterStemmer\n",
    "from nltk.tokenize import TweetTokenizer\n",
    "from nltk.tokenize import  WordPunctTokenizer\n",
    "from nltk.tokenize import  BlanklineTokenizer"
   ]
  },
  {
   "cell_type": "code",
   "execution_count": 4,
   "metadata": {},
   "outputs": [
    {
     "name": "stderr",
     "output_type": "stream",
     "text": [
      "[nltk_data] Downloading package stopwords to\n",
      "[nltk_data]     C:\\Users\\fede9\\AppData\\Roaming\\nltk_data...\n",
      "[nltk_data]   Package stopwords is already up-to-date!\n"
     ]
    }
   ],
   "source": [
    "nltk.download(\"stopwords\")\n",
    "stop_words = nltk.corpus.stopwords.words(\"english\")"
   ]
  },
  {
   "cell_type": "code",
   "execution_count": 5,
   "metadata": {},
   "outputs": [
    {
     "data": {
      "text/html": [
       "<div>\n",
       "<style scoped>\n",
       "    .dataframe tbody tr th:only-of-type {\n",
       "        vertical-align: middle;\n",
       "    }\n",
       "\n",
       "    .dataframe tbody tr th {\n",
       "        vertical-align: top;\n",
       "    }\n",
       "\n",
       "    .dataframe thead th {\n",
       "        text-align: right;\n",
       "    }\n",
       "</style>\n",
       "<table border=\"1\" class=\"dataframe\">\n",
       "  <thead>\n",
       "    <tr style=\"text-align: right;\">\n",
       "      <th></th>\n",
       "      <th>count</th>\n",
       "      <th>hate_speech</th>\n",
       "      <th>offensive_language</th>\n",
       "      <th>neither</th>\n",
       "      <th>class</th>\n",
       "      <th>tweet</th>\n",
       "    </tr>\n",
       "  </thead>\n",
       "  <tbody>\n",
       "    <tr>\n",
       "      <th>0</th>\n",
       "      <td>3</td>\n",
       "      <td>0</td>\n",
       "      <td>0</td>\n",
       "      <td>3</td>\n",
       "      <td>2</td>\n",
       "      <td>!!! RT @mayasolovely: As a woman you shouldn't...</td>\n",
       "    </tr>\n",
       "    <tr>\n",
       "      <th>1</th>\n",
       "      <td>3</td>\n",
       "      <td>0</td>\n",
       "      <td>3</td>\n",
       "      <td>0</td>\n",
       "      <td>1</td>\n",
       "      <td>!!!!! RT @mleew17: boy dats cold...tyga dwn ba...</td>\n",
       "    </tr>\n",
       "    <tr>\n",
       "      <th>2</th>\n",
       "      <td>3</td>\n",
       "      <td>0</td>\n",
       "      <td>3</td>\n",
       "      <td>0</td>\n",
       "      <td>1</td>\n",
       "      <td>!!!!!!! RT @UrKindOfBrand Dawg!!!! RT @80sbaby...</td>\n",
       "    </tr>\n",
       "    <tr>\n",
       "      <th>3</th>\n",
       "      <td>3</td>\n",
       "      <td>0</td>\n",
       "      <td>2</td>\n",
       "      <td>1</td>\n",
       "      <td>1</td>\n",
       "      <td>!!!!!!!!! RT @C_G_Anderson: @viva_based she lo...</td>\n",
       "    </tr>\n",
       "    <tr>\n",
       "      <th>4</th>\n",
       "      <td>6</td>\n",
       "      <td>0</td>\n",
       "      <td>6</td>\n",
       "      <td>0</td>\n",
       "      <td>1</td>\n",
       "      <td>!!!!!!!!!!!!! RT @ShenikaRoberts: The shit you...</td>\n",
       "    </tr>\n",
       "  </tbody>\n",
       "</table>\n",
       "</div>"
      ],
      "text/plain": [
       "   count  hate_speech  offensive_language  neither  class  \\\n",
       "0      3            0                   0        3      2   \n",
       "1      3            0                   3        0      1   \n",
       "2      3            0                   3        0      1   \n",
       "3      3            0                   2        1      1   \n",
       "4      6            0                   6        0      1   \n",
       "\n",
       "                                               tweet  \n",
       "0  !!! RT @mayasolovely: As a woman you shouldn't...  \n",
       "1  !!!!! RT @mleew17: boy dats cold...tyga dwn ba...  \n",
       "2  !!!!!!! RT @UrKindOfBrand Dawg!!!! RT @80sbaby...  \n",
       "3  !!!!!!!!! RT @C_G_Anderson: @viva_based she lo...  \n",
       "4  !!!!!!!!!!!!! RT @ShenikaRoberts: The shit you...  "
      ]
     },
     "execution_count": 5,
     "metadata": {},
     "output_type": "execute_result"
    }
   ],
   "source": [
    "df = pd.read_csv(\"data/labeled_data.csv\", sep = ',').drop(\"Unnamed: 0\", axis=1)\n",
    "df.head()"
   ]
  },
  {
   "cell_type": "code",
   "execution_count": 3,
   "metadata": {
    "scrolled": true
   },
   "outputs": [
    {
     "data": {
      "text/html": [
       "<div>\n",
       "<style scoped>\n",
       "    .dataframe tbody tr th:only-of-type {\n",
       "        vertical-align: middle;\n",
       "    }\n",
       "\n",
       "    .dataframe tbody tr th {\n",
       "        vertical-align: top;\n",
       "    }\n",
       "\n",
       "    .dataframe thead th {\n",
       "        text-align: right;\n",
       "    }\n",
       "</style>\n",
       "<table border=\"1\" class=\"dataframe\">\n",
       "  <thead>\n",
       "    <tr style=\"text-align: right;\">\n",
       "      <th></th>\n",
       "      <th>count</th>\n",
       "      <th>hate_speech</th>\n",
       "      <th>offensive_language</th>\n",
       "      <th>neither</th>\n",
       "      <th>class</th>\n",
       "    </tr>\n",
       "  </thead>\n",
       "  <tbody>\n",
       "    <tr>\n",
       "      <th>count</th>\n",
       "      <td>24783.000000</td>\n",
       "      <td>24783.000000</td>\n",
       "      <td>24783.000000</td>\n",
       "      <td>24783.000000</td>\n",
       "      <td>24783.000000</td>\n",
       "    </tr>\n",
       "    <tr>\n",
       "      <th>mean</th>\n",
       "      <td>3.243473</td>\n",
       "      <td>0.280515</td>\n",
       "      <td>2.413711</td>\n",
       "      <td>0.549247</td>\n",
       "      <td>1.110277</td>\n",
       "    </tr>\n",
       "    <tr>\n",
       "      <th>std</th>\n",
       "      <td>0.883060</td>\n",
       "      <td>0.631851</td>\n",
       "      <td>1.399459</td>\n",
       "      <td>1.113299</td>\n",
       "      <td>0.462089</td>\n",
       "    </tr>\n",
       "    <tr>\n",
       "      <th>min</th>\n",
       "      <td>3.000000</td>\n",
       "      <td>0.000000</td>\n",
       "      <td>0.000000</td>\n",
       "      <td>0.000000</td>\n",
       "      <td>0.000000</td>\n",
       "    </tr>\n",
       "    <tr>\n",
       "      <th>25%</th>\n",
       "      <td>3.000000</td>\n",
       "      <td>0.000000</td>\n",
       "      <td>2.000000</td>\n",
       "      <td>0.000000</td>\n",
       "      <td>1.000000</td>\n",
       "    </tr>\n",
       "    <tr>\n",
       "      <th>50%</th>\n",
       "      <td>3.000000</td>\n",
       "      <td>0.000000</td>\n",
       "      <td>3.000000</td>\n",
       "      <td>0.000000</td>\n",
       "      <td>1.000000</td>\n",
       "    </tr>\n",
       "    <tr>\n",
       "      <th>75%</th>\n",
       "      <td>3.000000</td>\n",
       "      <td>0.000000</td>\n",
       "      <td>3.000000</td>\n",
       "      <td>0.000000</td>\n",
       "      <td>1.000000</td>\n",
       "    </tr>\n",
       "    <tr>\n",
       "      <th>max</th>\n",
       "      <td>9.000000</td>\n",
       "      <td>7.000000</td>\n",
       "      <td>9.000000</td>\n",
       "      <td>9.000000</td>\n",
       "      <td>2.000000</td>\n",
       "    </tr>\n",
       "  </tbody>\n",
       "</table>\n",
       "</div>"
      ],
      "text/plain": [
       "              count   hate_speech  offensive_language       neither  \\\n",
       "count  24783.000000  24783.000000        24783.000000  24783.000000   \n",
       "mean       3.243473      0.280515            2.413711      0.549247   \n",
       "std        0.883060      0.631851            1.399459      1.113299   \n",
       "min        3.000000      0.000000            0.000000      0.000000   \n",
       "25%        3.000000      0.000000            2.000000      0.000000   \n",
       "50%        3.000000      0.000000            3.000000      0.000000   \n",
       "75%        3.000000      0.000000            3.000000      0.000000   \n",
       "max        9.000000      7.000000            9.000000      9.000000   \n",
       "\n",
       "              class  \n",
       "count  24783.000000  \n",
       "mean       1.110277  \n",
       "std        0.462089  \n",
       "min        0.000000  \n",
       "25%        1.000000  \n",
       "50%        1.000000  \n",
       "75%        1.000000  \n",
       "max        2.000000  "
      ]
     },
     "execution_count": 3,
     "metadata": {},
     "output_type": "execute_result"
    }
   ],
   "source": [
    "df.describe()"
   ]
  },
  {
   "cell_type": "code",
   "execution_count": 4,
   "metadata": {},
   "outputs": [
    {
     "data": {
      "text/plain": [
       "count                                                                 3\n",
       "hate_speech                                                           0\n",
       "offensive_language                                                    3\n",
       "neither                                                               0\n",
       "class                                                                 1\n",
       "tweet                 RT @shananigans__: 50 shades of shut your bitc...\n",
       "Name: 20000, dtype: object"
      ]
     },
     "execution_count": 4,
     "metadata": {},
     "output_type": "execute_result"
    }
   ],
   "source": [
    "df.loc[20000]"
   ]
  },
  {
   "cell_type": "code",
   "execution_count": 19,
   "metadata": {},
   "outputs": [
    {
     "data": {
      "text/plain": [
       "3    22807\n",
       "6     1571\n",
       "4      211\n",
       "9      167\n",
       "7       27\n",
       "Name: count, dtype: int64"
      ]
     },
     "execution_count": 19,
     "metadata": {},
     "output_type": "execute_result"
    }
   ],
   "source": [
    "df[\"count\"].value_counts()"
   ]
  },
  {
   "cell_type": "code",
   "execution_count": 20,
   "metadata": {
    "scrolled": true
   },
   "outputs": [
    {
     "data": {
      "text/plain": [
       "0    19790\n",
       "1     3419\n",
       "2     1251\n",
       "3      287\n",
       "4       21\n",
       "5        7\n",
       "6        5\n",
       "7        3\n",
       "Name: hate_speech, dtype: int64"
      ]
     },
     "execution_count": 20,
     "metadata": {},
     "output_type": "execute_result"
    }
   ],
   "source": [
    "df[\"hate_speech\"].value_counts()"
   ]
  },
  {
   "cell_type": "code",
   "execution_count": 26,
   "metadata": {},
   "outputs": [
    {
     "data": {
      "text/plain": [
       "'@infidelpamelaLC I\\'m going to blame the black man, since they always blame \"whitey\" I\\'m an equal opportunity hater.'"
      ]
     },
     "execution_count": 26,
     "metadata": {},
     "output_type": "execute_result"
    }
   ],
   "source": [
    "df[df[\"hate_speech\"] == 7][\"tweet\"][6171]"
   ]
  },
  {
   "cell_type": "code",
   "execution_count": 27,
   "metadata": {
    "scrolled": true
   },
   "outputs": [
    {
     "data": {
      "text/plain": [
       "count                                                                 9\n",
       "hate_speech                                                           7\n",
       "offensive_language                                                    1\n",
       "neither                                                               1\n",
       "class                                                                 0\n",
       "tweet                 @infidelpamelaLC I'm going to blame the black ...\n",
       "Name: 6171, dtype: object"
      ]
     },
     "execution_count": 27,
     "metadata": {},
     "output_type": "execute_result"
    }
   ],
   "source": [
    "df.loc[6171]"
   ]
  },
  {
   "cell_type": "markdown",
   "metadata": {},
   "source": [
    "## FRASE TEST"
   ]
  },
  {
   "cell_type": "code",
   "execution_count": 6,
   "metadata": {},
   "outputs": [
    {
     "data": {
      "text/plain": [
       "'\"@ItsYahBoiRay: @anelylove if I don\\'t get my dick sucked at yo party by a bad bitch I\\'m fr gone set it off &#128514;&#128514;&#128514;&#128514;\" *by @anelylove *'"
      ]
     },
     "execution_count": 6,
     "metadata": {},
     "output_type": "execute_result"
    }
   ],
   "source": [
    "text = df[\"tweet\"][146]\n",
    "text"
   ]
  },
  {
   "cell_type": "markdown",
   "metadata": {},
   "source": [
    "## Tokenization"
   ]
  },
  {
   "cell_type": "code",
   "execution_count": 19,
   "metadata": {
    "scrolled": false
   },
   "outputs": [],
   "source": []
  },
  {
   "cell_type": "code",
   "execution_count": 20,
   "metadata": {},
   "outputs": [],
   "source": [
    "tt = TweetTokenizer()\n",
    "wpt = WordPunctTokenizer()\n",
    "blt = BlanklineTokenizer()"
   ]
  },
  {
   "cell_type": "code",
   "execution_count": 21,
   "metadata": {},
   "outputs": [
    {
     "name": "stdout",
     "output_type": "stream",
     "text": [
      "['\"', \"don't\", 'make', 'me', 'make', 'you', 'fall', 'in', 'live', 'with', 'a', 'nigga', 'like', 'meee', '...', '\"', 'the', 'birds', '1', '&', '2', 'are', 'my', 'favorite', 'songs', 'by', 'weeknd']\n",
      "['\"', 'don', \"'\", 't', 'make', 'me', 'make', 'you', 'fall', 'in', 'live', 'with', 'a', 'nigga', 'like', 'meee', '...\"', 'the', 'birds', '1', '&', 'amp', ';', '2', 'are', 'my', 'favorite', 'songs', 'by', 'weeknd']\n",
      "['\"don\\'t make me make you fall in live with a nigga like meee...\" the birds 1&amp;2 are my favorite songs by weeknd']\n"
     ]
    }
   ],
   "source": [
    "print(tt.tokenize(text.lower())) # Tweet\n",
    "print(wpt.tokenize(text.lower())) # Wordpunct\n",
    "print(blt.tokenize(text.lower())) # Blankline"
   ]
  },
  {
   "cell_type": "markdown",
   "metadata": {},
   "source": [
    "## Removing stopwords"
   ]
  },
  {
   "cell_type": "code",
   "execution_count": 25,
   "metadata": {},
   "outputs": [
    {
     "name": "stderr",
     "output_type": "stream",
     "text": [
      "[nltk_data] Downloading package stopwords to\n",
      "[nltk_data]     C:\\Users\\Marco\\AppData\\Roaming\\nltk_data...\n",
      "[nltk_data]   Package stopwords is already up-to-date!\n"
     ]
    }
   ],
   "source": [
    "nltk.download(\"stopwords\")\n",
    "stop_words = nltk.corpus.stopwords.words(\"english\")"
   ]
  },
  {
   "cell_type": "code",
   "execution_count": 27,
   "metadata": {},
   "outputs": [
    {
     "name": "stdout",
     "output_type": "stream",
     "text": [
      "['\"', 'make', 'make', 'fall', 'live', 'nigga', 'like', 'meee', '...', '\"', 'birds', '1', '&', '2', 'favorite', 'songs', 'Weeknd']\n"
     ]
    }
   ],
   "source": [
    "tokens_text = tt.tokenize(text)\n",
    "remove_sw = []\n",
    "for token in tokens_text:\n",
    "    if token.lower() not in stop_words:\n",
    "         remove_sw.append(token)\n",
    "print(remove_sw)"
   ]
  },
  {
   "cell_type": "markdown",
   "metadata": {},
   "source": [
    "## Remove numbers"
   ]
  },
  {
   "cell_type": "markdown",
   "metadata": {},
   "source": [
    "Questa parte va inserita prima della rimozione delle stopwords"
   ]
  },
  {
   "cell_type": "code",
   "execution_count": 30,
   "metadata": {},
   "outputs": [
    {
     "name": "stdout",
     "output_type": "stream",
     "text": [
      "\"Don't make me make you fall in live with a nigga like meee...\" The birds &amp; are my favorite songs by Weeknd\n"
     ]
    }
   ],
   "source": [
    "remove_num = re.sub(r'\\d+', '', text)\n",
    "print(remove_num)"
   ]
  },
  {
   "cell_type": "markdown",
   "metadata": {},
   "source": [
    "## Remove punctuations"
   ]
  },
  {
   "cell_type": "markdown",
   "metadata": {},
   "source": [
    "Ovviamente pure sta parte va fatta prima"
   ]
  },
  {
   "cell_type": "code",
   "execution_count": 83,
   "metadata": {},
   "outputs": [
    {
     "data": {
      "text/plain": [
       "'!\"#$%&\\'()*+,-./:;<=>?@[\\\\]^_`{|}~'"
      ]
     },
     "execution_count": 83,
     "metadata": {},
     "output_type": "execute_result"
    }
   ],
   "source": [
    "string.punctuation"
   ]
  },
  {
   "cell_type": "code",
   "execution_count": 31,
   "metadata": {},
   "outputs": [
    {
     "name": "stdout",
     "output_type": "stream",
     "text": [
      "Dont make me make you fall in live with a nigga like meee The birds 1amp2 are my favorite songs by Weeknd\n"
     ]
    }
   ],
   "source": [
    "remove_punc = text.translate(str.maketrans('', '', string.punctuation))\n",
    "print(remove_punc)"
   ]
  },
  {
   "cell_type": "markdown",
   "metadata": {},
   "source": [
    "## Remove Extra spaces"
   ]
  },
  {
   "cell_type": "markdown",
   "metadata": {},
   "source": [
    "Direi parecchio utile"
   ]
  },
  {
   "cell_type": "code",
   "execution_count": 32,
   "metadata": {},
   "outputs": [
    {
     "name": "stdout",
     "output_type": "stream",
     "text": [
      "\"Don't make me make you fall in live with a nigga like meee...\" The birds 1&amp;2 are my favorite songs by Weeknd\n"
     ]
    }
   ],
   "source": [
    "remove_sp = re.sub(r'\\s\\s', '', text)\n",
    "print(remove_sp)"
   ]
  },
  {
   "cell_type": "markdown",
   "metadata": {},
   "source": [
    "## WordCloud"
   ]
  },
  {
   "cell_type": "code",
   "execution_count": null,
   "metadata": {},
   "outputs": [],
   "source": [
    "def plot_wordcloud(cnt, file_name=\"figure1.png\"):\n",
    "    wordcloud = WordCloud(max_font_size=50, max_words=100, background_color=\"white\")\n",
    "    wordcloud.generate_from_frequencies(dict(cnt))\n",
    "    plt.figure()\n",
    "    plt.imshow(wordcloud, interpolation=\"bilinear\")\n",
    "    plt.axis(\"off\")\n",
    "    # plt.show()\n",
    "    plt.savefig(file_name)"
   ]
  },
  {
   "cell_type": "markdown",
   "metadata": {},
   "source": [
    "## Stemming"
   ]
  },
  {
   "cell_type": "code",
   "execution_count": null,
   "metadata": {},
   "outputs": [],
   "source": [
    "\n",
    "\n",
    "tokenized_text = WordPunctTokenizer().tokenize(text)\n",
    "\n",
    "porter = PorterStemmer()\n",
    "stemmed = [porter.stem(word) for word in tokenized_text]"
   ]
  },
  {
   "cell_type": "markdown",
   "metadata": {},
   "source": [
    "## Stanford"
   ]
  },
  {
   "cell_type": "code",
   "execution_count": 37,
   "metadata": {},
   "outputs": [
    {
     "name": "stdout",
     "output_type": "stream",
     "text": [
      "Use device: cpu\n",
      "---\n",
      "Loading: tokenize\n",
      "With settings: \n",
      "{'model_path': 'C:\\\\Users\\\\Marco\\\\stanfordnlp_resources\\\\en_ewt_models\\\\en_ewt_tokenizer.pt', 'pretokenized': False, 'lang': 'en', 'shorthand': 'en_ewt', 'mode': 'predict'}\n",
      "---\n",
      "Loading: pos\n",
      "With settings: \n",
      "{'model_path': 'C:\\\\Users\\\\Marco\\\\stanfordnlp_resources\\\\en_ewt_models\\\\en_ewt_tagger.pt', 'pretrain_path': 'C:\\\\Users\\\\Marco\\\\stanfordnlp_resources\\\\en_ewt_models\\\\en_ewt.pretrain.pt', 'lang': 'en', 'shorthand': 'en_ewt', 'mode': 'predict'}\n",
      "---\n",
      "Loading: lemma\n",
      "With settings: \n",
      "{'model_path': 'C:\\\\Users\\\\Marco\\\\stanfordnlp_resources\\\\en_ewt_models\\\\en_ewt_lemmatizer.pt', 'lang': 'en', 'shorthand': 'en_ewt', 'mode': 'predict'}\n",
      "Building an attentional Seq2Seq model...\n",
      "Using a Bi-LSTM encoder\n",
      "Using soft attention for LSTM.\n",
      "Finetune all embeddings.\n",
      "[Running seq2seq lemmatizer with edit classifier]\n",
      "---\n",
      "Loading: depparse\n",
      "With settings: \n",
      "{'model_path': 'C:\\\\Users\\\\Marco\\\\stanfordnlp_resources\\\\en_ewt_models\\\\en_ewt_parser.pt', 'pretrain_path': 'C:\\\\Users\\\\Marco\\\\stanfordnlp_resources\\\\en_ewt_models\\\\en_ewt.pretrain.pt', 'lang': 'en', 'shorthand': 'en_ewt', 'mode': 'predict'}\n",
      "Done loading processors!\n",
      "---\n"
     ]
    },
    {
     "name": "stderr",
     "output_type": "stream",
     "text": [
      "C:\\ProgramData\\Anaconda3\\lib\\site-packages\\stanfordnlp\\models\\depparse\\model.py:157: UserWarning: masked_fill_ received a mask with dtype torch.uint8, this behavior is now deprecated,please use a mask with dtype torch.bool instead. (Triggered internally at  ..\\aten\\src\\ATen\\native\\TensorAdvancedIndexing.cpp:650.)\n",
      "  unlabeled_scores.masked_fill_(diag, -float('inf'))\n"
     ]
    }
   ],
   "source": [
    "import stanfordnlp\n",
    "# stanfordnlp.download('en')   # This downloads the English models. Run only once!\n",
    "base = \"C:\\\\Users\\\\Marco\\\\stanfordnlp_resources\\\\en_ewt_models\\\\\"\n",
    "config = {\n",
    "    'processors': 'tokenize,pos,lemma,depparse', # Comma-separated list of processors to use\n",
    "    'lang': 'en', # Language code for the language to build the Pipeline in\n",
    "    'model_path': base + 'en_ewt_tokenizer.pt', \n",
    "    'pos_model_path': base + 'en_ewt_tagger.pt', \n",
    "    'pos_pretrain_path': base + 'en_ewt.pretrain.pt', \n",
    "    'lemma_model_path': base + 'en_ewt_lemmatizer.pt', \n",
    "    'depparse_model_path': base + 'en_ewt_parser.pt', \n",
    "    'depparse_pretrain_path': base + 'en_ewt.pretrain.pt', \n",
    "    'tokenize_pretokenized': False # Use pretokenized text as input and disable tokenization\n",
    "}\n",
    "\n",
    "nlp = stanfordnlp.Pipeline(**config)\n",
    "\n",
    "doc = nlp(\"this is a simple text\")\n",
    "all_information_tab_separated = doc.conll_file.conll_as_string()\n",
    "\n",
    "parsed_text = \"\\n\".join([f'text: {word.text+\" \"}\\tlemma: {word.lemma}\\tupos: {word.upos}\\tdepencency: {word.dependency_relation}' for sent in doc.sentences for word in sent.words])"
   ]
  },
  {
   "cell_type": "code",
   "execution_count": 41,
   "metadata": {},
   "outputs": [
    {
     "name": "stdout",
     "output_type": "stream",
     "text": [
      "['__class__', '__delattr__', '__dict__', '__dir__', '__doc__', '__eq__', '__format__', '__ge__', '__getattribute__', '__gt__', '__hash__', '__init__', '__init_subclass__', '__le__', '__lt__', '__module__', '__ne__', '__new__', '__reduce__', '__reduce_ex__', '__repr__', '__setattr__', '__sizeof__', '__str__', '__subclasshook__', '__weakref__', '_conll_file', '_sentences', '_text', 'conll_file', 'load_annotations', 'sentences', 'text', 'write_conll_to_file']\n"
     ]
    }
   ],
   "source": [
    "print(dir(doc))"
   ]
  },
  {
   "cell_type": "code",
   "execution_count": 59,
   "metadata": {},
   "outputs": [
    {
     "name": "stdout",
     "output_type": "stream",
     "text": [
      "['__class__', '__delattr__', '__dict__', '__dir__', '__doc__', '__eq__', '__format__', '__ge__', '__getattribute__', '__gt__', '__hash__', '__init__', '__init_subclass__', '__le__', '__lt__', '__module__', '__ne__', '__new__', '__reduce__', '__reduce_ex__', '__repr__', '__setattr__', '__sizeof__', '__str__', '__subclasshook__', '__weakref__', '_dependency_relation', '_feats', '_governor', '_index', '_lemma', '_parent_token', '_text', '_upos', '_xpos', 'dependency_relation', 'feats', 'governor', 'index', 'lemma', 'parent_token', 'pos', 'text', 'upos', 'xpos']\n"
     ]
    }
   ],
   "source": [
    "print(dir(doc.sentences[0].words[0]))"
   ]
  },
  {
   "cell_type": "code",
   "execution_count": 55,
   "metadata": {},
   "outputs": [
    {
     "data": {
      "text/plain": [
       "'this'"
      ]
     },
     "execution_count": 55,
     "metadata": {},
     "output_type": "execute_result"
    }
   ],
   "source": [
    "doc.sentences[0].words[0].text"
   ]
  },
  {
   "cell_type": "code",
   "execution_count": 57,
   "metadata": {},
   "outputs": [
    {
     "data": {
      "text/plain": [
       "'be'"
      ]
     },
     "execution_count": 57,
     "metadata": {},
     "output_type": "execute_result"
    }
   ],
   "source": [
    "doc.sentences[0].words[1].lemma"
   ]
  },
  {
   "cell_type": "code",
   "execution_count": 67,
   "metadata": {},
   "outputs": [
    {
     "data": {
      "text/plain": [
       "'DET'"
      ]
     },
     "execution_count": 67,
     "metadata": {},
     "output_type": "execute_result"
    }
   ],
   "source": [
    "doc.sentences[0].words[2].upos"
   ]
  },
  {
   "cell_type": "markdown",
   "metadata": {},
   "source": [
    "## Functions"
   ]
  },
  {
   "cell_type": "code",
   "execution_count": 43,
   "metadata": {},
   "outputs": [],
   "source": [
    "# 1\n",
    "def preprocessing(text):\n",
    "    text = text.lower() # Lowering case\n",
    "    remove_sp = re.sub(r'\\s\\s', '', text) # Removing exceeding spaces\n",
    "    remove_sp = re.sub(r'http:\\.+\\s', '', remove_sp) # Removing url\n",
    "    remove_retweet = re.sub(r\"@\\w+\", \"\",remove_sp) # Removing retweet\n",
    "    remove_punc = remove_retweet.translate(str.maketrans('', '', string.punctuation)) # Remove punctuation\n",
    "    final_text = re.sub(r'\\d+', '', remove_punc) # Remove number \n",
    "    final_text = re.sub(r'\\s\\s', '', final_text) # Removing exceeding spaces\n",
    "    return final_text"
   ]
  },
  {
   "cell_type": "code",
   "execution_count": 32,
   "metadata": {},
   "outputs": [],
   "source": [
    "#2\n",
    "def tokenization(text_clean, tok = \"tweet\"):\n",
    "    if tok == \"tweet\": # TweetTokenizer\n",
    "        tt = TweetTokenizer()\n",
    "        tokenized_text = tt.tokenize(text_clean)\n",
    "    elif tok == \"wordpunct\": # WordPunctTokenizer\n",
    "        wpt = WordPunctTokenizer()\n",
    "        tokenized_text = wpt.tokenize(text_clean)\n",
    "    return tokenized_text"
   ]
  },
  {
   "cell_type": "code",
   "execution_count": 33,
   "metadata": {},
   "outputs": [],
   "source": [
    "#3\n",
    "def remove_stopwords(tokenized_text):\n",
    "    remove_sw = []\n",
    "    for token in tokenized_text:\n",
    "        if token.lower() not in stop_words:\n",
    "             remove_sw.append(token)\n",
    "    return remove_sw"
   ]
  },
  {
   "cell_type": "code",
   "execution_count": 34,
   "metadata": {},
   "outputs": [],
   "source": [
    "from nltk.stem import WordNetLemmatizer\n",
    "wnl = WordNetLemmatizer()"
   ]
  },
  {
   "cell_type": "code",
   "execution_count": 35,
   "metadata": {},
   "outputs": [],
   "source": [
    "# 4\n",
    "# pos-tagging (1 document)\n",
    "def pos_tagging(doc_token):\n",
    "    return nltk.pos_tag(doc_token)\n",
    "\n",
    "# convertion of pos tagging\n",
    "def get_wordnet_pos(word_tag):\n",
    "    if word_tag.startswith('J'):\n",
    "        return \"a\"\n",
    "    elif word_tag.startswith('V'):\n",
    "        return \"v\"\n",
    "    elif word_tag.startswith('R'):\n",
    "        return \"r\"\n",
    "    else:\n",
    "        return \"n\"\n",
    "    \n",
    "# lemmatizer one word \n",
    "def lemmatizer(word):\n",
    "    pos = get_wordnet_pos(word[1])\n",
    "    return wnl.lemmatize(word[0], pos = pos)\n",
    "\n",
    "# lemmatizer one document\n",
    "def lemmatizer_doc(doc_token):\n",
    "    lemmas = [] \n",
    "    \n",
    "    pos_document = pos_tagging(doc_token) # pos tagging\n",
    "    for token in pos_document:\n",
    "        lemmas.append( lemmatizer(token) ) # lemmatization x word\n",
    "    \n",
    "    return lemmas"
   ]
  },
  {
   "cell_type": "code",
   "execution_count": 36,
   "metadata": {},
   "outputs": [],
   "source": [
    "# 5\n",
    "def stemmer(tokenized_text):\n",
    "    porter = PorterStemmer()\n",
    "    return [porter.stem(word) for word in tokenized_text]"
   ]
  },
  {
   "cell_type": "code",
   "execution_count": 44,
   "metadata": {
    "scrolled": false
   },
   "outputs": [
    {
     "name": "stdout",
     "output_type": "stream",
     "text": [
      "\" got ya bitch tip toeing on my hardwood floors \" &#128514; http://t.co/cOU2WQ5L4q\n",
      "1. PREPROCESSING:\n",
      "  got ya bitch tip toeing on my hardwood floors httptcocouwqlq\n",
      "2. TOKENIZATION:\n",
      " ['got', 'ya', 'bitch', 'tip', 'toeing', 'on', 'my', 'hardwood', 'floors', 'httptcocouwqlq']\n",
      "3. STOP WORDS:\n",
      " ['got', 'ya', 'bitch', 'tip', 'toeing', 'hardwood', 'floors', 'httptcocouwqlq']\n",
      "4. LEMMATIZATION:\n",
      " ['get', 'ya', 'bitch', 'tip', 'toe', 'hardwood', 'floor', 'httptcocouwqlq']\n",
      "5. STEMMER:\n",
      " ['get', 'ya', 'bitch', 'tip', 'toe', 'hardwood', 'floor', 'httptcocouwqlq']\n"
     ]
    }
   ],
   "source": [
    "text = df[\"tweet\"][24]\n",
    "print(text)\n",
    "text_prep = preprocessing(text)\n",
    "print(\"1. PREPROCESSING:\\n\", text_prep)\n",
    "text_prep = tokenization(text_prep)\n",
    "print(\"2. TOKENIZATION:\\n\", text_prep)\n",
    "text_prep = remove_stopwords(text_prep)\n",
    "print(\"3. STOP WORDS:\\n\", text_prep)\n",
    "text_prep = lemmatizer_doc(text_prep)\n",
    "print(\"4. LEMMATIZATION:\\n\", text_prep)\n",
    "text_prep = stemmer(text_prep)\n",
    "print(\"5. STEMMER:\\n\", text_prep)"
   ]
  },
  {
   "cell_type": "code",
   "execution_count": null,
   "metadata": {},
   "outputs": [],
   "source": [
    "base = \"C:\\\\Users\\\\Marco\\\\stanfordnlp_resources\\\\en_ewt_models\\\\\"\n",
    "config = {\n",
    "    'processors': 'tokenize,pos,lemma,depparse', # Comma-separated list of processors to use\n",
    "    'lang': 'en', # Language code for the language to build the Pipeline in\n",
    "    'model_path': base + 'en_ewt_tokenizer.pt', \n",
    "    'pos_model_path': base + 'en_ewt_tagger.pt', \n",
    "    'pos_pretrain_path': base + 'en_ewt.pretrain.pt', \n",
    "    'lemma_model_path': base + 'en_ewt_lemmatizer.pt', \n",
    "    'depparse_model_path': base + 'en_ewt_parser.pt', \n",
    "    'depparse_pretrain_path': base + 'en_ewt.pretrain.pt', \n",
    "    'tokenize_pretokenized': False # Use pretokenized text as input and disable tokenization\n",
    "}\n",
    "\n",
    "nlp = stanfordnlp.Pipeline(**config)\n",
    "\n",
    "doc = nlp(\"this is a simple text\")\n",
    "all_information_tab_separated = doc.conll_file.conll_as_string()\n",
    "\n",
    "parsed_text = \"\\n\".join([f'text: {word.text+\" \"}\\tlemma: {word.lemma}\\tupos: {word.upos}\\tdepencency: {word.dependency_relation}' for sent in doc.sentences for word in sent.words])\n",
    "def stanford_parser(text):\n",
    "    "
   ]
  },
  {
   "cell_type": "code",
   "execution_count": null,
   "metadata": {},
   "outputs": [],
   "source": [
    "# lemmatization ?\n",
    "# stemming ?\n",
    "# normalization ?\n",
    "# n-grams ?\n",
    "\n",
    "# representation (word2vec - gensim)\n",
    "# text clustering/classification\n",
    "# evaluation con confronti\n",
    "# conclusioni"
   ]
  }
 ],
 "metadata": {
  "kernelspec": {
   "display_name": "Python 3.7 (snake1)",
   "language": "python",
   "name": "snake1"
  },
  "language_info": {
   "codemirror_mode": {
    "name": "ipython",
    "version": 3
   },
   "file_extension": ".py",
   "mimetype": "text/x-python",
   "name": "python",
   "nbconvert_exporter": "python",
   "pygments_lexer": "ipython3",
   "version": "3.7.9"
  }
 },
 "nbformat": 4,
 "nbformat_minor": 4
}
