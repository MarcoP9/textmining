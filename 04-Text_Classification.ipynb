{
 "cells": [
  {
   "cell_type": "markdown",
   "id": "elementary-speaking",
   "metadata": {},
   "source": [
    "# Text mining & Search Project\n",
    "\n",
    "### Università degli Studi di Milano-Bicocca  2020/2021\n",
    "\n",
    "**Luzzi Federico** (matricola) **Peracchi Marco** 800578"
   ]
  },
  {
   "cell_type": "markdown",
   "id": "clean-payroll",
   "metadata": {},
   "source": [
    "# Text Classification\n",
    "\n",
    "In questo notebook è possibile visualizzare la text classification eseguita mediante diversi modelli di machine learning."
   ]
  },
  {
   "cell_type": "code",
   "execution_count": 1,
   "id": "particular-standard",
   "metadata": {},
   "outputs": [],
   "source": [
    "import os\n",
    "import pandas as pd\n",
    "import numpy as np\n",
    "import pickle"
   ]
  },
  {
   "cell_type": "code",
   "execution_count": 2,
   "id": "atlantic-costs",
   "metadata": {},
   "outputs": [],
   "source": [
    "from sklearn.model_selection import train_test_split\n",
    "from sklearn.linear_model import LogisticRegression\n",
    "from sklearn.naive_bayes import MultinomialNB\n",
    "from sklearn.svm import SVC\n",
    "from sklearn.feature_extraction.text import TfidfVectorizer\n",
    "from sklearn.ensemble import AdaBoostClassifier"
   ]
  },
  {
   "cell_type": "code",
   "execution_count": 4,
   "id": "matched-rolling",
   "metadata": {},
   "outputs": [],
   "source": [
    "from matplotlib import pyplot as plt\n",
    "from sklearn.metrics import classification_report, confusion_matrix\n",
    "import seaborn as sns"
   ]
  },
  {
   "cell_type": "code",
   "execution_count": 7,
   "id": "noble-hearing",
   "metadata": {},
   "outputs": [],
   "source": [
    "from tensorflow import keras \n",
    "from tensorflow.keras.layers import Dense, Dropout\n",
    "from tensorflow.keras import Sequential\n",
    "from tensorflow.keras import regularizers "
   ]
  },
  {
   "cell_type": "code",
   "execution_count": 4,
   "id": "strange-differential",
   "metadata": {},
   "outputs": [],
   "source": [
    "df = pd.read_csv(\"data/featured_data.csv\", sep = \",\")"
   ]
  },
  {
   "cell_type": "code",
   "execution_count": 3,
   "id": "resistant-glossary",
   "metadata": {},
   "outputs": [
    {
     "name": "stdout",
     "output_type": "stream",
     "text": [
      "Load & preprocessing --- DONE\n"
     ]
    }
   ],
   "source": [
    "#BISOGNA METTERE A POSTO LA QUESTIONE SCRIPT ALTRIMENTI QUESTA CELLA NON FUNZIONA\n",
    "if 'featured_data.csv' not in os.listdir('data'):\n",
    "    # load dataset\n",
    "    df = pd.read_csv(\"../data/labeled_data.csv\", sep = \",\").drop(\"Unnamed: 0\", axis=1)\n",
    "    # apply process_text\n",
    "    df[\"tweet_clean\"] = df[\"tweet\"].apply(lambda x : processing(x))\n",
    "    df.to_csv('../data/processed_data.csv', index = False)\n",
    "else:\n",
    "    df = pd.read_csv(\"../data/processed_data.csv\", sep = \",\")\n",
    "print(\"Load & preprocessing --- DONE\")"
   ]
  },
  {
   "cell_type": "code",
   "execution_count": 5,
   "id": "interstate-shame",
   "metadata": {},
   "outputs": [],
   "source": [
    "# drop tweet list na !!!\n",
    "df[\"tweet_list\"] = df[\"tweet_clean\"].str.split(\" \").tolist()\n",
    "df.dropna(inplace = True)\n",
    "df = df.reset_index(drop = True)"
   ]
  },
  {
   "cell_type": "code",
   "execution_count": 7,
   "id": "external-reply",
   "metadata": {},
   "outputs": [],
   "source": [
    "vectorizer = TfidfVectorizer(\n",
    "    use_idf=True,\n",
    "    max_features=4000,\n",
    "    min_df=5,\n",
    "    max_df=0.501\n",
    "    # , ngram_range=(1, 3) Il miglire rimane uni-gram, pessimo score del bi-gram\n",
    "    )"
   ]
  },
  {
   "cell_type": "code",
   "execution_count": 8,
   "id": "superb-maine",
   "metadata": {},
   "outputs": [],
   "source": [
    "tfidf = vectorizer.fit_transform(df[\"tweet_clean\"]).toarray()"
   ]
  },
  {
   "cell_type": "code",
   "execution_count": 9,
   "id": "atmospheric-evidence",
   "metadata": {
    "scrolled": true
   },
   "outputs": [
    {
     "data": {
      "text/plain": [
       "(24781, 3598)"
      ]
     },
     "execution_count": 9,
     "metadata": {},
     "output_type": "execute_result"
    }
   ],
   "source": [
    "tfidf.shape"
   ]
  },
  {
   "cell_type": "markdown",
   "id": "chemical-violin",
   "metadata": {},
   "source": [
    "### Support Vector Machine"
   ]
  },
  {
   "cell_type": "code",
   "execution_count": 44,
   "id": "round-sympathy",
   "metadata": {},
   "outputs": [],
   "source": [
    "X_data = tfidf\n",
    "Y_data = df[\"class\"]\n",
    "\n",
    "# verifica dimensioni vettori\n",
    "assert X_data.shape[0] == Y_data.shape[0]"
   ]
  },
  {
   "cell_type": "code",
   "execution_count": 12,
   "id": "discrete-financing",
   "metadata": {},
   "outputs": [],
   "source": [
    "# split train-test\n",
    "X_train, X_test, y_train, y_test = train_test_split(X_data, Y_data,\n",
    "                                                   test_size = 0.2,\n",
    "                                                   random_state = 42,\n",
    "                                                   shuffle = True,\n",
    "                                                   stratify = Y_data)\n",
    "\n",
    "assert X_train.shape[0] == y_train.shape[0]\n",
    "assert X_test.shape[0] == y_test.shape[0]"
   ]
  },
  {
   "cell_type": "code",
   "execution_count": 13,
   "id": "matched-gazette",
   "metadata": {},
   "outputs": [],
   "source": [
    "# class weights\n",
    "# w_J = n_samples / (n_classes * n_samples_J)\n",
    "weights = len(df['class']) / (3 * df['class'].value_counts())\n",
    "# model\n",
    "model = SVC(random_state = 42, \n",
    "            class_weight= {0 : weights[0], 1 : weights[1], 2 : weights[2]})"
   ]
  },
  {
   "cell_type": "code",
   "execution_count": 14,
   "id": "cellular-theater",
   "metadata": {},
   "outputs": [
    {
     "ename": "KeyboardInterrupt",
     "evalue": "",
     "output_type": "error",
     "traceback": [
      "\u001b[1;31m---------------------------------------------------------------------------\u001b[0m",
      "\u001b[1;31mKeyboardInterrupt\u001b[0m                         Traceback (most recent call last)",
      "\u001b[1;32m<timed exec>\u001b[0m in \u001b[0;36m<module>\u001b[1;34m\u001b[0m\n",
      "\u001b[1;32mC:\\ProgramData\\Anaconda3\\envs\\textmining\\lib\\site-packages\\sklearn\\svm\\_base.py\u001b[0m in \u001b[0;36mfit\u001b[1;34m(self, X, y, sample_weight)\u001b[0m\n\u001b[0;32m    224\u001b[0m \u001b[1;33m\u001b[0m\u001b[0m\n\u001b[0;32m    225\u001b[0m         \u001b[0mseed\u001b[0m \u001b[1;33m=\u001b[0m \u001b[0mrnd\u001b[0m\u001b[1;33m.\u001b[0m\u001b[0mrandint\u001b[0m\u001b[1;33m(\u001b[0m\u001b[0mnp\u001b[0m\u001b[1;33m.\u001b[0m\u001b[0miinfo\u001b[0m\u001b[1;33m(\u001b[0m\u001b[1;34m'i'\u001b[0m\u001b[1;33m)\u001b[0m\u001b[1;33m.\u001b[0m\u001b[0mmax\u001b[0m\u001b[1;33m)\u001b[0m\u001b[1;33m\u001b[0m\u001b[1;33m\u001b[0m\u001b[0m\n\u001b[1;32m--> 226\u001b[1;33m         \u001b[0mfit\u001b[0m\u001b[1;33m(\u001b[0m\u001b[0mX\u001b[0m\u001b[1;33m,\u001b[0m \u001b[0my\u001b[0m\u001b[1;33m,\u001b[0m \u001b[0msample_weight\u001b[0m\u001b[1;33m,\u001b[0m \u001b[0msolver_type\u001b[0m\u001b[1;33m,\u001b[0m \u001b[0mkernel\u001b[0m\u001b[1;33m,\u001b[0m \u001b[0mrandom_seed\u001b[0m\u001b[1;33m=\u001b[0m\u001b[0mseed\u001b[0m\u001b[1;33m)\u001b[0m\u001b[1;33m\u001b[0m\u001b[1;33m\u001b[0m\u001b[0m\n\u001b[0m\u001b[0;32m    227\u001b[0m         \u001b[1;31m# see comment on the other call to np.iinfo in this file\u001b[0m\u001b[1;33m\u001b[0m\u001b[1;33m\u001b[0m\u001b[1;33m\u001b[0m\u001b[0m\n\u001b[0;32m    228\u001b[0m \u001b[1;33m\u001b[0m\u001b[0m\n",
      "\u001b[1;32mC:\\ProgramData\\Anaconda3\\envs\\textmining\\lib\\site-packages\\sklearn\\svm\\_base.py\u001b[0m in \u001b[0;36m_dense_fit\u001b[1;34m(self, X, y, sample_weight, solver_type, kernel, random_seed)\u001b[0m\n\u001b[0;32m    283\u001b[0m                 \u001b[0mcache_size\u001b[0m\u001b[1;33m=\u001b[0m\u001b[0mself\u001b[0m\u001b[1;33m.\u001b[0m\u001b[0mcache_size\u001b[0m\u001b[1;33m,\u001b[0m \u001b[0mcoef0\u001b[0m\u001b[1;33m=\u001b[0m\u001b[0mself\u001b[0m\u001b[1;33m.\u001b[0m\u001b[0mcoef0\u001b[0m\u001b[1;33m,\u001b[0m\u001b[1;33m\u001b[0m\u001b[1;33m\u001b[0m\u001b[0m\n\u001b[0;32m    284\u001b[0m                 \u001b[0mgamma\u001b[0m\u001b[1;33m=\u001b[0m\u001b[0mself\u001b[0m\u001b[1;33m.\u001b[0m\u001b[0m_gamma\u001b[0m\u001b[1;33m,\u001b[0m \u001b[0mepsilon\u001b[0m\u001b[1;33m=\u001b[0m\u001b[0mself\u001b[0m\u001b[1;33m.\u001b[0m\u001b[0mepsilon\u001b[0m\u001b[1;33m,\u001b[0m\u001b[1;33m\u001b[0m\u001b[1;33m\u001b[0m\u001b[0m\n\u001b[1;32m--> 285\u001b[1;33m                 max_iter=self.max_iter, random_seed=random_seed)\n\u001b[0m\u001b[0;32m    286\u001b[0m \u001b[1;33m\u001b[0m\u001b[0m\n\u001b[0;32m    287\u001b[0m         \u001b[0mself\u001b[0m\u001b[1;33m.\u001b[0m\u001b[0m_warn_from_fit_status\u001b[0m\u001b[1;33m(\u001b[0m\u001b[1;33m)\u001b[0m\u001b[1;33m\u001b[0m\u001b[1;33m\u001b[0m\u001b[0m\n",
      "\u001b[1;31mKeyboardInterrupt\u001b[0m: "
     ]
    }
   ],
   "source": [
    "%%time\n",
    "# fitting\n",
    "model.fit(X_train, y_train)\n",
    "print(\"Modelling --- DONE\")"
   ]
  },
  {
   "cell_type": "code",
   "execution_count": null,
   "id": "sitting-radar",
   "metadata": {},
   "outputs": [],
   "source": [
    "# save model\n",
    "filename = '.sav'\n",
    "pickle.dump(model, open(f'../models/{filename}', 'wb'))"
   ]
  },
  {
   "cell_type": "code",
   "execution_count": 16,
   "id": "veterinary-remark",
   "metadata": {},
   "outputs": [],
   "source": [
    "# load model\n",
    "filename = 'svm_sentiment.sav'\n",
    "model_2 = pickle.load(open(f'../models/{filename}', 'rb'))"
   ]
  },
  {
   "cell_type": "code",
   "execution_count": null,
   "id": "monetary-minnesota",
   "metadata": {},
   "outputs": [],
   "source": [
    "%%time\n",
    "# performance on TRAIN\n",
    "y_pred = model.predict(X_train)   \n",
    "print('Classification report:')\n",
    "print(classification_report(y_train, y_pred))\n",
    "c_matrix(y_train, y_pred, [\"Hate\", \"Offensive\", \"Neither\"])"
   ]
  },
  {
   "cell_type": "code",
   "execution_count": null,
   "id": "dominican-violation",
   "metadata": {},
   "outputs": [],
   "source": [
    "%%time\n",
    "# performance on TEST\n",
    "y_pred = model.predict(X_test)   \n",
    "print('Classification report:')\n",
    "print(classification_report(y_test, y_pred))\n",
    "c_matrix(y_test, y_pred, [\"Hate\", \"Offensive\", \"Neither\"]) "
   ]
  },
  {
   "cell_type": "markdown",
   "id": "terminal-zimbabwe",
   "metadata": {},
   "source": [
    "### Adaboost"
   ]
  },
  {
   "cell_type": "code",
   "execution_count": null,
   "id": "alien-shark",
   "metadata": {},
   "outputs": [],
   "source": [
    "# prepare data\n",
    "X_data = tfidf\n",
    "Y_data = df[\"class\"]\n",
    "\n",
    "# verifica dimensioni vettori\n",
    "assert X_data.shape[0] == Y_data.shape[0]"
   ]
  },
  {
   "cell_type": "code",
   "execution_count": null,
   "id": "labeled-syntax",
   "metadata": {},
   "outputs": [],
   "source": [
    "X_train, X_test, y_train, y_test = train_test_split(X_data, Y_data,\n",
    "                                                   test_size = 0.2,\n",
    "                                                   random_state = 42,\n",
    "                                                   shuffle = True,\n",
    "                                                   stratify = Y_data)\n",
    "\n",
    "assert X_train.shape[0] == y_train.shape[0]\n",
    "assert X_test.shape[0] == y_test.shape[0]"
   ]
  },
  {
   "cell_type": "code",
   "execution_count": null,
   "id": "permanent-association",
   "metadata": {},
   "outputs": [],
   "source": [
    "adaboost = AdaBoostClassifier(n_estimators=50, random_state=0)"
   ]
  },
  {
   "cell_type": "code",
   "execution_count": null,
   "id": "stylish-prefix",
   "metadata": {},
   "outputs": [],
   "source": [
    "adaboost.fit(X_train, y_train)"
   ]
  },
  {
   "cell_type": "code",
   "execution_count": null,
   "id": "reduced-dictionary",
   "metadata": {},
   "outputs": [],
   "source": [
    "%%time\n",
    "# performance on TRAIN\n",
    "y_pred = adaboost.predict(X_train)   \n",
    "print('Classification report:')\n",
    "print(classification_report(y_train, y_pred))\n",
    "c_matrix(y_train, y_pred, [\"Hate\", \"Offensive\", \"Neither\"]) "
   ]
  },
  {
   "cell_type": "code",
   "execution_count": null,
   "id": "defined-police",
   "metadata": {},
   "outputs": [],
   "source": [
    "%%time\n",
    "# performance on TEST\n",
    "y_pred = adaboost.predict(X_test)   \n",
    "print('Classification report:')\n",
    "print(classification_report(y_test, y_pred))\n",
    "c_matrix(y_test, y_pred, [\"Hate\", \"Offensive\", \"Neither\"]) "
   ]
  },
  {
   "cell_type": "markdown",
   "id": "awful-structure",
   "metadata": {},
   "source": [
    "### Logistic Regression"
   ]
  },
  {
   "cell_type": "markdown",
   "id": "external-appreciation",
   "metadata": {},
   "source": [
    "## MANCA LA LOGISTIC"
   ]
  },
  {
   "cell_type": "markdown",
   "id": "raised-alignment",
   "metadata": {},
   "source": [
    "### Random Forest"
   ]
  },
  {
   "cell_type": "markdown",
   "id": "institutional-magazine",
   "metadata": {},
   "source": [
    "## MANCA LA RANDOM FOREST"
   ]
  },
  {
   "cell_type": "markdown",
   "id": "favorite-draft",
   "metadata": {},
   "source": [
    "### Neural Network"
   ]
  },
  {
   "cell_type": "code",
   "execution_count": 45,
   "id": "imposed-grove",
   "metadata": {},
   "outputs": [],
   "source": [
    "# split train-test\n",
    "Y_data_bin = keras.utils.to_categorical(Y_data)\n",
    "X_train, X_test, y_train, y_test = train_test_split(X_data, Y_data_bin,\n",
    "                                                   test_size = 0.2,\n",
    "                                                   random_state = 42,\n",
    "                                                   shuffle = True,\n",
    "                                                   stratify = Y_data)\n",
    "\n",
    "assert X_train.shape[0] == y_train.shape[0]\n",
    "assert X_test.shape[0] == y_test.shape[0]"
   ]
  },
  {
   "cell_type": "code",
   "execution_count": 46,
   "id": "dangerous-truck",
   "metadata": {},
   "outputs": [],
   "source": [
    "weights = len(df['class']) / (3 * df['class'].value_counts())"
   ]
  },
  {
   "cell_type": "code",
   "execution_count": 47,
   "id": "formal-needle",
   "metadata": {},
   "outputs": [],
   "source": [
    "def neural_network(dims, seed):\n",
    "    model = Sequential()\n",
    "    model.add(Dense(64, input_shape = (dims,), \n",
    "                    activation = 'relu',\n",
    "                    kernel_regularizer = regularizers.l2(1e-4)))\n",
    "    model.add(Dropout(0.5))\n",
    "    model.add(Dense(3, activation = 'softmax',\n",
    "                    kernel_regularizer = regularizers.l2(1e-4)))\n",
    "\n",
    "    model.compile(loss = 'categorical_crossentropy',\n",
    "                 optimizer = keras.optimizers.Adam(lr=0.0001),\n",
    "                 metrics=['acc'])\n",
    "    return model\n",
    "\n",
    "def neural_network_2(dims, seed):\n",
    "    model = Sequential()\n",
    "    model.add(Dense(128, input_shape = (dims,), \n",
    "                    activation = 'relu', \n",
    "                    kernel_regularizer = regularizers.l2(1e-4)))\n",
    "    model.add(Dropout(0.5))\n",
    "    model.add(Dense(64, input_shape = (dims,), \n",
    "                    activation = 'relu',\n",
    "                    kernel_regularizer = regularizers.l2(1e-4)))\n",
    "    model.add(Dropout(0.5))\n",
    "    model.add(Dense(3, activation = 'softmax', \n",
    "                    kernel_regularizer = regularizers.l2(1e-4)))\n",
    "\n",
    "    model.compile(loss = 'categorical_crossentropy',\n",
    "                 optimizer = keras.optimizers.Adam(lr=0.0001),\n",
    "                 metrics=['acc'])\n",
    "    return model\n",
    "\n",
    "def neural_network_3(dims, seed):\n",
    "    model = Sequential()\n",
    "    model.add(Dense(1024, input_shape = (dims,), \n",
    "                    activation = 'relu', \n",
    "                    kernel_regularizer = regularizers.l2(1e-4)))\n",
    "    model.add(Dropout(0.5))\n",
    "    model.add(Dense(256, input_shape = (dims,), \n",
    "                    activation = 'relu', \n",
    "                    kernel_regularizer = regularizers.l2(1e-4)))\n",
    "    model.add(Dropout(0.5))\n",
    "    model.add(Dense(128, input_shape = (dims,), \n",
    "                    activation = 'relu', \n",
    "                    kernel_regularizer = regularizers.l2(1e-4)))\n",
    "    model.add(Dropout(0.5))\n",
    "    model.add(Dense(64, input_shape = (dims,), \n",
    "                    activation = 'relu',\n",
    "                    kernel_regularizer = regularizers.l2(1e-4)))\n",
    "    model.add(Dropout(0.5))\n",
    "    model.add(Dense(3, activation = 'softmax', \n",
    "                    kernel_regularizer = regularizers.l2(1e-4)))\n",
    "\n",
    "    model.compile(loss = 'categorical_crossentropy',\n",
    "                 optimizer = keras.optimizers.Adam(lr=0.0001),\n",
    "                 metrics=['acc'])\n",
    "    return model"
   ]
  },
  {
   "cell_type": "code",
   "execution_count": 48,
   "id": "special-metro",
   "metadata": {},
   "outputs": [],
   "source": [
    "def checkpoint(checkpoint_filepath):\n",
    "    model_checkpoint = keras.callbacks.ModelCheckpoint(\n",
    "                    filepath=checkpoint_filepath,\n",
    "                    save_weights_only=True,\n",
    "                    monitor='val_loss',\n",
    "                    mode='auto',\n",
    "                    save_best_only=True)\n",
    "    return model_checkpoint"
   ]
  },
  {
   "cell_type": "code",
   "execution_count": 49,
   "id": "developing-launch",
   "metadata": {},
   "outputs": [
    {
     "name": "stdout",
     "output_type": "stream",
     "text": [
      "Model: \"sequential_2\"\n",
      "_________________________________________________________________\n",
      "Layer (type)                 Output Shape              Param #   \n",
      "=================================================================\n",
      "dense_4 (Dense)              (None, 64)                230336    \n",
      "_________________________________________________________________\n",
      "dropout_2 (Dropout)          (None, 64)                0         \n",
      "_________________________________________________________________\n",
      "dense_5 (Dense)              (None, 3)                 195       \n",
      "=================================================================\n",
      "Total params: 230,531\n",
      "Trainable params: 230,531\n",
      "Non-trainable params: 0\n",
      "_________________________________________________________________\n"
     ]
    }
   ],
   "source": [
    "dims = X_data.shape[1]\n",
    "seed = 42\n",
    "batch_s = 32\n",
    "epochs_n = 20\n",
    "\n",
    "model = neural_network(dims, seed)\n",
    "model.summary()"
   ]
  },
  {
   "cell_type": "code",
   "execution_count": 51,
   "id": "annual-constitution",
   "metadata": {},
   "outputs": [
    {
     "name": "stdout",
     "output_type": "stream",
     "text": [
      "Epoch 1/20\n",
      "496/496 [==============================] - 2s 3ms/step - loss: 0.3886 - acc: 0.8725 - val_loss: 0.4788 - val_acc: 0.8499\n",
      "Epoch 2/20\n",
      "496/496 [==============================] - 1s 3ms/step - loss: 0.3846 - acc: 0.8767 - val_loss: 0.4753 - val_acc: 0.8509\n",
      "Epoch 3/20\n",
      "496/496 [==============================] - 1s 3ms/step - loss: 0.3759 - acc: 0.8731 - val_loss: 0.4681 - val_acc: 0.8517\n",
      "Epoch 4/20\n",
      "496/496 [==============================] - 1s 3ms/step - loss: 0.3685 - acc: 0.8787 - val_loss: 0.4672 - val_acc: 0.8509\n",
      "Epoch 5/20\n",
      "496/496 [==============================] - 1s 3ms/step - loss: 0.3608 - acc: 0.8790 - val_loss: 0.4667 - val_acc: 0.8499\n",
      "Epoch 6/20\n",
      "496/496 [==============================] - 1s 3ms/step - loss: 0.3547 - acc: 0.8789 - val_loss: 0.4602 - val_acc: 0.8525\n",
      "Epoch 7/20\n",
      "496/496 [==============================] - 1s 3ms/step - loss: 0.3539 - acc: 0.8799 - val_loss: 0.4624 - val_acc: 0.8504\n",
      "Epoch 8/20\n",
      "496/496 [==============================] - 1s 3ms/step - loss: 0.3465 - acc: 0.8844 - val_loss: 0.4605 - val_acc: 0.8509\n",
      "Epoch 9/20\n",
      "496/496 [==============================] - 1s 3ms/step - loss: 0.3384 - acc: 0.8860 - val_loss: 0.4581 - val_acc: 0.8517\n",
      "Epoch 10/20\n",
      "496/496 [==============================] - 2s 3ms/step - loss: 0.3341 - acc: 0.8856 - val_loss: 0.4594 - val_acc: 0.8512\n",
      "Epoch 11/20\n",
      "496/496 [==============================] - 1s 3ms/step - loss: 0.3332 - acc: 0.8861 - val_loss: 0.4526 - val_acc: 0.8557\n",
      "Epoch 12/20\n",
      "496/496 [==============================] - 1s 3ms/step - loss: 0.3295 - acc: 0.8885 - val_loss: 0.4580 - val_acc: 0.8532\n",
      "Epoch 13/20\n",
      "496/496 [==============================] - 1s 3ms/step - loss: 0.3248 - acc: 0.8890 - val_loss: 0.4574 - val_acc: 0.8525\n",
      "Epoch 14/20\n",
      "496/496 [==============================] - 1s 3ms/step - loss: 0.3191 - acc: 0.8881 - val_loss: 0.4536 - val_acc: 0.8540\n",
      "Epoch 15/20\n",
      "496/496 [==============================] - 1s 3ms/step - loss: 0.3185 - acc: 0.8907 - val_loss: 0.4631 - val_acc: 0.8482\n",
      "Epoch 16/20\n",
      "496/496 [==============================] - 1s 3ms/step - loss: 0.3144 - acc: 0.8914 - val_loss: 0.4570 - val_acc: 0.8512\n",
      "Epoch 17/20\n",
      "496/496 [==============================] - 1s 3ms/step - loss: 0.3105 - acc: 0.8926 - val_loss: 0.4558 - val_acc: 0.8515\n",
      "Epoch 18/20\n",
      "496/496 [==============================] - 1s 3ms/step - loss: 0.3078 - acc: 0.8936 - val_loss: 0.4532 - val_acc: 0.8517\n",
      "Epoch 19/20\n",
      "496/496 [==============================] - 1s 3ms/step - loss: 0.3054 - acc: 0.8956 - val_loss: 0.4543 - val_acc: 0.8515\n",
      "Epoch 20/20\n",
      "496/496 [==============================] - 2s 3ms/step - loss: 0.3016 - acc: 0.8966 - val_loss: 0.4514 - val_acc: 0.8525\n",
      "Wall time: 30 s\n"
     ]
    }
   ],
   "source": [
    "%%time\n",
    "history = model.fit(X_train, y_train, \n",
    "                    batch_size=batch_s, \n",
    "                    epochs=epochs_n, \n",
    "                    verbose=1,\n",
    "                    validation_split = 0.2,\n",
    "                    class_weight = {0 : weights[0], 1 : weights[1], 2 : weights[2]},\n",
    "                    callbacks = [checkpoint(\"../models/best_nn.h5\")])"
   ]
  },
  {
   "cell_type": "code",
   "execution_count": 21,
   "id": "expensive-probability",
   "metadata": {},
   "outputs": [],
   "source": [
    "def loss_plotter(history):\n",
    "    fig = plt.figure(figsize=(6,8))\n",
    "    plt.subplot(2, 1, 1)\n",
    "    plt.plot(history.history[\"loss\"], label = \"Train loss\",\n",
    "             color = \"forestgreen\")\n",
    "    plt.plot(history.history[\"val_loss\"], label= \"Validation loss\",\n",
    "             color = \"orange\")\n",
    "    plt.legend(loc='upper right', fontsize = 10)\n",
    "    plt.xticks(fontsize = 10)\n",
    "    plt.yticks(fontsize = 10)\n",
    "    plt.xlabel('Epochs', size = 15)\n",
    "    plt.ylabel('Value', size = 15)\n",
    "    plt.title(\"Loss function\", size =20)\n",
    "    plt.show()\n",
    "    fig = plt.figure(figsize=(6,8))\n",
    "    plt.subplot(2, 1, 2)\n",
    "    plt.plot(history.history[\"acc\"], label = \"Train accuracy\",\n",
    "             color = \"forestgreen\")\n",
    "    plt.plot(history.history[\"val_acc\"], label= \"Validation accuracy\",\n",
    "             color = \"orange\")\n",
    "    plt.legend(fontsize = 12)\n",
    "    plt.xticks(fontsize = 10)\n",
    "    plt.yticks(fontsize = 10)\n",
    "    plt.xlabel('Epochs', size = 15)\n",
    "    plt.ylabel('Value', size = 15)\n",
    "    plt.title(\"Accuracy function\", size =20)\n",
    "    plt.show()"
   ]
  },
  {
   "cell_type": "code",
   "execution_count": 52,
   "id": "purple-missile",
   "metadata": {},
   "outputs": [],
   "source": [
    "# load model\n",
    "filename = 'best_nn.h5'\n",
    "model.load_weights(f'../models/{filename}')"
   ]
  },
  {
   "cell_type": "code",
   "execution_count": 53,
   "id": "tight-glasgow",
   "metadata": {},
   "outputs": [
    {
     "data": {
      "image/png": "[encoded data removed]",
      "text/plain": [
       "<Figure size 432x576 with 1 Axes>"
      ]
     },
     "metadata": {
      "needs_background": "light"
     },
     "output_type": "display_data"
    },
    {
     "data": {
      "image/png": "[encoded data removed]",
      "text/plain": [
       "<Figure size 432x576 with 1 Axes>"
      ]
     },
     "metadata": {
      "needs_background": "light"
     },
     "output_type": "display_data"
    }
   ],
   "source": [
    "loss_plotter(history)"
   ]
  },
  {
   "cell_type": "code",
   "execution_count": 54,
   "id": "centered-consent",
   "metadata": {},
   "outputs": [
    {
     "name": "stdout",
     "output_type": "stream",
     "text": [
      "Classification report:\n",
      "              precision    recall  f1-score   support\n",
      "\n",
      "           0       0.43      0.90      0.58      1144\n",
      "           1       0.99      0.88      0.93     15351\n",
      "           2       0.85      0.97      0.91      3329\n",
      "\n",
      "    accuracy                           0.90     19824\n",
      "   macro avg       0.76      0.91      0.81     19824\n",
      "weighted avg       0.93      0.90      0.91     19824\n",
      "\n"
     ]
    },
    {
     "data": {
      "image/png": "[encoded data removed]",
      "text/plain": [
       "<Figure size 576x432 with 2 Axes>"
      ]
     },
     "metadata": {
      "needs_background": "light"
     },
     "output_type": "display_data"
    },
    {
     "name": "stdout",
     "output_type": "stream",
     "text": [
      "Wall time: 1.01 s\n"
     ]
    }
   ],
   "source": [
    "%%time\n",
    "# performance on TRAIN\n",
    "y_pred = np.argmax(model.predict(X_train), axis = 1)\n",
    "y_train_n = np.argmax(y_train, axis = 1)\n",
    "print('Classification report:')\n",
    "print(classification_report(y_train_n, y_pred))\n",
    "c_matrix(y_train_n, y_pred, [\"Hate\", \"Offensive\", \"Neither\"])"
   ]
  },
  {
   "cell_type": "code",
   "execution_count": 56,
   "id": "natural-luxembourg",
   "metadata": {},
   "outputs": [
    {
     "name": "stdout",
     "output_type": "stream",
     "text": [
      "Classification report:\n",
      "              precision    recall  f1-score   support\n",
      "\n",
      "           0       0.29      0.60      0.39       286\n",
      "           1       0.96      0.85      0.91      3838\n",
      "           2       0.79      0.92      0.85       833\n",
      "\n",
      "    accuracy                           0.85      4957\n",
      "   macro avg       0.68      0.79      0.72      4957\n",
      "weighted avg       0.90      0.85      0.87      4957\n",
      "\n"
     ]
    },
    {
     "data": {
      "image/png": "[encoded data removed]",
      "text/plain": [
       "<Figure size 576x432 with 2 Axes>"
      ]
     },
     "metadata": {
      "needs_background": "light"
     },
     "output_type": "display_data"
    },
    {
     "name": "stdout",
     "output_type": "stream",
     "text": [
      "Wall time: 555 ms\n"
     ]
    }
   ],
   "source": [
    "%%time\n",
    "# performance on TEST\n",
    "y_pred = np.argmax(model.predict(X_test), axis = 1)\n",
    "y_test_n = np.argmax(y_test, axis = 1)\n",
    "print('Classification report:')\n",
    "print(classification_report(y_test_n, y_pred))\n",
    "c_matrix(y_test_n, y_pred, [\"Hate\", \"Offensive\", \"Neither\"])"
   ]
  }
 ],
 "metadata": {
  "kernelspec": {
   "display_name": "Python 3",
   "language": "python",
   "name": "python3"
  },
  "language_info": {
   "codemirror_mode": {
    "name": "ipython",
    "version": 3
   },
   "file_extension": ".py",
   "mimetype": "text/x-python",
   "name": "python",
   "nbconvert_exporter": "python",
   "pygments_lexer": "ipython3",
   "version": "3.7.9"
  }
 },
 "nbformat": 4,
 "nbformat_minor": 5
}
