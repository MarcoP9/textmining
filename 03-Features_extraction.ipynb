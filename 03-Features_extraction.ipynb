{
 "cells": [
  {
   "cell_type": "markdown",
   "id": "strategic-humanitarian",
   "metadata": {},
   "source": [
    "# Text mining & Search Project\n",
    "\n",
    "### Università degli Studi di Milano-Bicocca  2020/2021\n",
    "\n",
    "**Luzzi Federico** 816753 **Peracchi Marco** 800578"
   ]
  },
  {
   "cell_type": "markdown",
   "id": "interstate-defendant",
   "metadata": {},
   "source": [
    "# Feature extraction\n",
    "\n",
    "In this notebook feature extraction is implemented in order to generate useful information to the classifers."
   ]
  },
  {
   "cell_type": "code",
   "execution_count": 1,
   "id": "foster-kenya",
   "metadata": {},
   "outputs": [],
   "source": [
    "import nltk\n",
    "import re\n",
    "import os\n",
    "from gensim.models.doc2vec import Doc2Vec, TaggedDocument # doc2vec\n",
    "import pandas as pd\n",
    "import numpy as np\n",
    "import pickle"
   ]
  },
  {
   "cell_type": "code",
   "execution_count": 2,
   "id": "incident-title",
   "metadata": {},
   "outputs": [],
   "source": [
    "from sklearn.model_selection import train_test_split\n",
    "from sklearn.linear_model import LogisticRegression\n",
    "from sklearn.naive_bayes import MultinomialNB\n",
    "from sklearn.svm import SVC\n",
    "from sklearn.feature_extraction.text import TfidfVectorizer\n",
    "from sklearn.ensemble import AdaBoostClassifier"
   ]
  },
  {
   "cell_type": "code",
   "execution_count": 3,
   "id": "expected-concern",
   "metadata": {},
   "outputs": [],
   "source": [
    "from matplotlib import pyplot as plt\n",
    "from sklearn.metrics import classification_report, confusion_matrix\n",
    "from nltk.sentiment.vader import SentimentIntensityAnalyzer as VS\n",
    "import seaborn as sns\n",
    "from code.utils import c_matrix\n",
    "from code.process_text import processing # preprocessing functions\n",
    "from code.features import *"
   ]
  },
  {
   "cell_type": "code",
   "execution_count": 4,
   "id": "crude-probability",
   "metadata": {},
   "outputs": [
    {
     "name": "stderr",
     "output_type": "stream",
     "text": [
      "[nltk_data] Downloading package stopwords to\n",
      "[nltk_data]     C:\\Users\\fede9\\AppData\\Roaming\\nltk_data...\n",
      "[nltk_data]   Package stopwords is already up-to-date!\n",
      "[nltk_data] Downloading package averaged_perceptron_tagger to\n",
      "[nltk_data]     C:\\Users\\fede9\\AppData\\Roaming\\nltk_data...\n",
      "[nltk_data]   Package averaged_perceptron_tagger is already up-to-\n",
      "[nltk_data]       date!\n",
      "[nltk_data] Downloading package wordnet to\n",
      "[nltk_data]     C:\\Users\\fede9\\AppData\\Roaming\\nltk_data...\n",
      "[nltk_data]   Package wordnet is already up-to-date!\n",
      "[nltk_data] Downloading package vader_lexicon to\n",
      "[nltk_data]     C:\\Users\\fede9\\AppData\\Roaming\\nltk_data...\n",
      "[nltk_data]   Package vader_lexicon is already up-to-date!\n"
     ]
    },
    {
     "data": {
      "text/plain": [
       "True"
      ]
     },
     "execution_count": 4,
     "metadata": {},
     "output_type": "execute_result"
    }
   ],
   "source": [
    "nltk.download(\"stopwords\")\n",
    "nltk.download('averaged_perceptron_tagger')\n",
    "nltk.download('wordnet')\n",
    "nltk.download('vader_lexicon')"
   ]
  },
  {
   "cell_type": "code",
   "execution_count": 5,
   "id": "double-digit",
   "metadata": {},
   "outputs": [
    {
     "name": "stdout",
     "output_type": "stream",
     "text": [
      "Load & preprocessing --- DONE\n"
     ]
    }
   ],
   "source": [
    "if 'processed_data.csv' not in os.listdir('data'):\n",
    "    print(\"!!! ERROR !!!\\n --- Before this, execute 02-Text_Processing_Representation Notebook ---\")\n",
    "else:\n",
    "    df = pd.read_csv(\"data/processed_data.csv\", sep = \",\")\n",
    "    print(\"Load & preprocessing --- DONE\")"
   ]
  },
  {
   "cell_type": "code",
   "execution_count": 6,
   "id": "anonymous-tours",
   "metadata": {},
   "outputs": [],
   "source": [
    "# drop tweet list na \n",
    "df[\"tweet_list\"] = df[\"tweet_clean\"].str.split(\" \").tolist()\n",
    "df.dropna(inplace = True)\n",
    "df = df.reset_index(drop = True)# drop 2 NA because tweet is empty"
   ]
  },
  {
   "cell_type": "markdown",
   "id": "adjusted-reality",
   "metadata": {},
   "source": [
    "### Sentiment Analysis"
   ]
  },
  {
   "cell_type": "code",
   "execution_count": 7,
   "id": "disabled-davis",
   "metadata": {},
   "outputs": [],
   "source": [
    "sentiments = []\n",
    "sentiment_analyzer = VS()\n",
    "for tweet in df['tweet_clean']:\n",
    "    sentiment = sentiment_analyzer.polarity_scores(tweet)\n",
    "    sentiments.append(sentiment)"
   ]
  },
  {
   "cell_type": "code",
   "execution_count": 8,
   "id": "viral-cheese",
   "metadata": {},
   "outputs": [],
   "source": [
    "neg = []\n",
    "neu = []\n",
    "pos = []\n",
    "compound = []\n",
    "for sentiment in sentiments:\n",
    "    neg.append(sentiment['neg'])\n",
    "    neu.append(sentiment['neu'])\n",
    "    pos.append(sentiment['pos'])\n",
    "    compound.append(sentiment['compound']) \n",
    "\n",
    "# save in dataframe  \n",
    "df['neg'] = neg\n",
    "df['neu'] = neu\n",
    "df['pos'] = pos\n",
    "df['compound'] = compound"
   ]
  },
  {
   "cell_type": "code",
   "execution_count": 10,
   "id": "robust-green",
   "metadata": {},
   "outputs": [
    {
     "data": {
      "image/png": "[encoded data removed]",
      "text/plain": [
       "<Figure size 936x360 with 3 Axes>"
      ]
     },
     "metadata": {
      "needs_background": "light"
     },
     "output_type": "display_data"
    }
   ],
   "source": [
    "selected_columns = [\"neg\", \"neu\", \"pos\", \"compound\"]\n",
    "label = ['Hate', 'Offensive', \"Neither\"]\n",
    "fig, axs = plt.subplots(ncols = 3, figsize=(13,5))\n",
    "for i in range(3):\n",
    "    sns.boxplot(x=\"variable\", y=\"value\", data=pd.melt(df[df['class'] == i][selected_columns]), ax = axs[i])\n",
    "    axs[i].set_title(f\"Class {label[i]}\", size = 20)\n",
    "    axs[i].set_xlabel(\"Sentiment\", size = 12)\n",
    "    axs[i].set_ylabel(\"\")\n",
    "plt.subplots_adjust(right = 1, wspace = 0.3)"
   ]
  },
  {
   "cell_type": "markdown",
   "id": "reliable-exemption",
   "metadata": {},
   "source": [
    "### Retweet"
   ]
  },
  {
   "cell_type": "code",
   "execution_count": 10,
   "id": "binding-refund",
   "metadata": {},
   "outputs": [],
   "source": [
    "def retweet(text):\n",
    "    text = preprocessing(text)\n",
    "    text_tokenized = tokenization(text)\n",
    "    flag = 0\n",
    "    for token in text_tokenized:\n",
    "        if token == \"rt\":\n",
    "            flag = 1\n",
    "    return flag"
   ]
  },
  {
   "cell_type": "code",
   "execution_count": 11,
   "id": "described-stretch",
   "metadata": {},
   "outputs": [],
   "source": [
    "df[\"rt\"] = df[\"tweet\"].apply(lambda x : retweet(x))"
   ]
  },
  {
   "cell_type": "code",
   "execution_count": 12,
   "id": "analyzed-commission",
   "metadata": {},
   "outputs": [
    {
     "data": {
      "text/plain": [
       "0    17624\n",
       "1     7157\n",
       "Name: rt, dtype: int64"
      ]
     },
     "execution_count": 12,
     "metadata": {},
     "output_type": "execute_result"
    }
   ],
   "source": [
    "df[\"rt\"].value_counts()"
   ]
  },
  {
   "cell_type": "markdown",
   "id": "explicit-candle",
   "metadata": {},
   "source": [
    "### Tweet's length"
   ]
  },
  {
   "cell_type": "code",
   "execution_count": 13,
   "id": "convinced-fighter",
   "metadata": {},
   "outputs": [],
   "source": [
    "def tweet_length(text_clean):\n",
    "    return len(text_clean)"
   ]
  },
  {
   "cell_type": "code",
   "execution_count": 14,
   "id": "mechanical-namibia",
   "metadata": {},
   "outputs": [],
   "source": [
    "df[\"len\"] = df[\"tweet_clean\"].apply(lambda x : tweet_length(x))"
   ]
  },
  {
   "cell_type": "code",
   "execution_count": 15,
   "id": "honey-ontario",
   "metadata": {},
   "outputs": [
    {
     "data": {
      "text/plain": [
       "<seaborn.axisgrid.FacetGrid at 0x231be3b9588>"
      ]
     },
     "execution_count": 15,
     "metadata": {},
     "output_type": "execute_result"
    },
    {
     "data": {
      "image/png": "[encoded data removed]",
      "text/plain": [
       "<Figure size 360x360 with 1 Axes>"
      ]
     },
     "metadata": {
      "needs_background": "light"
     },
     "output_type": "display_data"
    }
   ],
   "source": [
    "sns.displot(df, x=\"len\")"
   ]
  },
  {
   "cell_type": "markdown",
   "id": "wrapped-morris",
   "metadata": {},
   "source": [
    "### Tag's people"
   ]
  },
  {
   "cell_type": "code",
   "execution_count": 16,
   "id": "instrumental-rings",
   "metadata": {},
   "outputs": [],
   "source": [
    "def reply_tweet(text):\n",
    "    if re.search(\"@\\w+\", text):\n",
    "        return 1\n",
    "    else:\n",
    "        return 0"
   ]
  },
  {
   "cell_type": "code",
   "execution_count": 17,
   "id": "selective-turner",
   "metadata": {},
   "outputs": [],
   "source": [
    "df[\"num_rep\"] = df[\"tweet\"].apply(lambda x : reply_tweet(x))"
   ]
  },
  {
   "cell_type": "code",
   "execution_count": 18,
   "id": "canadian-charger",
   "metadata": {},
   "outputs": [
    {
     "data": {
      "text/plain": [
       "1    14187\n",
       "0    10594\n",
       "Name: num_rep, dtype: int64"
      ]
     },
     "execution_count": 18,
     "metadata": {},
     "output_type": "execute_result"
    }
   ],
   "source": [
    "df[\"num_rep\"].value_counts()"
   ]
  },
  {
   "cell_type": "markdown",
   "id": "welsh-geology",
   "metadata": {},
   "source": [
    "### Number of exclamation points"
   ]
  },
  {
   "cell_type": "code",
   "execution_count": 14,
   "id": "dressed-cameroon",
   "metadata": {},
   "outputs": [],
   "source": [
    "def exclamation(text):\n",
    "    return len(re.findall(\"!\", text))"
   ]
  },
  {
   "cell_type": "code",
   "execution_count": 15,
   "id": "acute-adapter",
   "metadata": {},
   "outputs": [],
   "source": [
    "df[\"num_exc\"] = df[\"tweet\"].apply(lambda x : exclamation(x))"
   ]
  },
  {
   "cell_type": "code",
   "execution_count": 16,
   "id": "official-russell",
   "metadata": {},
   "outputs": [
    {
     "data": {
      "text/plain": [
       "0     22373\n",
       "1      1514\n",
       "2       430\n",
       "3       257\n",
       "4        90\n",
       "5        43\n",
       "6        27\n",
       "7        16\n",
       "9         7\n",
       "8         6\n",
       "11        5\n",
       "10        3\n",
       "12        3\n",
       "13        2\n",
       "35        1\n",
       "19        1\n",
       "24        1\n",
       "25        1\n",
       "14        1\n",
       "Name: num_exc, dtype: int64"
      ]
     },
     "execution_count": 16,
     "metadata": {},
     "output_type": "execute_result"
    }
   ],
   "source": [
    "df[\"num_exc\"].value_counts()"
   ]
  },
  {
   "cell_type": "code",
   "execution_count": 56,
   "id": "signal-precipitation",
   "metadata": {},
   "outputs": [
    {
     "data": {
      "image/png": "[encoded data removed]",
      "text/plain": [
       "<Figure size 360x360 with 1 Axes>"
      ]
     },
     "metadata": {
      "needs_background": "light"
     },
     "output_type": "display_data"
    }
   ],
   "source": [
    "ax = sns.displot(df, x=\"num_exc\", \n",
    "                 bins = [0,1,2,3,4,5])"
   ]
  },
  {
   "cell_type": "code",
   "execution_count": 50,
   "id": "known-thomson",
   "metadata": {},
   "outputs": [
    {
     "name": "stdout",
     "output_type": "stream",
     "text": [
      "['__call__', '__class__', '__delattr__', '__dir__', '__doc__', '__eq__', '__format__', '__func__', '__ge__', '__get__', '__getattribute__', '__gt__', '__hash__', '__init__', '__init_subclass__', '__le__', '__lt__', '__ne__', '__new__', '__reduce__', '__reduce_ex__', '__repr__', '__self__', '__setattr__', '__signature__', '__sizeof__', '__str__', '__subclasshook__']\n"
     ]
    }
   ],
   "source": [
    "print(dir(ax.ax.set_xticks))"
   ]
  },
  {
   "cell_type": "markdown",
   "id": "known-coaching",
   "metadata": {},
   "source": [
    "### Number of emoji"
   ]
  },
  {
   "cell_type": "code",
   "execution_count": 23,
   "id": "worth-harvard",
   "metadata": {},
   "outputs": [],
   "source": [
    "def emoji(text):\n",
    "    return len(re.findall(\"&#1\\d+\", text))"
   ]
  },
  {
   "cell_type": "code",
   "execution_count": 24,
   "id": "available-turning",
   "metadata": {},
   "outputs": [],
   "source": [
    "df[\"emoji\"] = df[\"tweet\"].apply(lambda x : emoji(x))"
   ]
  },
  {
   "cell_type": "code",
   "execution_count": 28,
   "id": "alert-dealer",
   "metadata": {},
   "outputs": [
    {
     "data": {
      "text/plain": [
       "<seaborn.axisgrid.FacetGrid at 0x23ab2962248>"
      ]
     },
     "execution_count": 28,
     "metadata": {},
     "output_type": "execute_result"
    },
    {
     "data": {
      "image/png": "[encoded data removed]",
      "text/plain": [
       "<Figure size 360x360 with 1 Axes>"
      ]
     },
     "metadata": {
      "needs_background": "light"
     },
     "output_type": "display_data"
    }
   ],
   "source": [
    "sns.displot(df, x=\"emoji\",\n",
    "           bins = [0,1,2,3,4,5])"
   ]
  },
  {
   "cell_type": "code",
   "execution_count": 26,
   "id": "psychological-registrar",
   "metadata": {},
   "outputs": [
    {
     "data": {
      "text/plain": [
       "0     21079\n",
       "1      1587\n",
       "2       840\n",
       "3       548\n",
       "4       278\n",
       "5       146\n",
       "6       105\n",
       "7        58\n",
       "8        41\n",
       "9        21\n",
       "11       17\n",
       "10       14\n",
       "12        8\n",
       "14        8\n",
       "22        5\n",
       "13        3\n",
       "15        3\n",
       "25        2\n",
       "47        2\n",
       "20        2\n",
       "19        2\n",
       "18        2\n",
       "65        2\n",
       "40        1\n",
       "24        1\n",
       "23        1\n",
       "26        1\n",
       "59        1\n",
       "76        1\n",
       "17        1\n",
       "39        1\n",
       "Name: emoji, dtype: int64"
      ]
     },
     "execution_count": 26,
     "metadata": {},
     "output_type": "execute_result"
    }
   ],
   "source": [
    "df[\"emoji\"].value_counts()"
   ]
  },
  {
   "cell_type": "markdown",
   "id": "immune-practitioner",
   "metadata": {},
   "source": [
    "## Output"
   ]
  },
  {
   "cell_type": "code",
   "execution_count": 25,
   "id": "military-marks",
   "metadata": {
    "scrolled": false
   },
   "outputs": [
    {
     "data": {
      "text/html": [
       "<div>\n",
       "<style scoped>\n",
       "    .dataframe tbody tr th:only-of-type {\n",
       "        vertical-align: middle;\n",
       "    }\n",
       "\n",
       "    .dataframe tbody tr th {\n",
       "        vertical-align: top;\n",
       "    }\n",
       "\n",
       "    .dataframe thead th {\n",
       "        text-align: right;\n",
       "    }\n",
       "</style>\n",
       "<table border=\"1\" class=\"dataframe\">\n",
       "  <thead>\n",
       "    <tr style=\"text-align: right;\">\n",
       "      <th></th>\n",
       "      <th>count</th>\n",
       "      <th>hate_speech</th>\n",
       "      <th>offensive_language</th>\n",
       "      <th>neither</th>\n",
       "      <th>class</th>\n",
       "      <th>tweet</th>\n",
       "      <th>tweet_clean</th>\n",
       "      <th>tweet_list</th>\n",
       "      <th>neg</th>\n",
       "      <th>neu</th>\n",
       "      <th>pos</th>\n",
       "      <th>compound</th>\n",
       "      <th>rt</th>\n",
       "      <th>len</th>\n",
       "      <th>num_rep</th>\n",
       "      <th>num_exc</th>\n",
       "      <th>emoji</th>\n",
       "    </tr>\n",
       "  </thead>\n",
       "  <tbody>\n",
       "    <tr>\n",
       "      <th>0</th>\n",
       "      <td>3</td>\n",
       "      <td>0</td>\n",
       "      <td>0</td>\n",
       "      <td>3</td>\n",
       "      <td>2</td>\n",
       "      <td>!!! RT @mayasolovely: As a woman you shouldn't...</td>\n",
       "      <td>woman shouldnt complain clean hous man alway t...</td>\n",
       "      <td>[woman, shouldnt, complain, clean, hous, man, ...</td>\n",
       "      <td>0.199</td>\n",
       "      <td>0.616</td>\n",
       "      <td>0.186</td>\n",
       "      <td>-0.0382</td>\n",
       "      <td>1</td>\n",
       "      <td>55</td>\n",
       "      <td>1</td>\n",
       "      <td>3</td>\n",
       "      <td>0</td>\n",
       "    </tr>\n",
       "    <tr>\n",
       "      <th>1</th>\n",
       "      <td>3</td>\n",
       "      <td>0</td>\n",
       "      <td>3</td>\n",
       "      <td>0</td>\n",
       "      <td>1</td>\n",
       "      <td>!!!!! RT @mleew17: boy dats cold...tyga dwn ba...</td>\n",
       "      <td>boy dat cold tyga dwn bad cuffin dat hoe st place</td>\n",
       "      <td>[boy, dat, cold, tyga, dwn, bad, cuffin, dat, ...</td>\n",
       "      <td>0.259</td>\n",
       "      <td>0.741</td>\n",
       "      <td>0.000</td>\n",
       "      <td>-0.5423</td>\n",
       "      <td>1</td>\n",
       "      <td>49</td>\n",
       "      <td>1</td>\n",
       "      <td>7</td>\n",
       "      <td>0</td>\n",
       "    </tr>\n",
       "    <tr>\n",
       "      <th>2</th>\n",
       "      <td>3</td>\n",
       "      <td>0</td>\n",
       "      <td>3</td>\n",
       "      <td>0</td>\n",
       "      <td>1</td>\n",
       "      <td>!!!!!!! RT @UrKindOfBrand Dawg!!!! RT @80sbaby...</td>\n",
       "      <td>dawg ever fuck bitch start cri confus shit</td>\n",
       "      <td>[dawg, ever, fuck, bitch, start, cri, confus, ...</td>\n",
       "      <td>0.686</td>\n",
       "      <td>0.314</td>\n",
       "      <td>0.000</td>\n",
       "      <td>-0.8979</td>\n",
       "      <td>1</td>\n",
       "      <td>42</td>\n",
       "      <td>1</td>\n",
       "      <td>11</td>\n",
       "      <td>0</td>\n",
       "    </tr>\n",
       "    <tr>\n",
       "      <th>3</th>\n",
       "      <td>3</td>\n",
       "      <td>0</td>\n",
       "      <td>2</td>\n",
       "      <td>1</td>\n",
       "      <td>1</td>\n",
       "      <td>!!!!!!!!! RT @C_G_Anderson: @viva_based she lo...</td>\n",
       "      <td>look like tranni</td>\n",
       "      <td>[look, like, tranni]</td>\n",
       "      <td>0.000</td>\n",
       "      <td>0.444</td>\n",
       "      <td>0.556</td>\n",
       "      <td>0.3612</td>\n",
       "      <td>1</td>\n",
       "      <td>16</td>\n",
       "      <td>1</td>\n",
       "      <td>9</td>\n",
       "      <td>0</td>\n",
       "    </tr>\n",
       "    <tr>\n",
       "      <th>4</th>\n",
       "      <td>6</td>\n",
       "      <td>0</td>\n",
       "      <td>6</td>\n",
       "      <td>0</td>\n",
       "      <td>1</td>\n",
       "      <td>!!!!!!!!!!!!! RT @ShenikaRoberts: The shit you...</td>\n",
       "      <td>shit hear might true might faker bitch told ya</td>\n",
       "      <td>[shit, hear, might, true, might, faker, bitch,...</td>\n",
       "      <td>0.457</td>\n",
       "      <td>0.370</td>\n",
       "      <td>0.173</td>\n",
       "      <td>-0.6808</td>\n",
       "      <td>1</td>\n",
       "      <td>46</td>\n",
       "      <td>1</td>\n",
       "      <td>13</td>\n",
       "      <td>0</td>\n",
       "    </tr>\n",
       "  </tbody>\n",
       "</table>\n",
       "</div>"
      ],
      "text/plain": [
       "   count  hate_speech  offensive_language  neither  class  \\\n",
       "0      3            0                   0        3      2   \n",
       "1      3            0                   3        0      1   \n",
       "2      3            0                   3        0      1   \n",
       "3      3            0                   2        1      1   \n",
       "4      6            0                   6        0      1   \n",
       "\n",
       "                                               tweet  \\\n",
       "0  !!! RT @mayasolovely: As a woman you shouldn't...   \n",
       "1  !!!!! RT @mleew17: boy dats cold...tyga dwn ba...   \n",
       "2  !!!!!!! RT @UrKindOfBrand Dawg!!!! RT @80sbaby...   \n",
       "3  !!!!!!!!! RT @C_G_Anderson: @viva_based she lo...   \n",
       "4  !!!!!!!!!!!!! RT @ShenikaRoberts: The shit you...   \n",
       "\n",
       "                                         tweet_clean  \\\n",
       "0  woman shouldnt complain clean hous man alway t...   \n",
       "1  boy dat cold tyga dwn bad cuffin dat hoe st place   \n",
       "2         dawg ever fuck bitch start cri confus shit   \n",
       "3                                   look like tranni   \n",
       "4     shit hear might true might faker bitch told ya   \n",
       "\n",
       "                                          tweet_list    neg    neu    pos  \\\n",
       "0  [woman, shouldnt, complain, clean, hous, man, ...  0.199  0.616  0.186   \n",
       "1  [boy, dat, cold, tyga, dwn, bad, cuffin, dat, ...  0.259  0.741  0.000   \n",
       "2  [dawg, ever, fuck, bitch, start, cri, confus, ...  0.686  0.314  0.000   \n",
       "3                               [look, like, tranni]  0.000  0.444  0.556   \n",
       "4  [shit, hear, might, true, might, faker, bitch,...  0.457  0.370  0.173   \n",
       "\n",
       "   compound  rt  len  num_rep  num_exc  emoji  \n",
       "0   -0.0382   1   55        1        3      0  \n",
       "1   -0.5423   1   49        1        7      0  \n",
       "2   -0.8979   1   42        1       11      0  \n",
       "3    0.3612   1   16        1        9      0  \n",
       "4   -0.6808   1   46        1       13      0  "
      ]
     },
     "execution_count": 25,
     "metadata": {},
     "output_type": "execute_result"
    }
   ],
   "source": [
    "df.head()"
   ]
  },
  {
   "cell_type": "code",
   "execution_count": 26,
   "id": "perceived-guard",
   "metadata": {},
   "outputs": [
    {
     "data": {
      "text/plain": [
       "Index(['count', 'hate_speech', 'offensive_language', 'neither', 'class',\n",
       "       'tweet', 'tweet_clean', 'tweet_list', 'neg', 'neu', 'pos', 'compound',\n",
       "       'rt', 'len', 'num_rep', 'num_exc', 'emoji'],\n",
       "      dtype='object')"
      ]
     },
     "execution_count": 26,
     "metadata": {},
     "output_type": "execute_result"
    }
   ],
   "source": [
    "df.columns"
   ]
  },
  {
   "cell_type": "code",
   "execution_count": 27,
   "id": "fitted-strike",
   "metadata": {},
   "outputs": [],
   "source": [
    "df.to_csv('data/featured_data.csv', index = False)"
   ]
  }
 ],
 "metadata": {
  "kernelspec": {
   "display_name": "Python 3",
   "language": "python",
   "name": "python3"
  },
  "language_info": {
   "codemirror_mode": {
    "name": "ipython",
    "version": 3
   },
   "file_extension": ".py",
   "mimetype": "text/x-python",
   "name": "python",
   "nbconvert_exporter": "python",
   "pygments_lexer": "ipython3",
   "version": "3.7.9"
  }
 },
 "nbformat": 4,
 "nbformat_minor": 5
}
